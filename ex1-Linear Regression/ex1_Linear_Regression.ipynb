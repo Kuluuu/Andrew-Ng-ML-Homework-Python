{
  "nbformat": 4,
  "nbformat_minor": 0,
  "metadata": {
    "colab": {
      "name": "ex1-Linear Regression.ipynb",
      "provenance": [],
      "collapsed_sections": [
        "4ikU7PuVT3rX"
      ]
    },
    "kernelspec": {
      "name": "python3",
      "display_name": "Python 3"
    },
    "language_info": {
      "name": "python"
    }
  },
  "cells": [
    {
      "cell_type": "markdown",
      "source": [
        "# 导入包、配置路径"
      ],
      "metadata": {
        "id": "4ikU7PuVT3rX"
      }
    },
    {
      "cell_type": "code",
      "execution_count": 130,
      "metadata": {
        "id": "YBD4hLC0R8B2"
      },
      "outputs": [],
      "source": [
        "import numpy as np\n",
        "import pandas as pd\n",
        "from matplotlib import pyplot as plt\n",
        "import math\n",
        "\n",
        "# 数据文件夹路径\n",
        "path = \"/content/drive/MyDrive/Colab Notebooks/AndrewNg-Machine-Learning-Homework/ex1-Linear-Regression\""
      ]
    },
    {
      "cell_type": "markdown",
      "source": [
        "# 假设函数\n",
        "## 单样本：\n",
        "$$h(\\theta)\n",
        "=\\theta^Tx\n",
        "=\\theta_0+\\theta_1x$$\n",
        "其中：$h(\\theta)$为标量，$\\theta$为(n+1)×1维，$x$为(n+1)×1维。\n",
        "\n",
        "## 多样本：\n",
        "$$h(\\theta)\n",
        "=X^T\\theta$$\n",
        "其中：$h(\\theta)$为标量，$\\theta$为(n+1)×1维，$X$为m×(n+1)维。"
      ],
      "metadata": {
        "id": "xDjglShWIMGi"
      }
    },
    {
      "cell_type": "code",
      "source": [
        "def Hypothesis(X, theta):\n",
        "  return X @ theta"
      ],
      "metadata": {
        "id": "AliXBQIcILx2"
      },
      "execution_count": 131,
      "outputs": []
    },
    {
      "cell_type": "markdown",
      "source": [
        "## 代价函数\n",
        "### 原公式：\n",
        "$$J(\\theta)\n",
        "=\\frac{1}{2m}\\sum_{i=1}^{m}(\\hat y^{(i)}-y^{(i)})^2\n",
        "=\\frac{1}{2m}[(\\hat y^{(1)}-y^{(1)})^2+(\\hat y^{(2)}-y^{(2)})^2+...+(\\hat y^{(m)}-y^{(m)})^2]$$\n",
        "其中：$J(\\theta)$为标量。\n",
        "### 实现公式：\n",
        "$$J(\\theta)=\\frac{1}{2m}(\\hat y-y)^T(\\hat y-y)$$\n",
        "其中：$J(\\theta)$为标量，\n",
        "$$(\\hat y-y)^T=\n",
        "\\begin{bmatrix}\n",
        "\\hat y^{(1)}-y^{(1)}  & \\hat y^{(2)}-y^{(2)} & ... & \\hat y^{(m)}-y^{(m)}\n",
        "\\end{bmatrix}_{1\\times m}\n",
        "\\\\\n",
        "(\\hat y-y)=\n",
        "\\begin{bmatrix}\n",
        "\\hat y^{(1)}-y^{(1)}\n",
        "\\\\\n",
        "\\hat y^{(2)}-y^{(2)}\n",
        " \\\\\n",
        "...\n",
        " \\\\\n",
        "\\hat y^{(m)}-y^{(m)}\n",
        "\\end{bmatrix}_{m\\times 1}\n",
        "$$"
      ],
      "metadata": {
        "id": "L7YWeWtHFnbu"
      }
    },
    {
      "cell_type": "code",
      "source": [
        "def CostFunction(X, Y, theta):\n",
        "  m = len(Y)\n",
        "  y_hat = Hypothesis(X, theta)\n",
        "  return 1/(2*m) * (y_hat - Y).T@(y_hat - Y)"
      ],
      "metadata": {
        "id": "HeGhOUcMHMb8"
      },
      "execution_count": 132,
      "outputs": []
    },
    {
      "cell_type": "markdown",
      "source": [
        "## 计算权重偏导\n",
        "### 原公式\n",
        "Repeat j from 0 to n:\n",
        "$$\\frac{\\partial J(\\theta)}{\\partial \\theta_j}\n",
        "=\\frac{1}{m}\\sum_{i=1}^{m} (\\hat y^{(i)}-y^{(i)})x_j^{(i)}\n",
        "=\\frac{1}{m}[(\\hat y^{(1)}-y^{(1)})x_j^{(1)}+(\\hat y^{(2)}-y^{(2)})x_j^{(2)}+...+(\\hat y^{(m)}-y^{(m)})x_j^{(m)}]$$\n",
        "其中：$\\frac{\\partial J(\\theta)}{\\partial \\theta_j}$为标量，\n",
        "$$(\\hat y-y)=\n",
        "\\begin{bmatrix}\n",
        "\\hat y^{(1)}-y^{(1)}\n",
        "\\\\\n",
        "\\hat y^{(2)}-y^{(2)}\n",
        " \\\\\n",
        "...\n",
        " \\\\\n",
        "\\hat y^{(m)}-y^{(m)}\n",
        "\\end{bmatrix}_{m\\times 1}$$\n",
        "\n",
        "### 实现公式：\n",
        "$$\\frac{\\partial J(\\theta)}{\\partial \\theta}\n",
        "=\\frac{1}{m}X^T(\\hat y-y)$$\n",
        "其中：\n",
        "$\\frac{\\partial J(\\theta)}{\\partial \\theta}$为(n+1)×1维，\n",
        "$$X^T=\\begin{bmatrix}\n",
        "x_0^{(1)}  & x_0^{(2)} & ... & x_0^{(m)}\\\\\n",
        "x_1^{(1)}  & x_1^{(2)} & ... & x_1^{(m)}\\\\\n",
        " \\vdots   & \\vdots & \\vdots & \\vdots\\\\\n",
        "x_n^{(1)}  & x_n^{(2)} & ... & x_n^{(m)}\n",
        "\\end{bmatrix}_{(n+1)\\times m}\n",
        "(\\hat y-y)=\n",
        "\\begin{bmatrix}\n",
        "\\hat y^{(1)}-y^{(1)}\n",
        "\\\\\n",
        "\\hat y^{(2)}-y^{(2)}\n",
        " \\\\\n",
        "...\n",
        " \\\\\n",
        "\\hat y^{(m)}-y^{(m)}\n",
        "\\end{bmatrix}_{m\\times 1}$$"
      ],
      "metadata": {
        "id": "gdHpLI8MMT_4"
      }
    },
    {
      "cell_type": "code",
      "source": [
        "def ComputePartial(X, Y, theta):\n",
        "  m = len(Y)\n",
        "  y_hat = Hypothesis(X, theta)\n",
        "  return 1/m * X.T @ (y_hat - Y)"
      ],
      "metadata": {
        "id": "8Q2_wHgvMUJ0"
      },
      "execution_count": 133,
      "outputs": []
    },
    {
      "cell_type": "markdown",
      "source": [
        "## 梯度下降迭代并计算J(θ)\n",
        "公式：\n",
        "$$\n",
        "\\theta = \\theta - \\alpha\\frac{\\partial J(\\theta)}{\\partial \\theta}\n",
        "$$"
      ],
      "metadata": {
        "id": "Ud6SYjlnYsSt"
      }
    },
    {
      "cell_type": "code",
      "source": [
        "def GradientDescent(X, Y, theta, Iterations, LearningRate):\n",
        "  cost = np.zeros(Iterations)\n",
        "  for i in range(0, Iterations):\n",
        "    cost[i] = CostFunction(X, Y, theta)\n",
        "    theta = theta - LearningRate * ComputePartial(X, Y, theta)\n",
        "  return cost, theta"
      ],
      "metadata": {
        "id": "B_9b34dZYv5O"
      },
      "execution_count": 134,
      "outputs": []
    },
    {
      "cell_type": "markdown",
      "source": [
        "# 单变量线性回归"
      ],
      "metadata": {
        "id": "UzqrSHzmUVm7"
      }
    },
    {
      "cell_type": "markdown",
      "source": [
        "## 加载数据"
      ],
      "metadata": {
        "id": "KU2kgD4pU062"
      }
    },
    {
      "cell_type": "code",
      "source": [
        "path1 = path + \"/ex1data1.txt\"\n",
        "data = pd.read_csv(path1, header=None, names=[\"Population\", \"Profit\"]) # sep：读取csv文件时指定的分隔符，默认为逗号。\n",
        "data"
      ],
      "metadata": {
        "colab": {
          "base_uri": "https://localhost:8080/",
          "height": 424
        },
        "id": "7GzOvFLHUwL2",
        "outputId": "1fa96d26-e22a-4de9-a155-be076c4df2a5"
      },
      "execution_count": 135,
      "outputs": [
        {
          "output_type": "execute_result",
          "data": {
            "text/plain": [
              "    Population    Profit\n",
              "0       6.1101  17.59200\n",
              "1       5.5277   9.13020\n",
              "2       8.5186  13.66200\n",
              "3       7.0032  11.85400\n",
              "4       5.8598   6.82330\n",
              "..         ...       ...\n",
              "92      5.8707   7.20290\n",
              "93      5.3054   1.98690\n",
              "94      8.2934   0.14454\n",
              "95     13.3940   9.05510\n",
              "96      5.4369   0.61705\n",
              "\n",
              "[97 rows x 2 columns]"
            ],
            "text/html": [
              "\n",
              "  <div id=\"df-3844c9d4-2281-4dae-9ead-19f3b9cdffc8\">\n",
              "    <div class=\"colab-df-container\">\n",
              "      <div>\n",
              "<style scoped>\n",
              "    .dataframe tbody tr th:only-of-type {\n",
              "        vertical-align: middle;\n",
              "    }\n",
              "\n",
              "    .dataframe tbody tr th {\n",
              "        vertical-align: top;\n",
              "    }\n",
              "\n",
              "    .dataframe thead th {\n",
              "        text-align: right;\n",
              "    }\n",
              "</style>\n",
              "<table border=\"1\" class=\"dataframe\">\n",
              "  <thead>\n",
              "    <tr style=\"text-align: right;\">\n",
              "      <th></th>\n",
              "      <th>Population</th>\n",
              "      <th>Profit</th>\n",
              "    </tr>\n",
              "  </thead>\n",
              "  <tbody>\n",
              "    <tr>\n",
              "      <th>0</th>\n",
              "      <td>6.1101</td>\n",
              "      <td>17.59200</td>\n",
              "    </tr>\n",
              "    <tr>\n",
              "      <th>1</th>\n",
              "      <td>5.5277</td>\n",
              "      <td>9.13020</td>\n",
              "    </tr>\n",
              "    <tr>\n",
              "      <th>2</th>\n",
              "      <td>8.5186</td>\n",
              "      <td>13.66200</td>\n",
              "    </tr>\n",
              "    <tr>\n",
              "      <th>3</th>\n",
              "      <td>7.0032</td>\n",
              "      <td>11.85400</td>\n",
              "    </tr>\n",
              "    <tr>\n",
              "      <th>4</th>\n",
              "      <td>5.8598</td>\n",
              "      <td>6.82330</td>\n",
              "    </tr>\n",
              "    <tr>\n",
              "      <th>...</th>\n",
              "      <td>...</td>\n",
              "      <td>...</td>\n",
              "    </tr>\n",
              "    <tr>\n",
              "      <th>92</th>\n",
              "      <td>5.8707</td>\n",
              "      <td>7.20290</td>\n",
              "    </tr>\n",
              "    <tr>\n",
              "      <th>93</th>\n",
              "      <td>5.3054</td>\n",
              "      <td>1.98690</td>\n",
              "    </tr>\n",
              "    <tr>\n",
              "      <th>94</th>\n",
              "      <td>8.2934</td>\n",
              "      <td>0.14454</td>\n",
              "    </tr>\n",
              "    <tr>\n",
              "      <th>95</th>\n",
              "      <td>13.3940</td>\n",
              "      <td>9.05510</td>\n",
              "    </tr>\n",
              "    <tr>\n",
              "      <th>96</th>\n",
              "      <td>5.4369</td>\n",
              "      <td>0.61705</td>\n",
              "    </tr>\n",
              "  </tbody>\n",
              "</table>\n",
              "<p>97 rows × 2 columns</p>\n",
              "</div>\n",
              "      <button class=\"colab-df-convert\" onclick=\"convertToInteractive('df-3844c9d4-2281-4dae-9ead-19f3b9cdffc8')\"\n",
              "              title=\"Convert this dataframe to an interactive table.\"\n",
              "              style=\"display:none;\">\n",
              "        \n",
              "  <svg xmlns=\"http://www.w3.org/2000/svg\" height=\"24px\"viewBox=\"0 0 24 24\"\n",
              "       width=\"24px\">\n",
              "    <path d=\"M0 0h24v24H0V0z\" fill=\"none\"/>\n",
              "    <path d=\"M18.56 5.44l.94 2.06.94-2.06 2.06-.94-2.06-.94-.94-2.06-.94 2.06-2.06.94zm-11 1L8.5 8.5l.94-2.06 2.06-.94-2.06-.94L8.5 2.5l-.94 2.06-2.06.94zm10 10l.94 2.06.94-2.06 2.06-.94-2.06-.94-.94-2.06-.94 2.06-2.06.94z\"/><path d=\"M17.41 7.96l-1.37-1.37c-.4-.4-.92-.59-1.43-.59-.52 0-1.04.2-1.43.59L10.3 9.45l-7.72 7.72c-.78.78-.78 2.05 0 2.83L4 21.41c.39.39.9.59 1.41.59.51 0 1.02-.2 1.41-.59l7.78-7.78 2.81-2.81c.8-.78.8-2.07 0-2.86zM5.41 20L4 18.59l7.72-7.72 1.47 1.35L5.41 20z\"/>\n",
              "  </svg>\n",
              "      </button>\n",
              "      \n",
              "  <style>\n",
              "    .colab-df-container {\n",
              "      display:flex;\n",
              "      flex-wrap:wrap;\n",
              "      gap: 12px;\n",
              "    }\n",
              "\n",
              "    .colab-df-convert {\n",
              "      background-color: #E8F0FE;\n",
              "      border: none;\n",
              "      border-radius: 50%;\n",
              "      cursor: pointer;\n",
              "      display: none;\n",
              "      fill: #1967D2;\n",
              "      height: 32px;\n",
              "      padding: 0 0 0 0;\n",
              "      width: 32px;\n",
              "    }\n",
              "\n",
              "    .colab-df-convert:hover {\n",
              "      background-color: #E2EBFA;\n",
              "      box-shadow: 0px 1px 2px rgba(60, 64, 67, 0.3), 0px 1px 3px 1px rgba(60, 64, 67, 0.15);\n",
              "      fill: #174EA6;\n",
              "    }\n",
              "\n",
              "    [theme=dark] .colab-df-convert {\n",
              "      background-color: #3B4455;\n",
              "      fill: #D2E3FC;\n",
              "    }\n",
              "\n",
              "    [theme=dark] .colab-df-convert:hover {\n",
              "      background-color: #434B5C;\n",
              "      box-shadow: 0px 1px 3px 1px rgba(0, 0, 0, 0.15);\n",
              "      filter: drop-shadow(0px 1px 2px rgba(0, 0, 0, 0.3));\n",
              "      fill: #FFFFFF;\n",
              "    }\n",
              "  </style>\n",
              "\n",
              "      <script>\n",
              "        const buttonEl =\n",
              "          document.querySelector('#df-3844c9d4-2281-4dae-9ead-19f3b9cdffc8 button.colab-df-convert');\n",
              "        buttonEl.style.display =\n",
              "          google.colab.kernel.accessAllowed ? 'block' : 'none';\n",
              "\n",
              "        async function convertToInteractive(key) {\n",
              "          const element = document.querySelector('#df-3844c9d4-2281-4dae-9ead-19f3b9cdffc8');\n",
              "          const dataTable =\n",
              "            await google.colab.kernel.invokeFunction('convertToInteractive',\n",
              "                                                     [key], {});\n",
              "          if (!dataTable) return;\n",
              "\n",
              "          const docLinkHtml = 'Like what you see? Visit the ' +\n",
              "            '<a target=\"_blank\" href=https://colab.research.google.com/notebooks/data_table.ipynb>data table notebook</a>'\n",
              "            + ' to learn more about interactive tables.';\n",
              "          element.innerHTML = '';\n",
              "          dataTable['output_type'] = 'display_data';\n",
              "          await google.colab.output.renderOutput(dataTable, element);\n",
              "          const docLink = document.createElement('div');\n",
              "          docLink.innerHTML = docLinkHtml;\n",
              "          element.appendChild(docLink);\n",
              "        }\n",
              "      </script>\n",
              "    </div>\n",
              "  </div>\n",
              "  "
            ]
          },
          "metadata": {},
          "execution_count": 135
        }
      ]
    },
    {
      "cell_type": "markdown",
      "source": [
        "## 切割数据"
      ],
      "metadata": {
        "id": "_0Bhg5mgWzp2"
      }
    },
    {
      "cell_type": "code",
      "source": [
        "data.insert(0, 'Ones', 1) # 给数据增加一维全1"
      ],
      "metadata": {
        "id": "tZK-bNiOwf31"
      },
      "execution_count": 136,
      "outputs": []
    },
    {
      "cell_type": "code",
      "source": [
        "cols = data.shape[1] # 获取列数\n",
        "\n",
        "X = np.array(data.iloc[:, 0:cols-1]) # [97, 2]\n",
        "Y = np.array(data.iloc[:, cols-1:cols])   # [97, 1]\n",
        "X, Y"
      ],
      "metadata": {
        "colab": {
          "base_uri": "https://localhost:8080/"
        },
        "id": "7mE-0jHeWywM",
        "outputId": "1866e50e-a169-4ca5-e2eb-a68ceeb8b829"
      },
      "execution_count": 137,
      "outputs": [
        {
          "output_type": "execute_result",
          "data": {
            "text/plain": [
              "(array([[ 1.    ,  6.1101],\n",
              "        [ 1.    ,  5.5277],\n",
              "        [ 1.    ,  8.5186],\n",
              "        [ 1.    ,  7.0032],\n",
              "        [ 1.    ,  5.8598],\n",
              "        [ 1.    ,  8.3829],\n",
              "        [ 1.    ,  7.4764],\n",
              "        [ 1.    ,  8.5781],\n",
              "        [ 1.    ,  6.4862],\n",
              "        [ 1.    ,  5.0546],\n",
              "        [ 1.    ,  5.7107],\n",
              "        [ 1.    , 14.164 ],\n",
              "        [ 1.    ,  5.734 ],\n",
              "        [ 1.    ,  8.4084],\n",
              "        [ 1.    ,  5.6407],\n",
              "        [ 1.    ,  5.3794],\n",
              "        [ 1.    ,  6.3654],\n",
              "        [ 1.    ,  5.1301],\n",
              "        [ 1.    ,  6.4296],\n",
              "        [ 1.    ,  7.0708],\n",
              "        [ 1.    ,  6.1891],\n",
              "        [ 1.    , 20.27  ],\n",
              "        [ 1.    ,  5.4901],\n",
              "        [ 1.    ,  6.3261],\n",
              "        [ 1.    ,  5.5649],\n",
              "        [ 1.    , 18.945 ],\n",
              "        [ 1.    , 12.828 ],\n",
              "        [ 1.    , 10.957 ],\n",
              "        [ 1.    , 13.176 ],\n",
              "        [ 1.    , 22.203 ],\n",
              "        [ 1.    ,  5.2524],\n",
              "        [ 1.    ,  6.5894],\n",
              "        [ 1.    ,  9.2482],\n",
              "        [ 1.    ,  5.8918],\n",
              "        [ 1.    ,  8.2111],\n",
              "        [ 1.    ,  7.9334],\n",
              "        [ 1.    ,  8.0959],\n",
              "        [ 1.    ,  5.6063],\n",
              "        [ 1.    , 12.836 ],\n",
              "        [ 1.    ,  6.3534],\n",
              "        [ 1.    ,  5.4069],\n",
              "        [ 1.    ,  6.8825],\n",
              "        [ 1.    , 11.708 ],\n",
              "        [ 1.    ,  5.7737],\n",
              "        [ 1.    ,  7.8247],\n",
              "        [ 1.    ,  7.0931],\n",
              "        [ 1.    ,  5.0702],\n",
              "        [ 1.    ,  5.8014],\n",
              "        [ 1.    , 11.7   ],\n",
              "        [ 1.    ,  5.5416],\n",
              "        [ 1.    ,  7.5402],\n",
              "        [ 1.    ,  5.3077],\n",
              "        [ 1.    ,  7.4239],\n",
              "        [ 1.    ,  7.6031],\n",
              "        [ 1.    ,  6.3328],\n",
              "        [ 1.    ,  6.3589],\n",
              "        [ 1.    ,  6.2742],\n",
              "        [ 1.    ,  5.6397],\n",
              "        [ 1.    ,  9.3102],\n",
              "        [ 1.    ,  9.4536],\n",
              "        [ 1.    ,  8.8254],\n",
              "        [ 1.    ,  5.1793],\n",
              "        [ 1.    , 21.279 ],\n",
              "        [ 1.    , 14.908 ],\n",
              "        [ 1.    , 18.959 ],\n",
              "        [ 1.    ,  7.2182],\n",
              "        [ 1.    ,  8.2951],\n",
              "        [ 1.    , 10.236 ],\n",
              "        [ 1.    ,  5.4994],\n",
              "        [ 1.    , 20.341 ],\n",
              "        [ 1.    , 10.136 ],\n",
              "        [ 1.    ,  7.3345],\n",
              "        [ 1.    ,  6.0062],\n",
              "        [ 1.    ,  7.2259],\n",
              "        [ 1.    ,  5.0269],\n",
              "        [ 1.    ,  6.5479],\n",
              "        [ 1.    ,  7.5386],\n",
              "        [ 1.    ,  5.0365],\n",
              "        [ 1.    , 10.274 ],\n",
              "        [ 1.    ,  5.1077],\n",
              "        [ 1.    ,  5.7292],\n",
              "        [ 1.    ,  5.1884],\n",
              "        [ 1.    ,  6.3557],\n",
              "        [ 1.    ,  9.7687],\n",
              "        [ 1.    ,  6.5159],\n",
              "        [ 1.    ,  8.5172],\n",
              "        [ 1.    ,  9.1802],\n",
              "        [ 1.    ,  6.002 ],\n",
              "        [ 1.    ,  5.5204],\n",
              "        [ 1.    ,  5.0594],\n",
              "        [ 1.    ,  5.7077],\n",
              "        [ 1.    ,  7.6366],\n",
              "        [ 1.    ,  5.8707],\n",
              "        [ 1.    ,  5.3054],\n",
              "        [ 1.    ,  8.2934],\n",
              "        [ 1.    , 13.394 ],\n",
              "        [ 1.    ,  5.4369]]), array([[17.592  ],\n",
              "        [ 9.1302 ],\n",
              "        [13.662  ],\n",
              "        [11.854  ],\n",
              "        [ 6.8233 ],\n",
              "        [11.886  ],\n",
              "        [ 4.3483 ],\n",
              "        [12.     ],\n",
              "        [ 6.5987 ],\n",
              "        [ 3.8166 ],\n",
              "        [ 3.2522 ],\n",
              "        [15.505  ],\n",
              "        [ 3.1551 ],\n",
              "        [ 7.2258 ],\n",
              "        [ 0.71618],\n",
              "        [ 3.5129 ],\n",
              "        [ 5.3048 ],\n",
              "        [ 0.56077],\n",
              "        [ 3.6518 ],\n",
              "        [ 5.3893 ],\n",
              "        [ 3.1386 ],\n",
              "        [21.767  ],\n",
              "        [ 4.263  ],\n",
              "        [ 5.1875 ],\n",
              "        [ 3.0825 ],\n",
              "        [22.638  ],\n",
              "        [13.501  ],\n",
              "        [ 7.0467 ],\n",
              "        [14.692  ],\n",
              "        [24.147  ],\n",
              "        [-1.22   ],\n",
              "        [ 5.9966 ],\n",
              "        [12.134  ],\n",
              "        [ 1.8495 ],\n",
              "        [ 6.5426 ],\n",
              "        [ 4.5623 ],\n",
              "        [ 4.1164 ],\n",
              "        [ 3.3928 ],\n",
              "        [10.117  ],\n",
              "        [ 5.4974 ],\n",
              "        [ 0.55657],\n",
              "        [ 3.9115 ],\n",
              "        [ 5.3854 ],\n",
              "        [ 2.4406 ],\n",
              "        [ 6.7318 ],\n",
              "        [ 1.0463 ],\n",
              "        [ 5.1337 ],\n",
              "        [ 1.844  ],\n",
              "        [ 8.0043 ],\n",
              "        [ 1.0179 ],\n",
              "        [ 6.7504 ],\n",
              "        [ 1.8396 ],\n",
              "        [ 4.2885 ],\n",
              "        [ 4.9981 ],\n",
              "        [ 1.4233 ],\n",
              "        [-1.4211 ],\n",
              "        [ 2.4756 ],\n",
              "        [ 4.6042 ],\n",
              "        [ 3.9624 ],\n",
              "        [ 5.4141 ],\n",
              "        [ 5.1694 ],\n",
              "        [-0.74279],\n",
              "        [17.929  ],\n",
              "        [12.054  ],\n",
              "        [17.054  ],\n",
              "        [ 4.8852 ],\n",
              "        [ 5.7442 ],\n",
              "        [ 7.7754 ],\n",
              "        [ 1.0173 ],\n",
              "        [20.992  ],\n",
              "        [ 6.6799 ],\n",
              "        [ 4.0259 ],\n",
              "        [ 1.2784 ],\n",
              "        [ 3.3411 ],\n",
              "        [-2.6807 ],\n",
              "        [ 0.29678],\n",
              "        [ 3.8845 ],\n",
              "        [ 5.7014 ],\n",
              "        [ 6.7526 ],\n",
              "        [ 2.0576 ],\n",
              "        [ 0.47953],\n",
              "        [ 0.20421],\n",
              "        [ 0.67861],\n",
              "        [ 7.5435 ],\n",
              "        [ 5.3436 ],\n",
              "        [ 4.2415 ],\n",
              "        [ 6.7981 ],\n",
              "        [ 0.92695],\n",
              "        [ 0.152  ],\n",
              "        [ 2.8214 ],\n",
              "        [ 1.8451 ],\n",
              "        [ 4.2959 ],\n",
              "        [ 7.2029 ],\n",
              "        [ 1.9869 ],\n",
              "        [ 0.14454],\n",
              "        [ 9.0551 ],\n",
              "        [ 0.61705]]))"
            ]
          },
          "metadata": {},
          "execution_count": 137
        }
      ]
    },
    {
      "cell_type": "markdown",
      "source": [
        "## 数据可视化"
      ],
      "metadata": {
        "id": "r_hCOxPZUi0V"
      }
    },
    {
      "cell_type": "code",
      "source": [
        "fig, ax = plt.subplots(figsize=(12, 8))\n",
        "plt.scatter(X[:, 1], Y, marker=\"x\", color=\"r\")\n",
        "ax.set_xlabel(\"Population of City in 10,000s\")\n",
        "ax.set_ylabel(\"Profit in $10,000s\")\n",
        "plt.xticks(np.arange(4, 25, 2))\n",
        "plt.yticks(np.arange(-5, 26, 5))\n",
        "plt.show()"
      ],
      "metadata": {
        "colab": {
          "base_uri": "https://localhost:8080/",
          "height": 497
        },
        "id": "uRfaH4T2UVp0",
        "outputId": "3516ecea-d856-4d14-970e-ec2de4c2239d"
      },
      "execution_count": 138,
      "outputs": [
        {
          "output_type": "display_data",
          "data": {
            "text/plain": [
              "<Figure size 864x576 with 1 Axes>"
            ],
            "image/png": "[encoded data removed]"
          },
          "metadata": {
            "needs_background": "light"
          }
        }
      ]
    },
    {
      "cell_type": "markdown",
      "source": [
        "## 运行梯度下降"
      ],
      "metadata": {
        "id": "AGtb-J5jZ-BD"
      }
    },
    {
      "cell_type": "code",
      "source": [
        "# 超参数\n",
        "Iterations = 1000\n",
        "LearningRate = 0.02\n",
        "\n",
        "theta = np.matrix(np.zeros(X.shape[1])).T\n",
        "\n",
        "cost, theta = GradientDescent(X, Y, theta, Iterations, LearningRate)\n",
        "# print(cost)"
      ],
      "metadata": {
        "id": "nCirYvf4Z-JB"
      },
      "execution_count": 139,
      "outputs": []
    },
    {
      "cell_type": "markdown",
      "source": [
        "## 绘制代价函数曲线"
      ],
      "metadata": {
        "id": "Y4rFr4XFiHhq"
      }
    },
    {
      "cell_type": "code",
      "source": [
        "fig, ax = plt.subplots(figsize=(12, 8))\n",
        "ax.plot(np.arange(Iterations), cost, 'r')\n",
        "ax.set_xlabel(\"Iterations\")\n",
        "ax.set_ylabel(\"Cost\")\n",
        "plt.show()"
      ],
      "metadata": {
        "colab": {
          "base_uri": "https://localhost:8080/",
          "height": 497
        },
        "id": "nmxkvB2tiHkm",
        "outputId": "9fac104b-71ed-428e-e2e7-76f368b0409f"
      },
      "execution_count": 140,
      "outputs": [
        {
          "output_type": "display_data",
          "data": {
            "text/plain": [
              "<Figure size 864x576 with 1 Axes>"
            ],
            "image/png": "[encoded data removed]"
          },
          "metadata": {
            "needs_background": "light"
          }
        }
      ]
    },
    {
      "cell_type": "markdown",
      "source": [
        "## 绘制拟合曲线"
      ],
      "metadata": {
        "id": "JnfK-ASGcx-r"
      }
    },
    {
      "cell_type": "code",
      "source": [
        "x = np.linspace(data.Population.min(), data.Population.max(), 100)\n",
        "f = np.array(theta[0] + theta[1] * x)[0]\n",
        "\n",
        "fig, ax = plt.subplots(figsize=(12, 8))\n",
        "ax.plot(x, f, 'b', label='Linear regression')\n",
        "ax.scatter(X[:, 1], Y[:, 0], color='r', marker=\"x\", label=\"Training data\")\n",
        "ax.legend(loc=4)\n",
        "plt.xticks(np.arange(4, 25, 2))\n",
        "plt.yticks(np.arange(-5, 26, 5))\n",
        "ax.set_xlabel(\"Population of City in 10,000s\")\n",
        "ax.set_ylabel(\"Profit in $10,000s\")\n",
        "plt.show()"
      ],
      "metadata": {
        "colab": {
          "base_uri": "https://localhost:8080/",
          "height": 497
        },
        "id": "ZBYts_lwcxuZ",
        "outputId": "3de5659f-4a6e-40ac-9a17-4ee3ba59811a"
      },
      "execution_count": 141,
      "outputs": [
        {
          "output_type": "display_data",
          "data": {
            "text/plain": [
              "<Figure size 864x576 with 1 Axes>"
            ],
            "image/png": "[encoded data removed]"
          },
          "metadata": {
            "needs_background": "light"
          }
        }
      ]
    },
    {
      "cell_type": "markdown",
      "source": [
        "# 多变量线性回归"
      ],
      "metadata": {
        "id": "FC5LsqdsUa_9"
      }
    },
    {
      "cell_type": "markdown",
      "source": [
        "## 加载数据"
      ],
      "metadata": {
        "id": "A47lP28Gv_9H"
      }
    },
    {
      "cell_type": "code",
      "source": [
        "path2 = path + \"/ex1data2.txt\"\n",
        "data2 = pd.read_csv(path2, header=None, names=[\"size\", \"bedrooms\", \"price\"])\n",
        "data2"
      ],
      "metadata": {
        "id": "2wTQ3d6FUbFj",
        "colab": {
          "base_uri": "https://localhost:8080/",
          "height": 1000
        },
        "outputId": "1936aa06-6f0b-4669-d7c4-50eb36f5c4f2"
      },
      "execution_count": 142,
      "outputs": [
        {
          "output_type": "execute_result",
          "data": {
            "text/plain": [
              "    size  bedrooms   price\n",
              "0   2104         3  399900\n",
              "1   1600         3  329900\n",
              "2   2400         3  369000\n",
              "3   1416         2  232000\n",
              "4   3000         4  539900\n",
              "5   1985         4  299900\n",
              "6   1534         3  314900\n",
              "7   1427         3  198999\n",
              "8   1380         3  212000\n",
              "9   1494         3  242500\n",
              "10  1940         4  239999\n",
              "11  2000         3  347000\n",
              "12  1890         3  329999\n",
              "13  4478         5  699900\n",
              "14  1268         3  259900\n",
              "15  2300         4  449900\n",
              "16  1320         2  299900\n",
              "17  1236         3  199900\n",
              "18  2609         4  499998\n",
              "19  3031         4  599000\n",
              "20  1767         3  252900\n",
              "21  1888         2  255000\n",
              "22  1604         3  242900\n",
              "23  1962         4  259900\n",
              "24  3890         3  573900\n",
              "25  1100         3  249900\n",
              "26  1458         3  464500\n",
              "27  2526         3  469000\n",
              "28  2200         3  475000\n",
              "29  2637         3  299900\n",
              "30  1839         2  349900\n",
              "31  1000         1  169900\n",
              "32  2040         4  314900\n",
              "33  3137         3  579900\n",
              "34  1811         4  285900\n",
              "35  1437         3  249900\n",
              "36  1239         3  229900\n",
              "37  2132         4  345000\n",
              "38  4215         4  549000\n",
              "39  2162         4  287000\n",
              "40  1664         2  368500\n",
              "41  2238         3  329900\n",
              "42  2567         4  314000\n",
              "43  1200         3  299000\n",
              "44   852         2  179900\n",
              "45  1852         4  299900\n",
              "46  1203         3  239500"
            ],
            "text/html": [
              "\n",
              "  <div id=\"df-9e3c7a88-d616-4816-9f11-c6d78a3225e6\">\n",
              "    <div class=\"colab-df-container\">\n",
              "      <div>\n",
              "<style scoped>\n",
              "    .dataframe tbody tr th:only-of-type {\n",
              "        vertical-align: middle;\n",
              "    }\n",
              "\n",
              "    .dataframe tbody tr th {\n",
              "        vertical-align: top;\n",
              "    }\n",
              "\n",
              "    .dataframe thead th {\n",
              "        text-align: right;\n",
              "    }\n",
              "</style>\n",
              "<table border=\"1\" class=\"dataframe\">\n",
              "  <thead>\n",
              "    <tr style=\"text-align: right;\">\n",
              "      <th></th>\n",
              "      <th>size</th>\n",
              "      <th>bedrooms</th>\n",
              "      <th>price</th>\n",
              "    </tr>\n",
              "  </thead>\n",
              "  <tbody>\n",
              "    <tr>\n",
              "      <th>0</th>\n",
              "      <td>2104</td>\n",
              "      <td>3</td>\n",
              "      <td>399900</td>\n",
              "    </tr>\n",
              "    <tr>\n",
              "      <th>1</th>\n",
              "      <td>1600</td>\n",
              "      <td>3</td>\n",
              "      <td>329900</td>\n",
              "    </tr>\n",
              "    <tr>\n",
              "      <th>2</th>\n",
              "      <td>2400</td>\n",
              "      <td>3</td>\n",
              "      <td>369000</td>\n",
              "    </tr>\n",
              "    <tr>\n",
              "      <th>3</th>\n",
              "      <td>1416</td>\n",
              "      <td>2</td>\n",
              "      <td>232000</td>\n",
              "    </tr>\n",
              "    <tr>\n",
              "      <th>4</th>\n",
              "      <td>3000</td>\n",
              "      <td>4</td>\n",
              "      <td>539900</td>\n",
              "    </tr>\n",
              "    <tr>\n",
              "      <th>5</th>\n",
              "      <td>1985</td>\n",
              "      <td>4</td>\n",
              "      <td>299900</td>\n",
              "    </tr>\n",
              "    <tr>\n",
              "      <th>6</th>\n",
              "      <td>1534</td>\n",
              "      <td>3</td>\n",
              "      <td>314900</td>\n",
              "    </tr>\n",
              "    <tr>\n",
              "      <th>7</th>\n",
              "      <td>1427</td>\n",
              "      <td>3</td>\n",
              "      <td>198999</td>\n",
              "    </tr>\n",
              "    <tr>\n",
              "      <th>8</th>\n",
              "      <td>1380</td>\n",
              "      <td>3</td>\n",
              "      <td>212000</td>\n",
              "    </tr>\n",
              "    <tr>\n",
              "      <th>9</th>\n",
              "      <td>1494</td>\n",
              "      <td>3</td>\n",
              "      <td>242500</td>\n",
              "    </tr>\n",
              "    <tr>\n",
              "      <th>10</th>\n",
              "      <td>1940</td>\n",
              "      <td>4</td>\n",
              "      <td>239999</td>\n",
              "    </tr>\n",
              "    <tr>\n",
              "      <th>11</th>\n",
              "      <td>2000</td>\n",
              "      <td>3</td>\n",
              "      <td>347000</td>\n",
              "    </tr>\n",
              "    <tr>\n",
              "      <th>12</th>\n",
              "      <td>1890</td>\n",
              "      <td>3</td>\n",
              "      <td>329999</td>\n",
              "    </tr>\n",
              "    <tr>\n",
              "      <th>13</th>\n",
              "      <td>4478</td>\n",
              "      <td>5</td>\n",
              "      <td>699900</td>\n",
              "    </tr>\n",
              "    <tr>\n",
              "      <th>14</th>\n",
              "      <td>1268</td>\n",
              "      <td>3</td>\n",
              "      <td>259900</td>\n",
              "    </tr>\n",
              "    <tr>\n",
              "      <th>15</th>\n",
              "      <td>2300</td>\n",
              "      <td>4</td>\n",
              "      <td>449900</td>\n",
              "    </tr>\n",
              "    <tr>\n",
              "      <th>16</th>\n",
              "      <td>1320</td>\n",
              "      <td>2</td>\n",
              "      <td>299900</td>\n",
              "    </tr>\n",
              "    <tr>\n",
              "      <th>17</th>\n",
              "      <td>1236</td>\n",
              "      <td>3</td>\n",
              "      <td>199900</td>\n",
              "    </tr>\n",
              "    <tr>\n",
              "      <th>18</th>\n",
              "      <td>2609</td>\n",
              "      <td>4</td>\n",
              "      <td>499998</td>\n",
              "    </tr>\n",
              "    <tr>\n",
              "      <th>19</th>\n",
              "      <td>3031</td>\n",
              "      <td>4</td>\n",
              "      <td>599000</td>\n",
              "    </tr>\n",
              "    <tr>\n",
              "      <th>20</th>\n",
              "      <td>1767</td>\n",
              "      <td>3</td>\n",
              "      <td>252900</td>\n",
              "    </tr>\n",
              "    <tr>\n",
              "      <th>21</th>\n",
              "      <td>1888</td>\n",
              "      <td>2</td>\n",
              "      <td>255000</td>\n",
              "    </tr>\n",
              "    <tr>\n",
              "      <th>22</th>\n",
              "      <td>1604</td>\n",
              "      <td>3</td>\n",
              "      <td>242900</td>\n",
              "    </tr>\n",
              "    <tr>\n",
              "      <th>23</th>\n",
              "      <td>1962</td>\n",
              "      <td>4</td>\n",
              "      <td>259900</td>\n",
              "    </tr>\n",
              "    <tr>\n",
              "      <th>24</th>\n",
              "      <td>3890</td>\n",
              "      <td>3</td>\n",
              "      <td>573900</td>\n",
              "    </tr>\n",
              "    <tr>\n",
              "      <th>25</th>\n",
              "      <td>1100</td>\n",
              "      <td>3</td>\n",
              "      <td>249900</td>\n",
              "    </tr>\n",
              "    <tr>\n",
              "      <th>26</th>\n",
              "      <td>1458</td>\n",
              "      <td>3</td>\n",
              "      <td>464500</td>\n",
              "    </tr>\n",
              "    <tr>\n",
              "      <th>27</th>\n",
              "      <td>2526</td>\n",
              "      <td>3</td>\n",
              "      <td>469000</td>\n",
              "    </tr>\n",
              "    <tr>\n",
              "      <th>28</th>\n",
              "      <td>2200</td>\n",
              "      <td>3</td>\n",
              "      <td>475000</td>\n",
              "    </tr>\n",
              "    <tr>\n",
              "      <th>29</th>\n",
              "      <td>2637</td>\n",
              "      <td>3</td>\n",
              "      <td>299900</td>\n",
              "    </tr>\n",
              "    <tr>\n",
              "      <th>30</th>\n",
              "      <td>1839</td>\n",
              "      <td>2</td>\n",
              "      <td>349900</td>\n",
              "    </tr>\n",
              "    <tr>\n",
              "      <th>31</th>\n",
              "      <td>1000</td>\n",
              "      <td>1</td>\n",
              "      <td>169900</td>\n",
              "    </tr>\n",
              "    <tr>\n",
              "      <th>32</th>\n",
              "      <td>2040</td>\n",
              "      <td>4</td>\n",
              "      <td>314900</td>\n",
              "    </tr>\n",
              "    <tr>\n",
              "      <th>33</th>\n",
              "      <td>3137</td>\n",
              "      <td>3</td>\n",
              "      <td>579900</td>\n",
              "    </tr>\n",
              "    <tr>\n",
              "      <th>34</th>\n",
              "      <td>1811</td>\n",
              "      <td>4</td>\n",
              "      <td>285900</td>\n",
              "    </tr>\n",
              "    <tr>\n",
              "      <th>35</th>\n",
              "      <td>1437</td>\n",
              "      <td>3</td>\n",
              "      <td>249900</td>\n",
              "    </tr>\n",
              "    <tr>\n",
              "      <th>36</th>\n",
              "      <td>1239</td>\n",
              "      <td>3</td>\n",
              "      <td>229900</td>\n",
              "    </tr>\n",
              "    <tr>\n",
              "      <th>37</th>\n",
              "      <td>2132</td>\n",
              "      <td>4</td>\n",
              "      <td>345000</td>\n",
              "    </tr>\n",
              "    <tr>\n",
              "      <th>38</th>\n",
              "      <td>4215</td>\n",
              "      <td>4</td>\n",
              "      <td>549000</td>\n",
              "    </tr>\n",
              "    <tr>\n",
              "      <th>39</th>\n",
              "      <td>2162</td>\n",
              "      <td>4</td>\n",
              "      <td>287000</td>\n",
              "    </tr>\n",
              "    <tr>\n",
              "      <th>40</th>\n",
              "      <td>1664</td>\n",
              "      <td>2</td>\n",
              "      <td>368500</td>\n",
              "    </tr>\n",
              "    <tr>\n",
              "      <th>41</th>\n",
              "      <td>2238</td>\n",
              "      <td>3</td>\n",
              "      <td>329900</td>\n",
              "    </tr>\n",
              "    <tr>\n",
              "      <th>42</th>\n",
              "      <td>2567</td>\n",
              "      <td>4</td>\n",
              "      <td>314000</td>\n",
              "    </tr>\n",
              "    <tr>\n",
              "      <th>43</th>\n",
              "      <td>1200</td>\n",
              "      <td>3</td>\n",
              "      <td>299000</td>\n",
              "    </tr>\n",
              "    <tr>\n",
              "      <th>44</th>\n",
              "      <td>852</td>\n",
              "      <td>2</td>\n",
              "      <td>179900</td>\n",
              "    </tr>\n",
              "    <tr>\n",
              "      <th>45</th>\n",
              "      <td>1852</td>\n",
              "      <td>4</td>\n",
              "      <td>299900</td>\n",
              "    </tr>\n",
              "    <tr>\n",
              "      <th>46</th>\n",
              "      <td>1203</td>\n",
              "      <td>3</td>\n",
              "      <td>239500</td>\n",
              "    </tr>\n",
              "  </tbody>\n",
              "</table>\n",
              "</div>\n",
              "      <button class=\"colab-df-convert\" onclick=\"convertToInteractive('df-9e3c7a88-d616-4816-9f11-c6d78a3225e6')\"\n",
              "              title=\"Convert this dataframe to an interactive table.\"\n",
              "              style=\"display:none;\">\n",
              "        \n",
              "  <svg xmlns=\"http://www.w3.org/2000/svg\" height=\"24px\"viewBox=\"0 0 24 24\"\n",
              "       width=\"24px\">\n",
              "    <path d=\"M0 0h24v24H0V0z\" fill=\"none\"/>\n",
              "    <path d=\"M18.56 5.44l.94 2.06.94-2.06 2.06-.94-2.06-.94-.94-2.06-.94 2.06-2.06.94zm-11 1L8.5 8.5l.94-2.06 2.06-.94-2.06-.94L8.5 2.5l-.94 2.06-2.06.94zm10 10l.94 2.06.94-2.06 2.06-.94-2.06-.94-.94-2.06-.94 2.06-2.06.94z\"/><path d=\"M17.41 7.96l-1.37-1.37c-.4-.4-.92-.59-1.43-.59-.52 0-1.04.2-1.43.59L10.3 9.45l-7.72 7.72c-.78.78-.78 2.05 0 2.83L4 21.41c.39.39.9.59 1.41.59.51 0 1.02-.2 1.41-.59l7.78-7.78 2.81-2.81c.8-.78.8-2.07 0-2.86zM5.41 20L4 18.59l7.72-7.72 1.47 1.35L5.41 20z\"/>\n",
              "  </svg>\n",
              "      </button>\n",
              "      \n",
              "  <style>\n",
              "    .colab-df-container {\n",
              "      display:flex;\n",
              "      flex-wrap:wrap;\n",
              "      gap: 12px;\n",
              "    }\n",
              "\n",
              "    .colab-df-convert {\n",
              "      background-color: #E8F0FE;\n",
              "      border: none;\n",
              "      border-radius: 50%;\n",
              "      cursor: pointer;\n",
              "      display: none;\n",
              "      fill: #1967D2;\n",
              "      height: 32px;\n",
              "      padding: 0 0 0 0;\n",
              "      width: 32px;\n",
              "    }\n",
              "\n",
              "    .colab-df-convert:hover {\n",
              "      background-color: #E2EBFA;\n",
              "      box-shadow: 0px 1px 2px rgba(60, 64, 67, 0.3), 0px 1px 3px 1px rgba(60, 64, 67, 0.15);\n",
              "      fill: #174EA6;\n",
              "    }\n",
              "\n",
              "    [theme=dark] .colab-df-convert {\n",
              "      background-color: #3B4455;\n",
              "      fill: #D2E3FC;\n",
              "    }\n",
              "\n",
              "    [theme=dark] .colab-df-convert:hover {\n",
              "      background-color: #434B5C;\n",
              "      box-shadow: 0px 1px 3px 1px rgba(0, 0, 0, 0.15);\n",
              "      filter: drop-shadow(0px 1px 2px rgba(0, 0, 0, 0.3));\n",
              "      fill: #FFFFFF;\n",
              "    }\n",
              "  </style>\n",
              "\n",
              "      <script>\n",
              "        const buttonEl =\n",
              "          document.querySelector('#df-9e3c7a88-d616-4816-9f11-c6d78a3225e6 button.colab-df-convert');\n",
              "        buttonEl.style.display =\n",
              "          google.colab.kernel.accessAllowed ? 'block' : 'none';\n",
              "\n",
              "        async function convertToInteractive(key) {\n",
              "          const element = document.querySelector('#df-9e3c7a88-d616-4816-9f11-c6d78a3225e6');\n",
              "          const dataTable =\n",
              "            await google.colab.kernel.invokeFunction('convertToInteractive',\n",
              "                                                     [key], {});\n",
              "          if (!dataTable) return;\n",
              "\n",
              "          const docLinkHtml = 'Like what you see? Visit the ' +\n",
              "            '<a target=\"_blank\" href=https://colab.research.google.com/notebooks/data_table.ipynb>data table notebook</a>'\n",
              "            + ' to learn more about interactive tables.';\n",
              "          element.innerHTML = '';\n",
              "          dataTable['output_type'] = 'display_data';\n",
              "          await google.colab.output.renderOutput(dataTable, element);\n",
              "          const docLink = document.createElement('div');\n",
              "          docLink.innerHTML = docLinkHtml;\n",
              "          element.appendChild(docLink);\n",
              "        }\n",
              "      </script>\n",
              "    </div>\n",
              "  </div>\n",
              "  "
            ]
          },
          "metadata": {},
          "execution_count": 142
        }
      ]
    },
    {
      "cell_type": "markdown",
      "source": [
        "## 数据切割"
      ],
      "metadata": {
        "id": "k45GstdQwCXF"
      }
    },
    {
      "cell_type": "code",
      "source": [
        "data2.insert(0, \"Ones\", 1) # 增加一维"
      ],
      "metadata": {
        "id": "H85PY38fwYgr"
      },
      "execution_count": 143,
      "outputs": []
    },
    {
      "cell_type": "code",
      "source": [
        "cols = data2.shape[1]\n",
        "\n",
        "X2 = np.array(data2.iloc[:, :cols-1])\n",
        "Y2 = np.array(data2.iloc[:, cols-1:cols])\n",
        "X2, Y2"
      ],
      "metadata": {
        "colab": {
          "base_uri": "https://localhost:8080/"
        },
        "id": "4620BjsYwEDo",
        "outputId": "ba96f615-7c0a-4866-87b1-6887456406de"
      },
      "execution_count": 154,
      "outputs": [
        {
          "output_type": "execute_result",
          "data": {
            "text/plain": [
              "(array([[   1, 2104,    3],\n",
              "        [   1, 1600,    3],\n",
              "        [   1, 2400,    3],\n",
              "        [   1, 1416,    2],\n",
              "        [   1, 3000,    4],\n",
              "        [   1, 1985,    4],\n",
              "        [   1, 1534,    3],\n",
              "        [   1, 1427,    3],\n",
              "        [   1, 1380,    3],\n",
              "        [   1, 1494,    3],\n",
              "        [   1, 1940,    4],\n",
              "        [   1, 2000,    3],\n",
              "        [   1, 1890,    3],\n",
              "        [   1, 4478,    5],\n",
              "        [   1, 1268,    3],\n",
              "        [   1, 2300,    4],\n",
              "        [   1, 1320,    2],\n",
              "        [   1, 1236,    3],\n",
              "        [   1, 2609,    4],\n",
              "        [   1, 3031,    4],\n",
              "        [   1, 1767,    3],\n",
              "        [   1, 1888,    2],\n",
              "        [   1, 1604,    3],\n",
              "        [   1, 1962,    4],\n",
              "        [   1, 3890,    3],\n",
              "        [   1, 1100,    3],\n",
              "        [   1, 1458,    3],\n",
              "        [   1, 2526,    3],\n",
              "        [   1, 2200,    3],\n",
              "        [   1, 2637,    3],\n",
              "        [   1, 1839,    2],\n",
              "        [   1, 1000,    1],\n",
              "        [   1, 2040,    4],\n",
              "        [   1, 3137,    3],\n",
              "        [   1, 1811,    4],\n",
              "        [   1, 1437,    3],\n",
              "        [   1, 1239,    3],\n",
              "        [   1, 2132,    4],\n",
              "        [   1, 4215,    4],\n",
              "        [   1, 2162,    4],\n",
              "        [   1, 1664,    2],\n",
              "        [   1, 2238,    3],\n",
              "        [   1, 2567,    4],\n",
              "        [   1, 1200,    3],\n",
              "        [   1,  852,    2],\n",
              "        [   1, 1852,    4],\n",
              "        [   1, 1203,    3]]), array([[399900],\n",
              "        [329900],\n",
              "        [369000],\n",
              "        [232000],\n",
              "        [539900],\n",
              "        [299900],\n",
              "        [314900],\n",
              "        [198999],\n",
              "        [212000],\n",
              "        [242500],\n",
              "        [239999],\n",
              "        [347000],\n",
              "        [329999],\n",
              "        [699900],\n",
              "        [259900],\n",
              "        [449900],\n",
              "        [299900],\n",
              "        [199900],\n",
              "        [499998],\n",
              "        [599000],\n",
              "        [252900],\n",
              "        [255000],\n",
              "        [242900],\n",
              "        [259900],\n",
              "        [573900],\n",
              "        [249900],\n",
              "        [464500],\n",
              "        [469000],\n",
              "        [475000],\n",
              "        [299900],\n",
              "        [349900],\n",
              "        [169900],\n",
              "        [314900],\n",
              "        [579900],\n",
              "        [285900],\n",
              "        [249900],\n",
              "        [229900],\n",
              "        [345000],\n",
              "        [549000],\n",
              "        [287000],\n",
              "        [368500],\n",
              "        [329900],\n",
              "        [314000],\n",
              "        [299000],\n",
              "        [179900],\n",
              "        [299900],\n",
              "        [239500]]))"
            ]
          },
          "metadata": {},
          "execution_count": 154
        }
      ]
    },
    {
      "cell_type": "markdown",
      "source": [
        "## 数据可视化（三维）"
      ],
      "metadata": {
        "id": "vkzly5C1w0Oj"
      }
    },
    {
      "cell_type": "markdown",
      "source": [
        "### 写法一"
      ],
      "metadata": {
        "id": "q3V8peWjz5X8"
      }
    },
    {
      "cell_type": "code",
      "source": [
        "from mpl_toolkits.mplot3d import Axes3D\n",
        "\n",
        "fig = plt.figure()\n",
        "ax3d = Axes3D(fig)\n",
        "ax3d.scatter(data2[\"size\"], data2['bedrooms'], data2['price'] ,c=\"r\" ,marker=\"*\")\n",
        "ax3d.set_xlabel(\"size of the house (in square feet)\")\n",
        "ax3d.set_ylabel(\"number of bedrooms\")\n",
        "ax3d.set_zlabel(\"price of the house\")\n",
        "plt.show()"
      ],
      "metadata": {
        "colab": {
          "base_uri": "https://localhost:8080/",
          "height": 319
        },
        "id": "N5JAQPdaxVK_",
        "outputId": "87681280-75f7-46c9-c908-b9803d4f1b9b"
      },
      "execution_count": 145,
      "outputs": [
        {
          "output_type": "display_data",
          "data": {
            "text/plain": [
              "<Figure size 432x288 with 1 Axes>"
            ],
            "image/png": "[encoded data removed]"
          },
          "metadata": {
            "needs_background": "light"
          }
        }
      ]
    },
    {
      "cell_type": "markdown",
      "source": [
        "### 写法二"
      ],
      "metadata": {
        "id": "Oi3TVRV_z8nv"
      }
    },
    {
      "cell_type": "code",
      "source": [
        "fig = plt.figure(figsize=(12,8))\n",
        "ax = fig.add_subplot(projection='3d')\n",
        "ax.scatter(data2[\"size\"], data2['bedrooms'], data2['price'] ,c=\"r\" ,marker=\"*\")\n",
        " \n",
        "ax.set_xlabel(\"size of the house (in square feet)\")\n",
        "ax.set_ylabel(\"number of bedrooms\")\n",
        "ax.set_zlabel(\"price of the house\")"
      ],
      "metadata": {
        "colab": {
          "base_uri": "https://localhost:8080/",
          "height": 484
        },
        "id": "nKVY3TXIzUuz",
        "outputId": "ee5692d2-aa7e-48f1-f6b8-60d8684ad39c"
      },
      "execution_count": 146,
      "outputs": [
        {
          "output_type": "execute_result",
          "data": {
            "text/plain": [
              "Text(0.5, 0, 'price of the house')"
            ]
          },
          "metadata": {},
          "execution_count": 146
        },
        {
          "output_type": "display_data",
          "data": {
            "text/plain": [
              "<Figure size 864x576 with 1 Axes>"
            ],
            "image/png": "[encoded data removed]"
          },
          "metadata": {
            "needs_background": "light"
          }
        }
      ]
    },
    {
      "cell_type": "markdown",
      "source": [
        "## 特征归一化\n",
        "公式："
      ],
      "metadata": {
        "id": "HYvH19KCi3TU"
      }
    },
    {
      "cell_type": "code",
      "source": [
        "def featureNormalize(X):\n",
        "  X = X.astype(float) # 将nparray从int转为float\n",
        "  for i in range(1, X.shape[1]):\n",
        "    temp1 = X[:, i] - np.mean(X[:, i])\n",
        "    temp2 = temp1 / np.std(X[:, i])\n",
        "    X[:, i] = temp2\n",
        "  return X\n",
        "\n",
        "X2 = featureNormalize(X2)\n",
        "X2"
      ],
      "metadata": {
        "colab": {
          "base_uri": "https://localhost:8080/"
        },
        "id": "JaYN2P--i3Bd",
        "outputId": "e89b02ad-35b0-4060-efe7-d480806e60d3"
      },
      "execution_count": 155,
      "outputs": [
        {
          "output_type": "execute_result",
          "data": {
            "text/plain": [
              "array([[ 1.00000000e+00,  1.31415422e-01, -2.26093368e-01],\n",
              "       [ 1.00000000e+00, -5.09640698e-01, -2.26093368e-01],\n",
              "       [ 1.00000000e+00,  5.07908699e-01, -2.26093368e-01],\n",
              "       [ 1.00000000e+00, -7.43677059e-01, -1.55439190e+00],\n",
              "       [ 1.00000000e+00,  1.27107075e+00,  1.10220517e+00],\n",
              "       [ 1.00000000e+00, -1.99450507e-02,  1.10220517e+00],\n",
              "       [ 1.00000000e+00, -5.93588523e-01, -2.26093368e-01],\n",
              "       [ 1.00000000e+00, -7.29685755e-01, -2.26093368e-01],\n",
              "       [ 1.00000000e+00, -7.89466782e-01, -2.26093368e-01],\n",
              "       [ 1.00000000e+00, -6.44465993e-01, -2.26093368e-01],\n",
              "       [ 1.00000000e+00, -7.71822042e-02,  1.10220517e+00],\n",
              "       [ 1.00000000e+00, -8.65999486e-04, -2.26093368e-01],\n",
              "       [ 1.00000000e+00, -1.40779041e-01, -2.26093368e-01],\n",
              "       [ 1.00000000e+00,  3.15099326e+00,  2.43050370e+00],\n",
              "       [ 1.00000000e+00, -9.31923697e-01, -2.26093368e-01],\n",
              "       [ 1.00000000e+00,  3.80715024e-01,  1.10220517e+00],\n",
              "       [ 1.00000000e+00, -8.65782986e-01, -1.55439190e+00],\n",
              "       [ 1.00000000e+00, -9.72625673e-01, -2.26093368e-01],\n",
              "       [ 1.00000000e+00,  7.73743478e-01,  1.10220517e+00],\n",
              "       [ 1.00000000e+00,  1.31050078e+00,  1.10220517e+00],\n",
              "       [ 1.00000000e+00, -2.97227261e-01, -2.26093368e-01],\n",
              "       [ 1.00000000e+00, -1.43322915e-01, -1.55439190e+00],\n",
              "       [ 1.00000000e+00, -5.04552951e-01, -2.26093368e-01],\n",
              "       [ 1.00000000e+00, -4.91995958e-02,  1.10220517e+00],\n",
              "       [ 1.00000000e+00,  2.40309445e+00, -2.26093368e-01],\n",
              "       [ 1.00000000e+00, -1.14560907e+00, -2.26093368e-01],\n",
              "       [ 1.00000000e+00, -6.90255715e-01, -2.26093368e-01],\n",
              "       [ 1.00000000e+00,  6.68172729e-01, -2.26093368e-01],\n",
              "       [ 1.00000000e+00,  2.53521350e-01, -2.26093368e-01],\n",
              "       [ 1.00000000e+00,  8.09357707e-01, -2.26093368e-01],\n",
              "       [ 1.00000000e+00, -2.05647815e-01, -1.55439190e+00],\n",
              "       [ 1.00000000e+00, -1.27280274e+00, -2.88269044e+00],\n",
              "       [ 1.00000000e+00,  5.00114703e-02,  1.10220517e+00],\n",
              "       [ 1.00000000e+00,  1.44532608e+00, -2.26093368e-01],\n",
              "       [ 1.00000000e+00, -2.41262044e-01,  1.10220517e+00],\n",
              "       [ 1.00000000e+00, -7.16966387e-01, -2.26093368e-01],\n",
              "       [ 1.00000000e+00, -9.68809863e-01, -2.26093368e-01],\n",
              "       [ 1.00000000e+00,  1.67029651e-01,  1.10220517e+00],\n",
              "       [ 1.00000000e+00,  2.81647389e+00,  1.10220517e+00],\n",
              "       [ 1.00000000e+00,  2.05187753e-01,  1.10220517e+00],\n",
              "       [ 1.00000000e+00, -4.28236746e-01, -1.55439190e+00],\n",
              "       [ 1.00000000e+00,  3.01854946e-01, -2.26093368e-01],\n",
              "       [ 1.00000000e+00,  7.20322135e-01,  1.10220517e+00],\n",
              "       [ 1.00000000e+00, -1.01841540e+00, -2.26093368e-01],\n",
              "       [ 1.00000000e+00, -1.46104938e+00, -1.55439190e+00],\n",
              "       [ 1.00000000e+00, -1.89112638e-01,  1.10220517e+00],\n",
              "       [ 1.00000000e+00, -1.01459959e+00, -2.26093368e-01]])"
            ]
          },
          "metadata": {},
          "execution_count": 155
        }
      ]
    },
    {
      "cell_type": "markdown",
      "source": [
        "## 梯度下降"
      ],
      "metadata": {
        "id": "qGKgTKKAd4pp"
      }
    },
    {
      "cell_type": "code",
      "source": [
        "Iterations = 10\n",
        "LearningRate = 1\n",
        "theta = np.matrix(np.zeros(len(X2[0]))).T # (n+1)*1\n",
        "\n",
        "cost, theta = GradientDescent(X2, Y2, theta, Iterations, LearningRate)\n",
        "# print(theta)"
      ],
      "metadata": {
        "colab": {
          "base_uri": "https://localhost:8080/"
        },
        "id": "jtmXVkgmenS8",
        "outputId": "02254cd8-9f18-43f3-be15-e0c3f91edd19"
      },
      "execution_count": 157,
      "outputs": [
        {
          "output_type": "stream",
          "name": "stdout",
          "text": [
            "[[340412.65957447]\n",
            " [109116.02965272]\n",
            " [ -6558.41402464]]\n"
          ]
        }
      ]
    },
    {
      "cell_type": "markdown",
      "source": [
        "## 绘制代价函数"
      ],
      "metadata": {
        "id": "L8HnlOLZmbSC"
      }
    },
    {
      "cell_type": "code",
      "source": [
        "fig, ax = plt.subplots(figsize=(12,8))\n",
        "ax.plot(np.arange(Iterations), cost, 'green')\n",
        "ax.set_xlabel(\"Number of iterations\")\n",
        "ax.set_ylabel(\"Cost J\")\n",
        "plt.show()"
      ],
      "metadata": {
        "colab": {
          "base_uri": "https://localhost:8080/",
          "height": 508
        },
        "id": "mM9ubVaRmclE",
        "outputId": "d20b0368-7e57-4e01-bc97-e90753ed67ec"
      },
      "execution_count": 149,
      "outputs": [
        {
          "output_type": "display_data",
          "data": {
            "text/plain": [
              "<Figure size 864x576 with 1 Axes>"
            ],
            "image/png": "[encoded data removed]"
          },
          "metadata": {
            "needs_background": "light"
          }
        }
      ]
    },
    {
      "cell_type": "markdown",
      "source": [
        "## 正规方程求解最优权重"
      ],
      "metadata": {
        "id": "QKfzupsgqEFm"
      }
    },
    {
      "cell_type": "code",
      "source": [
        "theta = np.linalg.inv(X2.T @ X2) @ X2.T @ Y2\n",
        "print(theta)"
      ],
      "metadata": {
        "colab": {
          "base_uri": "https://localhost:8080/"
        },
        "id": "UYGz887GqH5u",
        "outputId": "59267250-2fc3-40f9-cb3f-04b08e0b53dc"
      },
      "execution_count": 159,
      "outputs": [
        {
          "output_type": "stream",
          "name": "stdout",
          "text": [
            "[[340412.65957447]\n",
            " [109447.79646964]\n",
            " [ -6578.35485416]]\n"
          ]
        }
      ]
    }
  ]
}