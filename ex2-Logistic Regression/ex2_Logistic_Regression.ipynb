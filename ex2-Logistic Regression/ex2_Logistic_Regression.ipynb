{
  "nbformat": 4,
  "nbformat_minor": 0,
  "metadata": {
    "colab": {
      "name": "ex2-Logistic Regression.ipynb",
      "provenance": [],
      "collapsed_sections": []
    },
    "kernelspec": {
      "name": "python3",
      "display_name": "Python 3"
    },
    "language_info": {
      "name": "python"
    }
  },
  "cells": [
    {
      "cell_type": "markdown",
      "source": [
        "# 导包并配置基础路径"
      ],
      "metadata": {
        "id": "B2cSWRa3xfuA"
      }
    },
    {
      "cell_type": "code",
      "execution_count": 139,
      "metadata": {
        "id": "Hlp_gbDGw6si"
      },
      "outputs": [],
      "source": [
        "import numpy as np\n",
        "import pandas as pd\n",
        "from matplotlib import pyplot as plt\n",
        "\n",
        "base = \"/content/drive/MyDrive/Colab Notebooks/AndrewNg-Machine-Learning-Homework/ex2-Logistic-Regression\""
      ]
    },
    {
      "cell_type": "markdown",
      "source": [
        "# Logistic回归"
      ],
      "metadata": {
        "id": "tYMtSwyPsBUF"
      }
    },
    {
      "cell_type": "markdown",
      "source": [
        "## 导入数据"
      ],
      "metadata": {
        "id": "Bzjt0GLnxtNK"
      }
    },
    {
      "cell_type": "code",
      "source": [
        "path = base + \"/ex2data1.txt\"\n",
        "data = pd.read_csv(path, header=None, names=[\"Score1\", \"Score2\", \"Admitted\"])\n",
        "data"
      ],
      "metadata": {
        "colab": {
          "base_uri": "https://localhost:8080/",
          "height": 424
        },
        "id": "vlM72DW0x9N2",
        "outputId": "9ce61289-e80e-4578-94a8-e85d1c42e46c"
      },
      "execution_count": 140,
      "outputs": [
        {
          "output_type": "execute_result",
          "data": {
            "text/plain": [
              "       Score1     Score2  Admitted\n",
              "0   34.623660  78.024693         0\n",
              "1   30.286711  43.894998         0\n",
              "2   35.847409  72.902198         0\n",
              "3   60.182599  86.308552         1\n",
              "4   79.032736  75.344376         1\n",
              "..        ...        ...       ...\n",
              "95  83.489163  48.380286         1\n",
              "96  42.261701  87.103851         1\n",
              "97  99.315009  68.775409         1\n",
              "98  55.340018  64.931938         1\n",
              "99  74.775893  89.529813         1\n",
              "\n",
              "[100 rows x 3 columns]"
            ],
            "text/html": [
              "\n",
              "  <div id=\"df-e96769c6-74f8-472b-871e-08616d22e10e\">\n",
              "    <div class=\"colab-df-container\">\n",
              "      <div>\n",
              "<style scoped>\n",
              "    .dataframe tbody tr th:only-of-type {\n",
              "        vertical-align: middle;\n",
              "    }\n",
              "\n",
              "    .dataframe tbody tr th {\n",
              "        vertical-align: top;\n",
              "    }\n",
              "\n",
              "    .dataframe thead th {\n",
              "        text-align: right;\n",
              "    }\n",
              "</style>\n",
              "<table border=\"1\" class=\"dataframe\">\n",
              "  <thead>\n",
              "    <tr style=\"text-align: right;\">\n",
              "      <th></th>\n",
              "      <th>Score1</th>\n",
              "      <th>Score2</th>\n",
              "      <th>Admitted</th>\n",
              "    </tr>\n",
              "  </thead>\n",
              "  <tbody>\n",
              "    <tr>\n",
              "      <th>0</th>\n",
              "      <td>34.623660</td>\n",
              "      <td>78.024693</td>\n",
              "      <td>0</td>\n",
              "    </tr>\n",
              "    <tr>\n",
              "      <th>1</th>\n",
              "      <td>30.286711</td>\n",
              "      <td>43.894998</td>\n",
              "      <td>0</td>\n",
              "    </tr>\n",
              "    <tr>\n",
              "      <th>2</th>\n",
              "      <td>35.847409</td>\n",
              "      <td>72.902198</td>\n",
              "      <td>0</td>\n",
              "    </tr>\n",
              "    <tr>\n",
              "      <th>3</th>\n",
              "      <td>60.182599</td>\n",
              "      <td>86.308552</td>\n",
              "      <td>1</td>\n",
              "    </tr>\n",
              "    <tr>\n",
              "      <th>4</th>\n",
              "      <td>79.032736</td>\n",
              "      <td>75.344376</td>\n",
              "      <td>1</td>\n",
              "    </tr>\n",
              "    <tr>\n",
              "      <th>...</th>\n",
              "      <td>...</td>\n",
              "      <td>...</td>\n",
              "      <td>...</td>\n",
              "    </tr>\n",
              "    <tr>\n",
              "      <th>95</th>\n",
              "      <td>83.489163</td>\n",
              "      <td>48.380286</td>\n",
              "      <td>1</td>\n",
              "    </tr>\n",
              "    <tr>\n",
              "      <th>96</th>\n",
              "      <td>42.261701</td>\n",
              "      <td>87.103851</td>\n",
              "      <td>1</td>\n",
              "    </tr>\n",
              "    <tr>\n",
              "      <th>97</th>\n",
              "      <td>99.315009</td>\n",
              "      <td>68.775409</td>\n",
              "      <td>1</td>\n",
              "    </tr>\n",
              "    <tr>\n",
              "      <th>98</th>\n",
              "      <td>55.340018</td>\n",
              "      <td>64.931938</td>\n",
              "      <td>1</td>\n",
              "    </tr>\n",
              "    <tr>\n",
              "      <th>99</th>\n",
              "      <td>74.775893</td>\n",
              "      <td>89.529813</td>\n",
              "      <td>1</td>\n",
              "    </tr>\n",
              "  </tbody>\n",
              "</table>\n",
              "<p>100 rows × 3 columns</p>\n",
              "</div>\n",
              "      <button class=\"colab-df-convert\" onclick=\"convertToInteractive('df-e96769c6-74f8-472b-871e-08616d22e10e')\"\n",
              "              title=\"Convert this dataframe to an interactive table.\"\n",
              "              style=\"display:none;\">\n",
              "        \n",
              "  <svg xmlns=\"http://www.w3.org/2000/svg\" height=\"24px\"viewBox=\"0 0 24 24\"\n",
              "       width=\"24px\">\n",
              "    <path d=\"M0 0h24v24H0V0z\" fill=\"none\"/>\n",
              "    <path d=\"M18.56 5.44l.94 2.06.94-2.06 2.06-.94-2.06-.94-.94-2.06-.94 2.06-2.06.94zm-11 1L8.5 8.5l.94-2.06 2.06-.94-2.06-.94L8.5 2.5l-.94 2.06-2.06.94zm10 10l.94 2.06.94-2.06 2.06-.94-2.06-.94-.94-2.06-.94 2.06-2.06.94z\"/><path d=\"M17.41 7.96l-1.37-1.37c-.4-.4-.92-.59-1.43-.59-.52 0-1.04.2-1.43.59L10.3 9.45l-7.72 7.72c-.78.78-.78 2.05 0 2.83L4 21.41c.39.39.9.59 1.41.59.51 0 1.02-.2 1.41-.59l7.78-7.78 2.81-2.81c.8-.78.8-2.07 0-2.86zM5.41 20L4 18.59l7.72-7.72 1.47 1.35L5.41 20z\"/>\n",
              "  </svg>\n",
              "      </button>\n",
              "      \n",
              "  <style>\n",
              "    .colab-df-container {\n",
              "      display:flex;\n",
              "      flex-wrap:wrap;\n",
              "      gap: 12px;\n",
              "    }\n",
              "\n",
              "    .colab-df-convert {\n",
              "      background-color: #E8F0FE;\n",
              "      border: none;\n",
              "      border-radius: 50%;\n",
              "      cursor: pointer;\n",
              "      display: none;\n",
              "      fill: #1967D2;\n",
              "      height: 32px;\n",
              "      padding: 0 0 0 0;\n",
              "      width: 32px;\n",
              "    }\n",
              "\n",
              "    .colab-df-convert:hover {\n",
              "      background-color: #E2EBFA;\n",
              "      box-shadow: 0px 1px 2px rgba(60, 64, 67, 0.3), 0px 1px 3px 1px rgba(60, 64, 67, 0.15);\n",
              "      fill: #174EA6;\n",
              "    }\n",
              "\n",
              "    [theme=dark] .colab-df-convert {\n",
              "      background-color: #3B4455;\n",
              "      fill: #D2E3FC;\n",
              "    }\n",
              "\n",
              "    [theme=dark] .colab-df-convert:hover {\n",
              "      background-color: #434B5C;\n",
              "      box-shadow: 0px 1px 3px 1px rgba(0, 0, 0, 0.15);\n",
              "      filter: drop-shadow(0px 1px 2px rgba(0, 0, 0, 0.3));\n",
              "      fill: #FFFFFF;\n",
              "    }\n",
              "  </style>\n",
              "\n",
              "      <script>\n",
              "        const buttonEl =\n",
              "          document.querySelector('#df-e96769c6-74f8-472b-871e-08616d22e10e button.colab-df-convert');\n",
              "        buttonEl.style.display =\n",
              "          google.colab.kernel.accessAllowed ? 'block' : 'none';\n",
              "\n",
              "        async function convertToInteractive(key) {\n",
              "          const element = document.querySelector('#df-e96769c6-74f8-472b-871e-08616d22e10e');\n",
              "          const dataTable =\n",
              "            await google.colab.kernel.invokeFunction('convertToInteractive',\n",
              "                                                     [key], {});\n",
              "          if (!dataTable) return;\n",
              "\n",
              "          const docLinkHtml = 'Like what you see? Visit the ' +\n",
              "            '<a target=\"_blank\" href=https://colab.research.google.com/notebooks/data_table.ipynb>data table notebook</a>'\n",
              "            + ' to learn more about interactive tables.';\n",
              "          element.innerHTML = '';\n",
              "          dataTable['output_type'] = 'display_data';\n",
              "          await google.colab.output.renderOutput(dataTable, element);\n",
              "          const docLink = document.createElement('div');\n",
              "          docLink.innerHTML = docLinkHtml;\n",
              "          element.appendChild(docLink);\n",
              "        }\n",
              "      </script>\n",
              "    </div>\n",
              "  </div>\n",
              "  "
            ]
          },
          "metadata": {},
          "execution_count": 140
        }
      ]
    },
    {
      "cell_type": "markdown",
      "source": [
        "## 数据可视化"
      ],
      "metadata": {
        "id": "w45DqFAWyyaH"
      }
    },
    {
      "cell_type": "code",
      "source": [
        "# 分割出正样本和负样本\n",
        "positive = data[data[\"Admitted\"].isin([1])]\n",
        "negative = data[data[\"Admitted\"].isin([0])]\n",
        "\n",
        "fig, ax = plt.subplots(figsize=(12, 8))\n",
        "ax.scatter(positive[\"Score1\"], positive[\"Score2\"], s=100, color='black', marker=\"+\", label=\"Admitted\")\n",
        "ax.scatter(negative[\"Score1\"], negative[\"Score2\"], s=100, color='orange', marker=\"o\", label=\"Not admitted\")\n",
        "ax.legend()\n",
        "ax.set_xlabel(\"Exam 1 score\")\n",
        "ax.set_ylabel(\"Exam 2 score\")\n",
        "plt.xticks(np.arange(30, 101, 10))\n",
        "plt.yticks(np.arange(30, 101, 10))\n",
        "plt.show()"
      ],
      "metadata": {
        "colab": {
          "base_uri": "https://localhost:8080/",
          "height": 497
        },
        "id": "UKEKtdbMy5M7",
        "outputId": "e8043293-a848-40b1-87f7-774a44c62826"
      },
      "execution_count": 141,
      "outputs": [
        {
          "output_type": "display_data",
          "data": {
            "text/plain": [
              "<Figure size 864x576 with 1 Axes>"
            ],
            "image/png": "[encoded data removed]"
          },
          "metadata": {
            "needs_background": "light"
          }
        }
      ]
    },
    {
      "cell_type": "markdown",
      "source": [
        "## 数据切割"
      ],
      "metadata": {
        "id": "GCpZwCpJyYCx"
      }
    },
    {
      "cell_type": "code",
      "source": [
        "data.insert(0, \"Ones\", 1)"
      ],
      "metadata": {
        "id": "AlX-lEtUyc8l"
      },
      "execution_count": 142,
      "outputs": []
    },
    {
      "cell_type": "code",
      "source": [
        "cols = data.shape[1]\n",
        "\n",
        "X = np.array(data.iloc[:, :cols-1])\n",
        "Y = np.array(data.iloc[:, cols-1:cols])\n",
        "X, Y"
      ],
      "metadata": {
        "colab": {
          "base_uri": "https://localhost:8080/"
        },
        "id": "fHPLO6CgyfaF",
        "outputId": "3e44c38e-7f64-4e6a-e705-c016f178bcd9"
      },
      "execution_count": 143,
      "outputs": [
        {
          "output_type": "execute_result",
          "data": {
            "text/plain": [
              "(array([[ 1.        , 34.62365962, 78.02469282],\n",
              "        [ 1.        , 30.28671077, 43.89499752],\n",
              "        [ 1.        , 35.84740877, 72.90219803],\n",
              "        [ 1.        , 60.18259939, 86.3085521 ],\n",
              "        [ 1.        , 79.03273605, 75.34437644],\n",
              "        [ 1.        , 45.08327748, 56.31637178],\n",
              "        [ 1.        , 61.10666454, 96.51142588],\n",
              "        [ 1.        , 75.02474557, 46.55401354],\n",
              "        [ 1.        , 76.0987867 , 87.42056972],\n",
              "        [ 1.        , 84.43281996, 43.53339331],\n",
              "        [ 1.        , 95.86155507, 38.22527806],\n",
              "        [ 1.        , 75.01365839, 30.60326323],\n",
              "        [ 1.        , 82.30705337, 76.4819633 ],\n",
              "        [ 1.        , 69.36458876, 97.71869196],\n",
              "        [ 1.        , 39.53833914, 76.03681085],\n",
              "        [ 1.        , 53.97105215, 89.20735014],\n",
              "        [ 1.        , 69.07014406, 52.74046973],\n",
              "        [ 1.        , 67.94685548, 46.67857411],\n",
              "        [ 1.        , 70.66150955, 92.92713789],\n",
              "        [ 1.        , 76.97878373, 47.57596365],\n",
              "        [ 1.        , 67.37202755, 42.83843832],\n",
              "        [ 1.        , 89.67677575, 65.79936593],\n",
              "        [ 1.        , 50.53478829, 48.85581153],\n",
              "        [ 1.        , 34.21206098, 44.2095286 ],\n",
              "        [ 1.        , 77.92409145, 68.97235999],\n",
              "        [ 1.        , 62.27101367, 69.95445795],\n",
              "        [ 1.        , 80.19018075, 44.82162893],\n",
              "        [ 1.        , 93.1143888 , 38.80067034],\n",
              "        [ 1.        , 61.83020602, 50.25610789],\n",
              "        [ 1.        , 38.7858038 , 64.99568096],\n",
              "        [ 1.        , 61.37928945, 72.80788731],\n",
              "        [ 1.        , 85.40451939, 57.05198398],\n",
              "        [ 1.        , 52.10797973, 63.12762377],\n",
              "        [ 1.        , 52.04540477, 69.43286012],\n",
              "        [ 1.        , 40.23689374, 71.16774802],\n",
              "        [ 1.        , 54.63510555, 52.21388588],\n",
              "        [ 1.        , 33.91550011, 98.86943574],\n",
              "        [ 1.        , 64.17698887, 80.90806059],\n",
              "        [ 1.        , 74.78925296, 41.57341523],\n",
              "        [ 1.        , 34.18364003, 75.23772034],\n",
              "        [ 1.        , 83.90239366, 56.30804622],\n",
              "        [ 1.        , 51.54772027, 46.85629026],\n",
              "        [ 1.        , 94.44336777, 65.56892161],\n",
              "        [ 1.        , 82.36875376, 40.61825516],\n",
              "        [ 1.        , 51.04775177, 45.82270146],\n",
              "        [ 1.        , 62.22267576, 52.06099195],\n",
              "        [ 1.        , 77.19303493, 70.4582    ],\n",
              "        [ 1.        , 97.77159928, 86.72782233],\n",
              "        [ 1.        , 62.0730638 , 96.76882412],\n",
              "        [ 1.        , 91.5649745 , 88.69629255],\n",
              "        [ 1.        , 79.94481794, 74.16311935],\n",
              "        [ 1.        , 99.27252693, 60.999031  ],\n",
              "        [ 1.        , 90.54671411, 43.39060181],\n",
              "        [ 1.        , 34.52451385, 60.39634246],\n",
              "        [ 1.        , 50.28649612, 49.80453881],\n",
              "        [ 1.        , 49.58667722, 59.80895099],\n",
              "        [ 1.        , 97.64563396, 68.86157272],\n",
              "        [ 1.        , 32.57720017, 95.59854761],\n",
              "        [ 1.        , 74.24869137, 69.82457123],\n",
              "        [ 1.        , 71.79646206, 78.45356225],\n",
              "        [ 1.        , 75.39561147, 85.75993667],\n",
              "        [ 1.        , 35.28611282, 47.02051395],\n",
              "        [ 1.        , 56.2538175 , 39.26147251],\n",
              "        [ 1.        , 30.05882245, 49.59297387],\n",
              "        [ 1.        , 44.66826172, 66.45008615],\n",
              "        [ 1.        , 66.56089447, 41.09209808],\n",
              "        [ 1.        , 40.45755098, 97.53518549],\n",
              "        [ 1.        , 49.07256322, 51.88321182],\n",
              "        [ 1.        , 80.27957401, 92.11606081],\n",
              "        [ 1.        , 66.74671857, 60.99139403],\n",
              "        [ 1.        , 32.72283304, 43.30717306],\n",
              "        [ 1.        , 64.03932042, 78.03168802],\n",
              "        [ 1.        , 72.34649423, 96.22759297],\n",
              "        [ 1.        , 60.45788574, 73.0949981 ],\n",
              "        [ 1.        , 58.84095622, 75.85844831],\n",
              "        [ 1.        , 99.8278578 , 72.36925193],\n",
              "        [ 1.        , 47.26426911, 88.475865  ],\n",
              "        [ 1.        , 50.4581598 , 75.80985953],\n",
              "        [ 1.        , 60.45555629, 42.50840944],\n",
              "        [ 1.        , 82.22666158, 42.71987854],\n",
              "        [ 1.        , 88.91389642, 69.8037889 ],\n",
              "        [ 1.        , 94.83450672, 45.6943068 ],\n",
              "        [ 1.        , 67.31925747, 66.58935318],\n",
              "        [ 1.        , 57.23870632, 59.51428198],\n",
              "        [ 1.        , 80.366756  , 90.9601479 ],\n",
              "        [ 1.        , 68.46852179, 85.5943071 ],\n",
              "        [ 1.        , 42.07545454, 78.844786  ],\n",
              "        [ 1.        , 75.47770201, 90.424539  ],\n",
              "        [ 1.        , 78.63542435, 96.64742717],\n",
              "        [ 1.        , 52.34800399, 60.76950526],\n",
              "        [ 1.        , 94.09433113, 77.15910509],\n",
              "        [ 1.        , 90.44855097, 87.50879176],\n",
              "        [ 1.        , 55.48216114, 35.57070347],\n",
              "        [ 1.        , 74.49269242, 84.84513685],\n",
              "        [ 1.        , 89.84580671, 45.35828361],\n",
              "        [ 1.        , 83.48916274, 48.3802858 ],\n",
              "        [ 1.        , 42.26170081, 87.10385094],\n",
              "        [ 1.        , 99.31500881, 68.77540947],\n",
              "        [ 1.        , 55.34001756, 64.93193801],\n",
              "        [ 1.        , 74.775893  , 89.5298129 ]]), array([[0],\n",
              "        [0],\n",
              "        [0],\n",
              "        [1],\n",
              "        [1],\n",
              "        [0],\n",
              "        [1],\n",
              "        [1],\n",
              "        [1],\n",
              "        [1],\n",
              "        [0],\n",
              "        [0],\n",
              "        [1],\n",
              "        [1],\n",
              "        [0],\n",
              "        [1],\n",
              "        [1],\n",
              "        [0],\n",
              "        [1],\n",
              "        [1],\n",
              "        [0],\n",
              "        [1],\n",
              "        [0],\n",
              "        [0],\n",
              "        [1],\n",
              "        [1],\n",
              "        [1],\n",
              "        [0],\n",
              "        [0],\n",
              "        [0],\n",
              "        [1],\n",
              "        [1],\n",
              "        [0],\n",
              "        [1],\n",
              "        [0],\n",
              "        [0],\n",
              "        [0],\n",
              "        [1],\n",
              "        [0],\n",
              "        [0],\n",
              "        [1],\n",
              "        [0],\n",
              "        [1],\n",
              "        [0],\n",
              "        [0],\n",
              "        [0],\n",
              "        [1],\n",
              "        [1],\n",
              "        [1],\n",
              "        [1],\n",
              "        [1],\n",
              "        [1],\n",
              "        [1],\n",
              "        [0],\n",
              "        [0],\n",
              "        [0],\n",
              "        [1],\n",
              "        [0],\n",
              "        [1],\n",
              "        [1],\n",
              "        [1],\n",
              "        [0],\n",
              "        [0],\n",
              "        [0],\n",
              "        [0],\n",
              "        [0],\n",
              "        [1],\n",
              "        [0],\n",
              "        [1],\n",
              "        [1],\n",
              "        [0],\n",
              "        [1],\n",
              "        [1],\n",
              "        [1],\n",
              "        [1],\n",
              "        [1],\n",
              "        [1],\n",
              "        [1],\n",
              "        [0],\n",
              "        [0],\n",
              "        [1],\n",
              "        [1],\n",
              "        [1],\n",
              "        [1],\n",
              "        [1],\n",
              "        [1],\n",
              "        [0],\n",
              "        [1],\n",
              "        [1],\n",
              "        [0],\n",
              "        [1],\n",
              "        [1],\n",
              "        [0],\n",
              "        [1],\n",
              "        [1],\n",
              "        [1],\n",
              "        [1],\n",
              "        [1],\n",
              "        [1],\n",
              "        [1]]))"
            ]
          },
          "metadata": {},
          "execution_count": 143
        }
      ]
    },
    {
      "cell_type": "markdown",
      "source": [
        "## Sigmoid函数\n",
        "$$g(z)=\\frac{1}{1+e^{-z}}$$"
      ],
      "metadata": {
        "id": "Srwgy4Km3VXl"
      }
    },
    {
      "cell_type": "code",
      "source": [
        "def sigmoid(z):\n",
        "  return 1 / (1 + np.exp(-z))"
      ],
      "metadata": {
        "id": "1s1QnJaE3Wmc"
      },
      "execution_count": 144,
      "outputs": []
    },
    {
      "cell_type": "markdown",
      "source": [
        "## 绘制Sigmoid函数图像"
      ],
      "metadata": {
        "id": "PKfo63KoUsXk"
      }
    },
    {
      "cell_type": "code",
      "source": [
        "x = np.linspace(-10, 10, 100)\n",
        "f = sigmoid(x)\n",
        "\n",
        "fig, ax = plt.subplots(figsize=(12,8))\n",
        "ax.plot(x, f, 'blue')\n",
        "plt.show()"
      ],
      "metadata": {
        "colab": {
          "base_uri": "https://localhost:8080/",
          "height": 483
        },
        "id": "sI2eOp1GUsa4",
        "outputId": "16d47999-5c94-4ce1-d247-687c7a3931ab"
      },
      "execution_count": 145,
      "outputs": [
        {
          "output_type": "display_data",
          "data": {
            "text/plain": [
              "<Figure size 864x576 with 1 Axes>"
            ],
            "image/png": "[encoded data removed]"
          },
          "metadata": {
            "needs_background": "light"
          }
        }
      ]
    },
    {
      "cell_type": "markdown",
      "source": [
        "## 假设函数\n",
        "### 单样本：\n",
        "$$\n",
        "h(\\theta)\n",
        "=g(\\theta^Tx)\n",
        "=g(\\theta_0x_0+\\theta_1x_1+...+\\theta_nx_n)\n",
        "$$\n",
        "其中：$x$为(n+1)×1维，$\\theta$为(n+1)×1维，$h(\\theta)$为标量。\n",
        "\n",
        "### 多样本：\n",
        "$$\n",
        "h(\\theta)\n",
        "=g(X\\theta)\n",
        "$$\n",
        "其中：$X$为m×(n+1)维，$\\theta$为(n+1)×1维，$h(\\theta)$为m×1维。"
      ],
      "metadata": {
        "id": "qdTXijYD3aRH"
      }
    },
    {
      "cell_type": "code",
      "source": [
        "def Hypothesis(X, theta):\n",
        "  return sigmoid(X @ theta)"
      ],
      "metadata": {
        "id": "gK9Cok-_3bLF"
      },
      "execution_count": 146,
      "outputs": []
    },
    {
      "cell_type": "markdown",
      "source": [
        "## 代价函数\n",
        "原公式：\n",
        "$$\n",
        "J(\\theta)\n",
        "=\\frac{1}{m}\\sum_{i=1}^{m}[-y^{(i)}\\log(\\hat y^{(i)})-(1-y^{(i)})\\log(1-\\hat y^{(i)})]\n",
        "=-\\frac{1}{m}[y^{(1)}\\log(\\hat y^{(1)})+y^{(2)}\\log(\\hat y^{(2)})+...+y^{(m)}\\log(\\hat y^{(m)})+(1-y^{(1)})\\log(1-\\hat y^{(1)})+(1-y^{(2)})\\log(1-\\hat y^{(2)})+...+(1-y^{(m)})\\log(1-\\hat y^{(m)})]\n",
        "$$\n",
        "\n",
        "实现公式：\n",
        "$$\n",
        "J(\\theta)\n",
        "=-\\frac{1}{m}[y^T\\log(\\hat y)+(1-y)^T\\log(1-\\hat y)]\n",
        "$$\n",
        "其中：\n",
        "$$\n",
        "y^T=\\begin{bmatrix}\n",
        "y^{(1)}  & y^{(2)} & ... & y^{(m)}\n",
        "\\end{bmatrix}；\n",
        "(1-y)^T=\\begin{bmatrix}\n",
        "(1-y)^{(1)}  & (1-y)^{(2)} & ... & (1-y)^{(m)}\n",
        "\\end{bmatrix}$$\n",
        "$$\n",
        "\\log(\\hat y)=\\begin{bmatrix}\n",
        "\\log(\\hat y)^{(1)} \\\\\n",
        "\\log(\\hat y)^{(2)} \\\\\n",
        "\\vdots \\\\\n",
        "\\log(\\hat y)^{(m)}\n",
        "\\end{bmatrix}；\n",
        "\\log(1-\\hat y)=\\begin{bmatrix}\n",
        "\\log(1-\\hat y)^{(1)} \\\\\n",
        "\\log(1-\\hat y)^{(2)} \\\\\n",
        "\\vdots \\\\\n",
        "\\log(1-\\hat y)^{(m)}\n",
        "\\end{bmatrix}$$"
      ],
      "metadata": {
        "id": "3TWM3S0l5Y10"
      }
    },
    {
      "cell_type": "code",
      "source": [
        "def ComputeCost(X, Y, theta):\n",
        "  m = X.shape[0]\n",
        "  y_hat = np.array(Hypothesis(X, theta))\n",
        "  return -1 * (Y.T @ np.log(y_hat) + (1-Y).T @ np.log(1-y_hat)) / m"
      ],
      "metadata": {
        "id": "yGguHxR75Y8x"
      },
      "execution_count": 147,
      "outputs": []
    },
    {
      "cell_type": "markdown",
      "source": [
        "## 计算梯度\n",
        "公式：\n",
        "\n",
        "Repeat j from 0 to n:\n",
        "$$\n",
        "\\frac{\\partial J(\\theta )}{\\partial \\theta _j}\n",
        "=\\frac{1}{m}\\sum_{i=1}^{m}(\\hat{y}^{(i)} -y^{(i)})x_j^{(i)}\n",
        "=\\frac{1}{m}[(\\hat{y}^{(1)} -y^{(1)})x_j^{(1)}+(\\hat{y}^{(2)} -y^{(2)})x_j^{(2)}+...+(\\hat{y}^{(m)} -y^{(m)})x_j^{(m)}]\n",
        "$$\n",
        "\n",
        "实际公式：\n",
        "$$\n",
        "\\frac{\\partial J(\\theta )}{\\partial \\theta }\n",
        "=\\begin{bmatrix}\n",
        "\\frac{\\partial J(\\theta )}{\\partial \\theta _0} \\\\\n",
        "\\frac{\\partial J(\\theta )}{\\partial \\theta _1} \\\\\n",
        "\\vdots  \\\\\n",
        "\\frac{\\partial J(\\theta )}{\\partial \\theta _n}\n",
        "\\end{bmatrix}\n",
        "=\\frac{1}{m} \\begin{bmatrix}\n",
        "(\\hat{y}^{(1)} -y^{(1)})x_0^{(1)}+(\\hat{y}^{(2)} -y^{(2)})x_0^{(2)}+...+(\\hat{y}^{(m)} -y^{(m)})x_0^{(m)} \\\\\n",
        "(\\hat{y}^{(1)} -y^{(1)})x_1^{(1)}+(\\hat{y}^{(2)} -y^{(2)})x_1^{(2)}+...+(\\hat{y}^{(m)} -y^{(m)})x_1^{(m)} \\\\\n",
        "\\vdots  \\\\\n",
        "(\\hat{y}^{(1)} -y^{(1)})x_n^{(1)}+(\\hat{y}^{(2)} -y^{(2)})x_n^{(2)}+...+(\\hat{y}^{(m)} -y^{(m)})x_n^{(m)}\n",
        "\\end{bmatrix}\n",
        "=\\frac{1}{m}X^T(\\hat{y} -y) \n",
        "$$\n",
        "\n",
        "其中：$\\frac{\\partial J(\\theta )}{\\partial \\theta }$为(n+1)×1维\n",
        "$$X^T=\\begin{bmatrix}\n",
        "x_0^{(1)}  & x_0^{(2)} & ... & x_0^{(m)}\\\\\n",
        "x_1^{(1)}  & x_1^{(2)} & ... & x_1^{(m)}\\\\\n",
        " \\vdots   & \\vdots & \\vdots & \\vdots\\\\\n",
        "x_n^{(1)}  & x_n^{(2)} & ... & x_n^{(m)}\n",
        "\\end{bmatrix}_{(n+1)\\times m}\n",
        "(\\hat y-y)=\n",
        "\\begin{bmatrix}\n",
        "\\hat y^{(1)}-y^{(1)}\n",
        "\\\\\n",
        "\\hat y^{(2)}-y^{(2)}\n",
        " \\\\\n",
        "...\n",
        " \\\\\n",
        "\\hat y^{(m)}-y^{(m)}\n",
        "\\end{bmatrix}_{m\\times 1}$$"
      ],
      "metadata": {
        "id": "awTXsMsWOcsg"
      }
    },
    {
      "cell_type": "code",
      "source": [
        "def ComputePartial(X, Y, theta):\n",
        "  m = X.shape[0]\n",
        "  y_hat = np.array(Hypothesis(X, theta))\n",
        "  return (X.T @ (y_hat - Y)) / m"
      ],
      "metadata": {
        "id": "b-67gmSKOc4z"
      },
      "execution_count": 148,
      "outputs": []
    },
    {
      "cell_type": "markdown",
      "source": [
        "## 梯度下降"
      ],
      "metadata": {
        "id": "h8ie8T12Q9qs"
      }
    },
    {
      "cell_type": "code",
      "source": [
        "def GradientDescent(X, Y, theta, Iterations, LearningRate):\n",
        "  cost = np.zeros(Iterations)\n",
        "  for i in range(Iterations):\n",
        "    cost[i] = ComputeCost(X, Y, theta)\n",
        "    theta = theta - LearningRate * ComputePartial(X, Y, theta)\n",
        "  return cost, theta"
      ],
      "metadata": {
        "id": "tisAS9JHQ9t9"
      },
      "execution_count": 149,
      "outputs": []
    },
    {
      "cell_type": "markdown",
      "source": [
        "## 运行梯度下降"
      ],
      "metadata": {
        "id": "kzP0nF5ARPIf"
      }
    },
    {
      "cell_type": "code",
      "source": [
        "Iterations = 1000\n",
        "LearningRate = 0.001\n",
        "theta = np.matrix(np.zeros(X.shape[1])).T\n",
        "\n",
        "cost, theta = GradientDescent(X, Y, theta, Iterations, LearningRate)\n",
        "print(\"cost：\", cost)\n",
        "print(\"theta：\", theta)"
      ],
      "metadata": {
        "colab": {
          "base_uri": "https://localhost:8080/"
        },
        "id": "UwPRxcrrRPLZ",
        "outputId": "4f6a7a46-016a-4345-891b-f5e4bcec3f60"
      },
      "execution_count": 150,
      "outputs": [
        {
          "output_type": "stream",
          "name": "stdout",
          "text": [
            "cost： [0.69314718 0.69829069 0.65971176 0.66162727 0.64886153 0.64969609\n",
            " 0.64310987 0.64346521 0.63952523 0.6396434  0.63709581 0.63709203\n",
            " 0.63536394 0.63529843 0.63408777 0.63399367 0.63312565 0.6330216\n",
            " 0.63238831 0.63228474 0.63181635 0.63171885 0.63136856 0.63127986\n",
            " 0.63101541 0.63093653 0.63073524 0.63066619 0.63051182 0.63045204\n",
            " 0.63033282 0.63028147 0.63018876 0.63014489 0.63007228 0.63003491\n",
            " 0.62997763 0.62994584 0.62990031 0.62987325 0.62983674 0.62981366\n",
            " 0.62978412 0.62976436 0.62974021 0.6297232  0.62970324 0.6296885\n",
            " 0.62967179 0.62965892 0.62964475 0.6296334  0.62962122 0.62961112\n",
            " 0.62960049 0.6295914  0.62958199 0.62957372 0.62956527 0.62955767\n",
            " 0.62954996 0.6295429  0.62953579 0.62952916 0.62952252 0.62951623\n",
            " 0.62950996 0.62950396 0.62949798 0.6294922  0.62948645 0.62948086\n",
            " 0.62947529 0.62946984 0.62946442 0.62945908 0.62945377 0.62944853\n",
            " 0.62944331 0.62943815 0.629433   0.6294279  0.62942281 0.62941775\n",
            " 0.6294127  0.62940768 0.62940268 0.62939769 0.62939271 0.62938774\n",
            " 0.62938279 0.62937784 0.6293729  0.62936797 0.62936305 0.62935813\n",
            " 0.62935322 0.62934831 0.62934341 0.62933851 0.62933361 0.62932872\n",
            " 0.62932383 0.62931894 0.62931406 0.62930917 0.62930429 0.62929941\n",
            " 0.62929453 0.62928965 0.62928478 0.6292799  0.62927503 0.62927015\n",
            " 0.62926528 0.62926041 0.62925554 0.62925067 0.6292458  0.62924093\n",
            " 0.62923606 0.62923119 0.62922632 0.62922145 0.62921658 0.62921172\n",
            " 0.62920685 0.62920198 0.62919711 0.62919225 0.62918738 0.62918251\n",
            " 0.62917765 0.62917278 0.62916792 0.62916305 0.62915818 0.62915332\n",
            " 0.62914845 0.62914359 0.62913872 0.62913386 0.62912899 0.62912413\n",
            " 0.62911926 0.6291144  0.62910953 0.62910467 0.6290998  0.62909494\n",
            " 0.62909008 0.62908521 0.62908035 0.62907548 0.62907062 0.62906576\n",
            " 0.62906089 0.62905603 0.62905116 0.6290463  0.62904144 0.62903657\n",
            " 0.62903171 0.62902685 0.62902199 0.62901712 0.62901226 0.6290074\n",
            " 0.62900253 0.62899767 0.62899281 0.62898795 0.62898309 0.62897822\n",
            " 0.62897336 0.6289685  0.62896364 0.62895877 0.62895391 0.62894905\n",
            " 0.62894419 0.62893933 0.62893447 0.62892961 0.62892474 0.62891988\n",
            " 0.62891502 0.62891016 0.6289053  0.62890044 0.62889558 0.62889072\n",
            " 0.62888586 0.628881   0.62887614 0.62887128 0.62886642 0.62886156\n",
            " 0.6288567  0.62885184 0.62884698 0.62884212 0.62883726 0.6288324\n",
            " 0.62882754 0.62882268 0.62881782 0.62881296 0.6288081  0.62880324\n",
            " 0.62879838 0.62879352 0.62878866 0.6287838  0.62877895 0.62877409\n",
            " 0.62876923 0.62876437 0.62875951 0.62875465 0.62874979 0.62874494\n",
            " 0.62874008 0.62873522 0.62873036 0.6287255  0.62872065 0.62871579\n",
            " 0.62871093 0.62870607 0.62870122 0.62869636 0.6286915  0.62868664\n",
            " 0.62868179 0.62867693 0.62867207 0.62866722 0.62866236 0.6286575\n",
            " 0.62865265 0.62864779 0.62864293 0.62863808 0.62863322 0.62862837\n",
            " 0.62862351 0.62861865 0.6286138  0.62860894 0.62860409 0.62859923\n",
            " 0.62859437 0.62858952 0.62858466 0.62857981 0.62857495 0.6285701\n",
            " 0.62856524 0.62856039 0.62855553 0.62855068 0.62854582 0.62854097\n",
            " 0.62853611 0.62853126 0.62852641 0.62852155 0.6285167  0.62851184\n",
            " 0.62850699 0.62850213 0.62849728 0.62849243 0.62848757 0.62848272\n",
            " 0.62847787 0.62847301 0.62846816 0.62846331 0.62845845 0.6284536\n",
            " 0.62844875 0.62844389 0.62843904 0.62843419 0.62842933 0.62842448\n",
            " 0.62841963 0.62841478 0.62840992 0.62840507 0.62840022 0.62839537\n",
            " 0.62839052 0.62838566 0.62838081 0.62837596 0.62837111 0.62836626\n",
            " 0.62836141 0.62835655 0.6283517  0.62834685 0.628342   0.62833715\n",
            " 0.6283323  0.62832745 0.6283226  0.62831774 0.62831289 0.62830804\n",
            " 0.62830319 0.62829834 0.62829349 0.62828864 0.62828379 0.62827894\n",
            " 0.62827409 0.62826924 0.62826439 0.62825954 0.62825469 0.62824984\n",
            " 0.62824499 0.62824014 0.62823529 0.62823044 0.6282256  0.62822075\n",
            " 0.6282159  0.62821105 0.6282062  0.62820135 0.6281965  0.62819165\n",
            " 0.6281868  0.62818196 0.62817711 0.62817226 0.62816741 0.62816256\n",
            " 0.62815772 0.62815287 0.62814802 0.62814317 0.62813832 0.62813348\n",
            " 0.62812863 0.62812378 0.62811893 0.62811409 0.62810924 0.62810439\n",
            " 0.62809955 0.6280947  0.62808985 0.628085   0.62808016 0.62807531\n",
            " 0.62807046 0.62806562 0.62806077 0.62805593 0.62805108 0.62804623\n",
            " 0.62804139 0.62803654 0.6280317  0.62802685 0.628022   0.62801716\n",
            " 0.62801231 0.62800747 0.62800262 0.62799778 0.62799293 0.62798809\n",
            " 0.62798324 0.6279784  0.62797355 0.62796871 0.62796386 0.62795902\n",
            " 0.62795417 0.62794933 0.62794448 0.62793964 0.6279348  0.62792995\n",
            " 0.62792511 0.62792026 0.62791542 0.62791058 0.62790573 0.62790089\n",
            " 0.62789604 0.6278912  0.62788636 0.62788151 0.62787667 0.62787183\n",
            " 0.62786699 0.62786214 0.6278573  0.62785246 0.62784761 0.62784277\n",
            " 0.62783793 0.62783309 0.62782824 0.6278234  0.62781856 0.62781372\n",
            " 0.62780888 0.62780403 0.62779919 0.62779435 0.62778951 0.62778467\n",
            " 0.62777983 0.62777498 0.62777014 0.6277653  0.62776046 0.62775562\n",
            " 0.62775078 0.62774594 0.6277411  0.62773626 0.62773141 0.62772657\n",
            " 0.62772173 0.62771689 0.62771205 0.62770721 0.62770237 0.62769753\n",
            " 0.62769269 0.62768785 0.62768301 0.62767817 0.62767333 0.62766849\n",
            " 0.62766365 0.62765881 0.62765397 0.62764914 0.6276443  0.62763946\n",
            " 0.62763462 0.62762978 0.62762494 0.6276201  0.62761526 0.62761042\n",
            " 0.62760559 0.62760075 0.62759591 0.62759107 0.62758623 0.62758139\n",
            " 0.62757656 0.62757172 0.62756688 0.62756204 0.62755721 0.62755237\n",
            " 0.62754753 0.62754269 0.62753786 0.62753302 0.62752818 0.62752334\n",
            " 0.62751851 0.62751367 0.62750883 0.627504   0.62749916 0.62749432\n",
            " 0.62748949 0.62748465 0.62747981 0.62747498 0.62747014 0.6274653\n",
            " 0.62746047 0.62745563 0.6274508  0.62744596 0.62744113 0.62743629\n",
            " 0.62743145 0.62742662 0.62742178 0.62741695 0.62741211 0.62740728\n",
            " 0.62740244 0.62739761 0.62739277 0.62738794 0.6273831  0.62737827\n",
            " 0.62737343 0.6273686  0.62736377 0.62735893 0.6273541  0.62734926\n",
            " 0.62734443 0.6273396  0.62733476 0.62732993 0.62732509 0.62732026\n",
            " 0.62731543 0.62731059 0.62730576 0.62730093 0.62729609 0.62729126\n",
            " 0.62728643 0.62728159 0.62727676 0.62727193 0.6272671  0.62726226\n",
            " 0.62725743 0.6272526  0.62724777 0.62724293 0.6272381  0.62723327\n",
            " 0.62722844 0.62722361 0.62721877 0.62721394 0.62720911 0.62720428\n",
            " 0.62719945 0.62719462 0.62718978 0.62718495 0.62718012 0.62717529\n",
            " 0.62717046 0.62716563 0.6271608  0.62715597 0.62715114 0.62714631\n",
            " 0.62714148 0.62713665 0.62713181 0.62712698 0.62712215 0.62711732\n",
            " 0.62711249 0.62710766 0.62710283 0.627098   0.62709317 0.62708835\n",
            " 0.62708352 0.62707869 0.62707386 0.62706903 0.6270642  0.62705937\n",
            " 0.62705454 0.62704971 0.62704488 0.62704005 0.62703523 0.6270304\n",
            " 0.62702557 0.62702074 0.62701591 0.62701108 0.62700625 0.62700143\n",
            " 0.6269966  0.62699177 0.62698694 0.62698212 0.62697729 0.62697246\n",
            " 0.62696763 0.6269628  0.62695798 0.62695315 0.62694832 0.6269435\n",
            " 0.62693867 0.62693384 0.62692902 0.62692419 0.62691936 0.62691454\n",
            " 0.62690971 0.62690488 0.62690006 0.62689523 0.6268904  0.62688558\n",
            " 0.62688075 0.62687593 0.6268711  0.62686627 0.62686145 0.62685662\n",
            " 0.6268518  0.62684697 0.62684215 0.62683732 0.6268325  0.62682767\n",
            " 0.62682285 0.62681802 0.6268132  0.62680837 0.62680355 0.62679872\n",
            " 0.6267939  0.62678907 0.62678425 0.62677942 0.6267746  0.62676978\n",
            " 0.62676495 0.62676013 0.6267553  0.62675048 0.62674566 0.62674083\n",
            " 0.62673601 0.62673119 0.62672636 0.62672154 0.62671672 0.62671189\n",
            " 0.62670707 0.62670225 0.62669742 0.6266926  0.62668778 0.62668296\n",
            " 0.62667813 0.62667331 0.62666849 0.62666367 0.62665884 0.62665402\n",
            " 0.6266492  0.62664438 0.62663956 0.62663473 0.62662991 0.62662509\n",
            " 0.62662027 0.62661545 0.62661063 0.62660581 0.62660098 0.62659616\n",
            " 0.62659134 0.62658652 0.6265817  0.62657688 0.62657206 0.62656724\n",
            " 0.62656242 0.6265576  0.62655278 0.62654796 0.62654314 0.62653832\n",
            " 0.6265335  0.62652868 0.62652386 0.62651904 0.62651422 0.6265094\n",
            " 0.62650458 0.62649976 0.62649494 0.62649012 0.6264853  0.62648048\n",
            " 0.62647566 0.62647084 0.62646602 0.62646121 0.62645639 0.62645157\n",
            " 0.62644675 0.62644193 0.62643711 0.62643229 0.62642748 0.62642266\n",
            " 0.62641784 0.62641302 0.6264082  0.62640339 0.62639857 0.62639375\n",
            " 0.62638893 0.62638412 0.6263793  0.62637448 0.62636966 0.62636485\n",
            " 0.62636003 0.62635521 0.6263504  0.62634558 0.62634076 0.62633595\n",
            " 0.62633113 0.62632631 0.6263215  0.62631668 0.62631186 0.62630705\n",
            " 0.62630223 0.62629742 0.6262926  0.62628778 0.62628297 0.62627815\n",
            " 0.62627334 0.62626852 0.62626371 0.62625889 0.62625408 0.62624926\n",
            " 0.62624445 0.62623963 0.62623482 0.62623    0.62622519 0.62622037\n",
            " 0.62621556 0.62621074 0.62620593 0.62620111 0.6261963  0.62619149\n",
            " 0.62618667 0.62618186 0.62617704 0.62617223 0.62616742 0.6261626\n",
            " 0.62615779 0.62615298 0.62614816 0.62614335 0.62613854 0.62613372\n",
            " 0.62612891 0.6261241  0.62611928 0.62611447 0.62610966 0.62610485\n",
            " 0.62610003 0.62609522 0.62609041 0.6260856  0.62608078 0.62607597\n",
            " 0.62607116 0.62606635 0.62606154 0.62605672 0.62605191 0.6260471\n",
            " 0.62604229 0.62603748 0.62603267 0.62602785 0.62602304 0.62601823\n",
            " 0.62601342 0.62600861 0.6260038  0.62599899 0.62599418 0.62598937\n",
            " 0.62598456 0.62597975 0.62597494 0.62597012 0.62596531 0.6259605\n",
            " 0.62595569 0.62595088 0.62594607 0.62594126 0.62593646 0.62593165\n",
            " 0.62592684 0.62592203 0.62591722 0.62591241 0.6259076  0.62590279\n",
            " 0.62589798 0.62589317 0.62588836 0.62588355 0.62587874 0.62587394\n",
            " 0.62586913 0.62586432 0.62585951 0.6258547  0.62584989 0.62584509\n",
            " 0.62584028 0.62583547 0.62583066 0.62582585 0.62582105 0.62581624\n",
            " 0.62581143 0.62580662 0.62580182 0.62579701 0.6257922  0.62578739\n",
            " 0.62578259 0.62577778 0.62577297 0.62576817 0.62576336 0.62575855\n",
            " 0.62575375 0.62574894 0.62574413 0.62573933 0.62573452 0.62572971\n",
            " 0.62572491 0.6257201  0.6257153  0.62571049 0.62570569 0.62570088\n",
            " 0.62569607 0.62569127 0.62568646 0.62568166 0.62567685 0.62567205\n",
            " 0.62566724 0.62566244 0.62565763 0.62565283 0.62564802 0.62564322\n",
            " 0.62563841 0.62563361 0.6256288  0.625624   0.6256192  0.62561439\n",
            " 0.62560959 0.62560478 0.62559998 0.62559518 0.62559037 0.62558557\n",
            " 0.62558076 0.62557596 0.62557116 0.62556635 0.62556155 0.62555675\n",
            " 0.62555194 0.62554714 0.62554234 0.62553754 0.62553273 0.62552793\n",
            " 0.62552313 0.62551833 0.62551352 0.62550872 0.62550392 0.62549912\n",
            " 0.62549431 0.62548951 0.62548471 0.62547991 0.62547511 0.6254703\n",
            " 0.6254655  0.6254607  0.6254559  0.6254511  0.6254463  0.6254415\n",
            " 0.62543669 0.62543189 0.62542709 0.62542229 0.62541749 0.62541269\n",
            " 0.62540789 0.62540309 0.62539829 0.62539349 0.62538869 0.62538389\n",
            " 0.62537909 0.62537429 0.62536949 0.62536469 0.62535989 0.62535509\n",
            " 0.62535029 0.62534549 0.62534069 0.62533589 0.62533109 0.62532629\n",
            " 0.62532149 0.62531669 0.62531189 0.6253071  0.6253023  0.6252975\n",
            " 0.6252927  0.6252879  0.6252831  0.6252783  0.62527351 0.62526871\n",
            " 0.62526391 0.62525911 0.62525431 0.62524952 0.62524472 0.62523992\n",
            " 0.62523512 0.62523032 0.62522553 0.62522073 0.62521593 0.62521114\n",
            " 0.62520634 0.62520154 0.62519674 0.62519195 0.62518715 0.62518235\n",
            " 0.62517756 0.62517276 0.62516796 0.62516317 0.62515837 0.62515358\n",
            " 0.62514878 0.62514398 0.62513919 0.62513439 0.6251296  0.6251248\n",
            " 0.62512    0.62511521 0.62511041 0.62510562 0.62510082 0.62509603\n",
            " 0.62509123 0.62508644 0.62508164 0.62507685 0.62507205 0.62506726\n",
            " 0.62506246 0.62505767 0.62505287 0.62504808 0.62504328 0.62503849\n",
            " 0.6250337  0.6250289  0.62502411 0.62501931 0.62501452 0.62500973\n",
            " 0.62500493 0.62500014 0.62499535 0.62499055]\n",
            "theta： [[-0.06946097]\n",
            " [ 0.01090733]\n",
            " [ 0.00099135]]\n"
          ]
        }
      ]
    },
    {
      "cell_type": "markdown",
      "source": [
        "## 绘制代价函数曲线"
      ],
      "metadata": {
        "id": "BKo8oP--SdAc"
      }
    },
    {
      "cell_type": "code",
      "source": [
        "fig, ax = plt.subplots(figsize=(12,8))\n",
        "ax.plot(np.arange(Iterations), cost, 'r')\n",
        "ax.set_xlabel(\"Number of iterations\")\n",
        "ax.set_ylabel(\"Cost J\")\n",
        "plt.show()"
      ],
      "metadata": {
        "colab": {
          "base_uri": "https://localhost:8080/",
          "height": 497
        },
        "id": "uwn5ZxWTSdFo",
        "outputId": "095ae829-6aad-48ef-a556-f8bebfad8e68"
      },
      "execution_count": 151,
      "outputs": [
        {
          "output_type": "display_data",
          "data": {
            "text/plain": [
              "<Figure size 864x576 with 1 Axes>"
            ],
            "image/png": "[encoded data removed]"
          },
          "metadata": {
            "needs_background": "light"
          }
        }
      ]
    },
    {
      "cell_type": "markdown",
      "source": [
        "## 绘制拟合曲线"
      ],
      "metadata": {
        "id": "M5vn-XGUS8SC"
      }
    },
    {
      "cell_type": "code",
      "source": [
        "fig, ax = plt.subplots(figsize=(12,8))\n",
        "\n",
        "ax.scatter(positive[\"Score1\"], positive[\"Score2\"], s=100, color='black', marker=\"+\", label=\"Admitted\")\n",
        "ax.scatter(negative[\"Score1\"], negative[\"Score2\"], s=100, color='orange', marker=\"o\", label=\"Not admitted\")\n",
        "# x = np.linspace(data[\"Score1\"].min(), data[\"Score1\"].max(), 100)\n",
        "# f = np.array((theta[0] + theta[1] * x) / theta[2])[0]\n",
        "# ax.plot(x, f, 'blue')\n",
        "ax.legend()\n",
        "ax.set_xlabel(\"Exam 1 score\")\n",
        "ax.set_ylabel(\"Exam 2 score\")\n",
        "plt.xticks(np.arange(30, 101, 10))\n",
        "plt.yticks(np.arange(30, 101, 10))\n",
        "plt.show()"
      ],
      "metadata": {
        "colab": {
          "base_uri": "https://localhost:8080/",
          "height": 497
        },
        "id": "PHgKTHXPS8JD",
        "outputId": "34bbef8d-b008-45fb-b138-fa1720dca9ef"
      },
      "execution_count": 152,
      "outputs": [
        {
          "output_type": "display_data",
          "data": {
            "text/plain": [
              "<Figure size 864x576 with 1 Axes>"
            ],
            "image/png": "[encoded data removed]"
          },
          "metadata": {
            "needs_background": "light"
          }
        }
      ]
    },
    {
      "cell_type": "markdown",
      "source": [
        "## 计算Precision和Recall"
      ],
      "metadata": {
        "id": "XetYpRrfZ0_8"
      }
    },
    {
      "cell_type": "code",
      "source": [
        "def ComputePRandF1(X, Y, theta):\n",
        "  TP = 0\n",
        "  FP = 0\n",
        "  TN = 0\n",
        "  FN = 0\n",
        "\n",
        "  y_hat = Hypothesis(X, theta)\n",
        "  for i in range(X.shape[0]):\n",
        "    y_hat[i] = 1 if y_hat[i] >= 0.5 else 0\n",
        "    \n",
        "    if y_hat[i]:\n",
        "      if y_hat[i] == Y[i]:\n",
        "        TP = TP + 1\n",
        "      else:\n",
        "        FP = FP + 1\n",
        "    else:\n",
        "      if y_hat[i] == Y[i]:\n",
        "        TN = TN + 1\n",
        "      else:\n",
        "        FN = FN + 1\n",
        "  P = TP/(TP+FP)\n",
        "  R = TP/(TP+FN)\n",
        "  F1 = 2*P*R/(P+R)\n",
        "  print(\"TP：%d, FP：%d, TN：%d, FN：%d\" % (TP, FP, TN, FN))\n",
        "  print(\"Precision：\", P)\n",
        "  print(\"Recall：\", R)\n",
        "  print(\"F1：\", F1)"
      ],
      "metadata": {
        "id": "hh7LC803Z1GC"
      },
      "execution_count": 153,
      "outputs": []
    },
    {
      "cell_type": "code",
      "source": [
        "ComputePRandF1(X, Y, theta)"
      ],
      "metadata": {
        "colab": {
          "base_uri": "https://localhost:8080/"
        },
        "id": "xm_9cZOQn_ir",
        "outputId": "b78712bf-87ce-4170-b47b-4e82c927b806"
      },
      "execution_count": null,
      "outputs": [
        {
          "output_type": "stream",
          "name": "stdout",
          "text": [
            "TP：60, FP：40, TN：0, FN：0\n",
            "Precision： 0.6\n",
            "Recall： 1.0\n",
            "F1： 0.7499999999999999\n"
          ]
        }
      ]
    },
    {
      "cell_type": "markdown",
      "source": [
        "## 特征归一化"
      ],
      "metadata": {
        "id": "s3i4xPc4lpW9"
      }
    },
    {
      "cell_type": "code",
      "source": [
        "Iterations = 400\n",
        "LearningRate = 0.5\n",
        "theta = np.matrix(np.zeros(X.shape[1])).T\n",
        "\n",
        "def featureNormalize(X):\n",
        "  X = X.astype(float)\n",
        "  for i in range(1, X.shape[1]):\n",
        "    temp1 = X[:, i] - np.mean(X[:, i])\n",
        "    temp2 = temp1 / np.std(X[:, i])\n",
        "    X[:, i] = temp2\n",
        "  return X\n",
        "\n",
        "X_scale = featureNormalize(X)\n",
        "\n",
        "cost, theta = GradientDescent(X_scale, Y, theta, Iterations, LearningRate)\n",
        "print(\"cost：\", cost)\n",
        "print(\"theta：\", theta)"
      ],
      "metadata": {
        "colab": {
          "base_uri": "https://localhost:8080/"
        },
        "id": "KKHIB7wTlqS_",
        "outputId": "f59d39b2-a9f1-45ff-887a-7e7b956a3063"
      },
      "execution_count": 154,
      "outputs": [
        {
          "output_type": "stream",
          "name": "stdout",
          "text": [
            "cost： [0.69314718 0.62173732 0.56650187 0.52328352 0.48891962 0.46111713\n",
            " 0.43824041 0.41912136 0.40291732 0.38901173 0.37694625 0.36637476\n",
            " 0.35703184 0.348711   0.34124943 0.33451718 0.32840933 0.32284026\n",
            " 0.31773945 0.3130483  0.30871769 0.30470616 0.30097847 0.29750445\n",
            " 0.29425813 0.29121705 0.28836164 0.28567481 0.28314153 0.28074855\n",
            " 0.27848414 0.27633787 0.27430041 0.27236344 0.27051948 0.26876177\n",
            " 0.26708424 0.26548136 0.26394813 0.26247999 0.26107277 0.25972268\n",
            " 0.25842622 0.2571802  0.25598166 0.25482791 0.25371642 0.25264488\n",
            " 0.25161115 0.25061323 0.24964927 0.24871755 0.24781646 0.24694451\n",
            " 0.24610029 0.2452825  0.24448991 0.24372136 0.24297579 0.24225218\n",
            " 0.24154957 0.24086706 0.24020381 0.23955903 0.23893194 0.23832185\n",
            " 0.23772808 0.23714999 0.23658697 0.23603846 0.2355039  0.23498278\n",
            " 0.23447461 0.23397892 0.23349527 0.23302324 0.23256241 0.23211241\n",
            " 0.23167287 0.23124345 0.23082379 0.23041359 0.23001254 0.22962034\n",
            " 0.22923672 0.22886141 0.22849415 0.2281347  0.22778281 0.22743827\n",
            " 0.22710084 0.22677034 0.22644655 0.22612927 0.22581834 0.22551356\n",
            " 0.22521476 0.22492178 0.22463446 0.22435265 0.22407619 0.22380495\n",
            " 0.22353879 0.22327757 0.22302116 0.22276944 0.2225223  0.22227961\n",
            " 0.22204127 0.22180716 0.22157719 0.22135124 0.22112923 0.22091105\n",
            " 0.22069662 0.22048585 0.22027865 0.22007494 0.21987464 0.21967766\n",
            " 0.21948394 0.21929339 0.21910596 0.21892156 0.21874013 0.21856161\n",
            " 0.21838593 0.21821303 0.21804286 0.21787534 0.21771043 0.21754807\n",
            " 0.21738821 0.21723079 0.21707577 0.2169231  0.21677272 0.21662459\n",
            " 0.21647867 0.21633491 0.21619327 0.2160537  0.21591617 0.21578064\n",
            " 0.21564706 0.21551541 0.21538563 0.2152577  0.21513158 0.21500724\n",
            " 0.21488465 0.21476376 0.21464456 0.214527   0.21441106 0.21429671\n",
            " 0.21418392 0.21407266 0.21396291 0.21385463 0.2137478  0.21364241\n",
            " 0.21353841 0.21343578 0.21333451 0.21323457 0.21313594 0.21303858\n",
            " 0.21294249 0.21284764 0.21275401 0.21266158 0.21257033 0.21248023\n",
            " 0.21239128 0.21230345 0.21221672 0.21213107 0.21204649 0.21196297\n",
            " 0.21188047 0.211799   0.21171852 0.21163903 0.2115605  0.21148293\n",
            " 0.2114063  0.2113306  0.2112558  0.2111819  0.21110888 0.21103673\n",
            " 0.21096544 0.21089498 0.21082536 0.21075655 0.21068855 0.21062134\n",
            " 0.21055492 0.21048926 0.21042436 0.2103602  0.21029678 0.21023409\n",
            " 0.21017211 0.21011084 0.21005026 0.20999036 0.20993114 0.20987259\n",
            " 0.20981469 0.20975743 0.20970081 0.20964482 0.20958945 0.20953469\n",
            " 0.20948053 0.20942697 0.20937399 0.20932159 0.20926976 0.20921849\n",
            " 0.20916777 0.2091176  0.20906798 0.20901888 0.20897031 0.20892225\n",
            " 0.20887471 0.20882767 0.20878113 0.20873508 0.20868951 0.20864442\n",
            " 0.20859981 0.20855566 0.20851197 0.20846873 0.20842595 0.2083836\n",
            " 0.20834169 0.20830021 0.20825916 0.20821853 0.20817831 0.2081385\n",
            " 0.2080991  0.2080601  0.20802149 0.20798327 0.20794544 0.20790798\n",
            " 0.2078709  0.20783419 0.20779785 0.20776187 0.20772624 0.20769097\n",
            " 0.20765605 0.20762147 0.20758723 0.20755333 0.20751976 0.20748652\n",
            " 0.2074536  0.20742101 0.20738873 0.20735676 0.2073251  0.20729375\n",
            " 0.2072627  0.20723194 0.20720149 0.20717132 0.20714144 0.20711185\n",
            " 0.20708254 0.2070535  0.20702475 0.20699626 0.20696804 0.20694009\n",
            " 0.2069124  0.20688497 0.2068578  0.20683088 0.20680421 0.2067778\n",
            " 0.20675162 0.20672569 0.2067     0.20667455 0.20664933 0.20662434\n",
            " 0.20659958 0.20657505 0.20655075 0.20652667 0.2065028  0.20647916\n",
            " 0.20645573 0.20643251 0.2064095  0.2063867  0.2063641  0.20634171\n",
            " 0.20631952 0.20629753 0.20627574 0.20625414 0.20623274 0.20621152\n",
            " 0.2061905  0.20616966 0.206149   0.20612853 0.20610824 0.20608813\n",
            " 0.2060682  0.20604844 0.20602886 0.20600945 0.2059902  0.20597113\n",
            " 0.20595222 0.20593348 0.2059149  0.20589648 0.20587822 0.20586012\n",
            " 0.20584218 0.20582439 0.20580676 0.20578927 0.20577194 0.20575476\n",
            " 0.20573772 0.20572083 0.20570408 0.20568748 0.20567102 0.20565469\n",
            " 0.20563851 0.20562247 0.20560655 0.20559078 0.20557514 0.20555963\n",
            " 0.20554425 0.205529   0.20551388 0.20549888 0.20548401 0.20546927\n",
            " 0.20545464 0.20544014 0.20542577 0.20541151 0.20539737 0.20538334\n",
            " 0.20536943 0.20535564 0.20534196 0.2053284  0.20531495 0.2053016\n",
            " 0.20528837 0.20527525 0.20526223 0.20524932 0.20523652 0.20522382\n",
            " 0.20521122 0.20519873 0.20518633 0.20517404 0.20516185 0.20514976\n",
            " 0.20513777 0.20512587 0.20511407 0.20510236 0.20509075 0.20507923\n",
            " 0.20506781 0.20505647 0.20504523 0.20503408 0.20502301 0.20501204\n",
            " 0.20500115 0.20499035 0.20497964 0.20496901 0.20495846 0.204948\n",
            " 0.20493762 0.20492733 0.20491711 0.20490698]\n",
            "theta： [[1.50684266]\n",
            " [3.54336363]\n",
            " [3.29044192]]\n"
          ]
        }
      ]
    },
    {
      "cell_type": "code",
      "source": [
        "fig, ax = plt.subplots(figsize=(12,8))\n",
        "ax.plot(np.arange(Iterations), cost, 'r')\n",
        "ax.set_xlabel(\"Number of iterations\")\n",
        "ax.set_ylabel(\"Cost J\")\n",
        "plt.show()"
      ],
      "metadata": {
        "colab": {
          "base_uri": "https://localhost:8080/",
          "height": 497
        },
        "id": "_XCSyC7NlsSb",
        "outputId": "a8935158-9495-47db-caf0-45289c9139fa"
      },
      "execution_count": 155,
      "outputs": [
        {
          "output_type": "display_data",
          "data": {
            "text/plain": [
              "<Figure size 864x576 with 1 Axes>"
            ],
            "image/png": "[encoded data removed]"
          },
          "metadata": {
            "needs_background": "light"
          }
        }
      ]
    },
    {
      "cell_type": "code",
      "source": [
        "ComputePRandF1(X_scale, Y, theta)"
      ],
      "metadata": {
        "colab": {
          "base_uri": "https://localhost:8080/"
        },
        "id": "3fgiBoATluUM",
        "outputId": "42d31088-d865-4d18-a273-4dc2896f0a38"
      },
      "execution_count": 156,
      "outputs": [
        {
          "output_type": "stream",
          "name": "stdout",
          "text": [
            "TP：55, FP：6, TN：34, FN：5\n",
            "Precision： 0.9016393442622951\n",
            "Recall： 0.9166666666666666\n",
            "F1： 0.9090909090909091\n"
          ]
        }
      ]
    },
    {
      "cell_type": "markdown",
      "source": [
        "# 正则化的Logistic回归"
      ],
      "metadata": {
        "id": "VCZGg2XIsOQU"
      }
    },
    {
      "cell_type": "markdown",
      "source": [
        "## 读取数据"
      ],
      "metadata": {
        "id": "pstIhdPnsnxr"
      }
    },
    {
      "cell_type": "code",
      "source": [
        "path2 = base + \"/ex2data2.txt\"\n",
        "data2 = pd.read_csv(path2, header=None, names=[\"Test1\", \"Test2\", \"y\"])\n",
        "data2"
      ],
      "metadata": {
        "colab": {
          "base_uri": "https://localhost:8080/",
          "height": 424
        },
        "id": "xQdCc20bsOtw",
        "outputId": "d5ce151f-78fa-4698-c0da-c7e0040a186f"
      },
      "execution_count": 157,
      "outputs": [
        {
          "output_type": "execute_result",
          "data": {
            "text/plain": [
              "        Test1     Test2  y\n",
              "0    0.051267  0.699560  1\n",
              "1   -0.092742  0.684940  1\n",
              "2   -0.213710  0.692250  1\n",
              "3   -0.375000  0.502190  1\n",
              "4   -0.513250  0.465640  1\n",
              "..        ...       ... ..\n",
              "113 -0.720620  0.538740  0\n",
              "114 -0.593890  0.494880  0\n",
              "115 -0.484450  0.999270  0\n",
              "116 -0.006336  0.999270  0\n",
              "117  0.632650 -0.030612  0\n",
              "\n",
              "[118 rows x 3 columns]"
            ],
            "text/html": [
              "\n",
              "  <div id=\"df-ece558a5-f451-4266-983b-a35bd2300125\">\n",
              "    <div class=\"colab-df-container\">\n",
              "      <div>\n",
              "<style scoped>\n",
              "    .dataframe tbody tr th:only-of-type {\n",
              "        vertical-align: middle;\n",
              "    }\n",
              "\n",
              "    .dataframe tbody tr th {\n",
              "        vertical-align: top;\n",
              "    }\n",
              "\n",
              "    .dataframe thead th {\n",
              "        text-align: right;\n",
              "    }\n",
              "</style>\n",
              "<table border=\"1\" class=\"dataframe\">\n",
              "  <thead>\n",
              "    <tr style=\"text-align: right;\">\n",
              "      <th></th>\n",
              "      <th>Test1</th>\n",
              "      <th>Test2</th>\n",
              "      <th>y</th>\n",
              "    </tr>\n",
              "  </thead>\n",
              "  <tbody>\n",
              "    <tr>\n",
              "      <th>0</th>\n",
              "      <td>0.051267</td>\n",
              "      <td>0.699560</td>\n",
              "      <td>1</td>\n",
              "    </tr>\n",
              "    <tr>\n",
              "      <th>1</th>\n",
              "      <td>-0.092742</td>\n",
              "      <td>0.684940</td>\n",
              "      <td>1</td>\n",
              "    </tr>\n",
              "    <tr>\n",
              "      <th>2</th>\n",
              "      <td>-0.213710</td>\n",
              "      <td>0.692250</td>\n",
              "      <td>1</td>\n",
              "    </tr>\n",
              "    <tr>\n",
              "      <th>3</th>\n",
              "      <td>-0.375000</td>\n",
              "      <td>0.502190</td>\n",
              "      <td>1</td>\n",
              "    </tr>\n",
              "    <tr>\n",
              "      <th>4</th>\n",
              "      <td>-0.513250</td>\n",
              "      <td>0.465640</td>\n",
              "      <td>1</td>\n",
              "    </tr>\n",
              "    <tr>\n",
              "      <th>...</th>\n",
              "      <td>...</td>\n",
              "      <td>...</td>\n",
              "      <td>...</td>\n",
              "    </tr>\n",
              "    <tr>\n",
              "      <th>113</th>\n",
              "      <td>-0.720620</td>\n",
              "      <td>0.538740</td>\n",
              "      <td>0</td>\n",
              "    </tr>\n",
              "    <tr>\n",
              "      <th>114</th>\n",
              "      <td>-0.593890</td>\n",
              "      <td>0.494880</td>\n",
              "      <td>0</td>\n",
              "    </tr>\n",
              "    <tr>\n",
              "      <th>115</th>\n",
              "      <td>-0.484450</td>\n",
              "      <td>0.999270</td>\n",
              "      <td>0</td>\n",
              "    </tr>\n",
              "    <tr>\n",
              "      <th>116</th>\n",
              "      <td>-0.006336</td>\n",
              "      <td>0.999270</td>\n",
              "      <td>0</td>\n",
              "    </tr>\n",
              "    <tr>\n",
              "      <th>117</th>\n",
              "      <td>0.632650</td>\n",
              "      <td>-0.030612</td>\n",
              "      <td>0</td>\n",
              "    </tr>\n",
              "  </tbody>\n",
              "</table>\n",
              "<p>118 rows × 3 columns</p>\n",
              "</div>\n",
              "      <button class=\"colab-df-convert\" onclick=\"convertToInteractive('df-ece558a5-f451-4266-983b-a35bd2300125')\"\n",
              "              title=\"Convert this dataframe to an interactive table.\"\n",
              "              style=\"display:none;\">\n",
              "        \n",
              "  <svg xmlns=\"http://www.w3.org/2000/svg\" height=\"24px\"viewBox=\"0 0 24 24\"\n",
              "       width=\"24px\">\n",
              "    <path d=\"M0 0h24v24H0V0z\" fill=\"none\"/>\n",
              "    <path d=\"M18.56 5.44l.94 2.06.94-2.06 2.06-.94-2.06-.94-.94-2.06-.94 2.06-2.06.94zm-11 1L8.5 8.5l.94-2.06 2.06-.94-2.06-.94L8.5 2.5l-.94 2.06-2.06.94zm10 10l.94 2.06.94-2.06 2.06-.94-2.06-.94-.94-2.06-.94 2.06-2.06.94z\"/><path d=\"M17.41 7.96l-1.37-1.37c-.4-.4-.92-.59-1.43-.59-.52 0-1.04.2-1.43.59L10.3 9.45l-7.72 7.72c-.78.78-.78 2.05 0 2.83L4 21.41c.39.39.9.59 1.41.59.51 0 1.02-.2 1.41-.59l7.78-7.78 2.81-2.81c.8-.78.8-2.07 0-2.86zM5.41 20L4 18.59l7.72-7.72 1.47 1.35L5.41 20z\"/>\n",
              "  </svg>\n",
              "      </button>\n",
              "      \n",
              "  <style>\n",
              "    .colab-df-container {\n",
              "      display:flex;\n",
              "      flex-wrap:wrap;\n",
              "      gap: 12px;\n",
              "    }\n",
              "\n",
              "    .colab-df-convert {\n",
              "      background-color: #E8F0FE;\n",
              "      border: none;\n",
              "      border-radius: 50%;\n",
              "      cursor: pointer;\n",
              "      display: none;\n",
              "      fill: #1967D2;\n",
              "      height: 32px;\n",
              "      padding: 0 0 0 0;\n",
              "      width: 32px;\n",
              "    }\n",
              "\n",
              "    .colab-df-convert:hover {\n",
              "      background-color: #E2EBFA;\n",
              "      box-shadow: 0px 1px 2px rgba(60, 64, 67, 0.3), 0px 1px 3px 1px rgba(60, 64, 67, 0.15);\n",
              "      fill: #174EA6;\n",
              "    }\n",
              "\n",
              "    [theme=dark] .colab-df-convert {\n",
              "      background-color: #3B4455;\n",
              "      fill: #D2E3FC;\n",
              "    }\n",
              "\n",
              "    [theme=dark] .colab-df-convert:hover {\n",
              "      background-color: #434B5C;\n",
              "      box-shadow: 0px 1px 3px 1px rgba(0, 0, 0, 0.15);\n",
              "      filter: drop-shadow(0px 1px 2px rgba(0, 0, 0, 0.3));\n",
              "      fill: #FFFFFF;\n",
              "    }\n",
              "  </style>\n",
              "\n",
              "      <script>\n",
              "        const buttonEl =\n",
              "          document.querySelector('#df-ece558a5-f451-4266-983b-a35bd2300125 button.colab-df-convert');\n",
              "        buttonEl.style.display =\n",
              "          google.colab.kernel.accessAllowed ? 'block' : 'none';\n",
              "\n",
              "        async function convertToInteractive(key) {\n",
              "          const element = document.querySelector('#df-ece558a5-f451-4266-983b-a35bd2300125');\n",
              "          const dataTable =\n",
              "            await google.colab.kernel.invokeFunction('convertToInteractive',\n",
              "                                                     [key], {});\n",
              "          if (!dataTable) return;\n",
              "\n",
              "          const docLinkHtml = 'Like what you see? Visit the ' +\n",
              "            '<a target=\"_blank\" href=https://colab.research.google.com/notebooks/data_table.ipynb>data table notebook</a>'\n",
              "            + ' to learn more about interactive tables.';\n",
              "          element.innerHTML = '';\n",
              "          dataTable['output_type'] = 'display_data';\n",
              "          await google.colab.output.renderOutput(dataTable, element);\n",
              "          const docLink = document.createElement('div');\n",
              "          docLink.innerHTML = docLinkHtml;\n",
              "          element.appendChild(docLink);\n",
              "        }\n",
              "      </script>\n",
              "    </div>\n",
              "  </div>\n",
              "  "
            ]
          },
          "metadata": {},
          "execution_count": 157
        }
      ]
    },
    {
      "cell_type": "markdown",
      "source": [
        "## 数据可视化"
      ],
      "metadata": {
        "id": "Z1c1q4rMspaB"
      }
    },
    {
      "cell_type": "code",
      "source": [
        "positive = data2[data2['y'].isin([1])]\n",
        "negative = data2[data2['y'].isin([0])]\n",
        "\n",
        "fig, ax = plt.subplots(figsize=(12,8))\n",
        "ax.scatter(positive['Test1'], positive['Test2'], s=100, color='black', marker='+', label='y=1')\n",
        "ax.scatter(negative['Test1'], negative['Test2'], s=100, color='yellow', marker='o', label='y=0')\n",
        "ax.legend(loc=1)\n",
        "ax.set_xlabel(\"Microchip Test 1\")\n",
        "ax.set_ylabel(\"Microchip Test 2\")\n",
        "plt.xticks(np.arange(-1, 1.6, 0.5))\n",
        "plt.yticks(np.arange(-0.8, 1.3, 0.2))\n",
        "plt.show()"
      ],
      "metadata": {
        "colab": {
          "base_uri": "https://localhost:8080/",
          "height": 500
        },
        "id": "aTU08YnPspc7",
        "outputId": "ffc626fc-0e8b-420e-945c-8624279eaad1"
      },
      "execution_count": 158,
      "outputs": [
        {
          "output_type": "display_data",
          "data": {
            "text/plain": [
              "<Figure size 864x576 with 1 Axes>"
            ],
            "image/png": "[encoded data removed]"
          },
          "metadata": {
            "needs_background": "light"
          }
        }
      ]
    },
    {
      "cell_type": "markdown",
      "source": [
        "## 数据切割"
      ],
      "metadata": {
        "id": "GXfISKkHSGjd"
      }
    },
    {
      "cell_type": "code",
      "source": [
        "data2.insert(0, \"Ones\", 1)"
      ],
      "metadata": {
        "id": "XKhe5lnISGfz"
      },
      "execution_count": 159,
      "outputs": []
    },
    {
      "cell_type": "code",
      "source": [
        "cols = data2.shape[1]\n",
        "\n",
        "X2 = np.array(data2.iloc[:, :cols-1])\n",
        "Y2 = np.array(data2.iloc[:, cols-1:cols])"
      ],
      "metadata": {
        "id": "CTXyDqBwSPrf"
      },
      "execution_count": 160,
      "outputs": []
    },
    {
      "cell_type": "markdown",
      "source": [
        "## 特征映射（Feature mapping）\n",
        "公式：\n",
        "$$\n",
        "mapFeature(x)\n",
        "=\\begin{bmatrix}\n",
        "1 \\\\\n",
        "x_1 \\\\\n",
        "x_2 \\\\\n",
        "x_1^2 \\\\\n",
        "x_1x_2 \\\\\n",
        "x_2^2 \\\\\n",
        "x_1^3 \\\\\n",
        "\\vdots  \\\\\n",
        "x_1x_2^5 \\\\\n",
        "x_2^6\n",
        "\\end{bmatrix}\n",
        "$$\n",
        "将2维向量，转为28维向量"
      ],
      "metadata": {
        "id": "XDnIs7rYuMCe"
      }
    },
    {
      "cell_type": "code",
      "source": [
        "x1 = np.array(data2.iloc[:, 1])\n",
        "x2 = np.array(data2.iloc[:, 2])\n",
        "\n",
        "def FeatureMapping2to28(X, x1, x2):\n",
        "  X_augment = X\n",
        "  for i in range(2, 7):\n",
        "    temp = x1\n",
        "    for j in range(1, i):\n",
        "      temp = temp * x1\n",
        "    X_augment = np.c_[X_augment, temp]\n",
        "    for j in range(i):\n",
        "      temp = temp / x1 * x2\n",
        "      X_augment = np.c_[X_augment, temp]\n",
        "  return X_augment\n",
        "\n",
        "X2_augment = FeatureMapping2to28(X2, x1, x2)\n",
        "X2_augment.shape"
      ],
      "metadata": {
        "id": "DWDzzwTwuMFl",
        "colab": {
          "base_uri": "https://localhost:8080/"
        },
        "outputId": "eec8a2b7-1b9a-4ca1-d41a-82dfc7be4d07"
      },
      "execution_count": 161,
      "outputs": [
        {
          "output_type": "execute_result",
          "data": {
            "text/plain": [
              "(118, 28)"
            ]
          },
          "metadata": {},
          "execution_count": 161
        }
      ]
    },
    {
      "cell_type": "markdown",
      "source": [
        "## Sigmoid函数\n",
        "$$g(z)=\\frac{1}{1+e^{-z}}$$"
      ],
      "metadata": {
        "id": "EpCLOzfqcT-q"
      }
    },
    {
      "cell_type": "code",
      "source": [
        "def sigmoid(z):\n",
        "  return 1 / (1 + np.exp(-z))"
      ],
      "metadata": {
        "id": "uUjQu3AHch8q"
      },
      "execution_count": 162,
      "outputs": []
    },
    {
      "cell_type": "markdown",
      "source": [
        "## 假设函数\n",
        "### 单样本：\n",
        "$$\n",
        "h(\\theta)\n",
        "=g(\\theta^Tx)\n",
        "=g(\\theta_0x_0+\\theta_1x_1+...+\\theta_nx_n)\n",
        "$$\n",
        "其中：$x$为(n+1)×1维，$\\theta$为(n+1)×1维，$h(\\theta)$为标量。\n",
        "\n",
        "### 多样本：\n",
        "$$\n",
        "h(\\theta)\n",
        "=g(X\\theta)\n",
        "$$\n",
        "其中：$X$为m×(n+1)维，$\\theta$为(n+1)×1维，$h(\\theta)$为m×1维。"
      ],
      "metadata": {
        "id": "fcwpU_LYcaV0"
      }
    },
    {
      "cell_type": "code",
      "source": [
        "def Hypothesis(X, theta):\n",
        "  return sigmoid(X @ theta)"
      ],
      "metadata": {
        "id": "BGs1O3z0caV0"
      },
      "execution_count": 163,
      "outputs": []
    },
    {
      "cell_type": "markdown",
      "source": [
        "## 正则化的代价函数\n",
        "原公式：\n",
        "$$\n",
        "J(\\theta)\n",
        "=\\frac{1}{m}\\sum_{i=1}^{m}[-y^{(i)}\\log(\\hat y^{(i)})-(1-y^{(i)})\\log(1-\\hat y^{(i)})]+\\frac{\\lambda}{2m}\\sum_{j=1}^{n}\\theta_j^2\n",
        "$$\n",
        "\n",
        "实现公式：\n",
        "$$\n",
        "J(\\theta)\n",
        "=-\\frac{1}{m}[y^T\\log(\\hat y)+(1-y)^T\\log(1-\\hat y)]+\\frac{\\lambda}{2m}\\sum_{j=1}^{n}\\theta_j^2\n",
        "=-\\frac{1}{m}[y^T\\log(\\hat y)+(1-y)^T\\log(1-\\hat y)]+\\frac{\\lambda}{2m}(\\theta[1:])^T\\theta[1:]\n",
        "$$\n",
        "其中：\n",
        "$$\n",
        "\\theta[1:]\n",
        "=\\begin{bmatrix}\n",
        "\\theta_1 \\\\\n",
        "\\theta_2 \\\\\n",
        "\\vdots \\\\\n",
        "\\theta_n\n",
        "\\end{bmatrix}$$\n"
      ],
      "metadata": {
        "id": "ypYlOjUhaMkj"
      }
    },
    {
      "cell_type": "code",
      "source": [
        "def ComputeCostReg(X, Y, theta, lambd):\n",
        "  m = X.shape[0]\n",
        "  y_hat = Hypothesis(X, theta)\n",
        "  theta = theta[1:]\n",
        "  return -1 * (Y.T @ np.log(y_hat) + (1-Y).T @ np.log(1-y_hat)) / m + lambd / (2*m) * (theta.T @ theta)"
      ],
      "metadata": {
        "id": "OgF3Tg9daMne"
      },
      "execution_count": 164,
      "outputs": []
    },
    {
      "cell_type": "markdown",
      "source": [
        "## 计算带正则化的梯度\n",
        "公式：\n",
        "\n",
        "j = 0时：\n",
        "$$\n",
        "\\frac{\\partial J(\\theta )}{\\partial \\theta _0}\n",
        "=\\frac{1}{m}\\sum_{i=1}^{m}(\\hat{y}^{(i)} -y^{(i)})x_0^{(i)}\n",
        "$$\n",
        "j ≥ 1时：\n",
        "$$\n",
        "\\frac{\\partial J(\\theta )}{\\partial \\theta _j}\n",
        "=\\frac{1}{m}\\sum_{i=1}^{m}(\\hat{y}^{(i)} -y^{(i)})x_j^{(i)}+\\frac{\\lambda }{m}\\theta _j \n",
        "$$\n",
        "\n",
        "实现公式：\n",
        "\n",
        "j = 0时：\n",
        "$$\n",
        "\\frac{\\partial J(\\theta )}{\\partial \\theta _0}\n",
        "=\\frac{1}{m}(X[:, 0])^T(\\hat{y} -y)\n",
        "$$\n",
        "j ≥ 1时：\n",
        "$$\n",
        "\\frac{\\partial J(\\theta )}{\\partial \\theta }\n",
        "=\\frac{1}{m}(X[:, 1:])^T(\\hat{y} -y)+\\frac{\\lambda }{m}\\theta[1:]\n",
        "$$\n",
        "\n",
        "其中：\n",
        "$$\n",
        "\\theta[1:]\n",
        "=\\begin{bmatrix}\n",
        "\\theta_1 \\\\\n",
        "\\theta_2 \\\\\n",
        "\\vdots \\\\\n",
        "\\theta_n\n",
        "\\end{bmatrix}$$\n",
        "\n",
        "综合公式：\n",
        "$$\n",
        "\\frac{\\partial J(\\theta )}{\\partial \\theta }\n",
        "=\\frac{1}{m}X^T(\\hat{y} -y)+\\frac{\\lambda }{m}\\Theta\n",
        "$$\n",
        "\n",
        "其中：\n",
        "$$\n",
        "\\Theta\n",
        "=\\begin{bmatrix}\n",
        "0 \\\\\n",
        "\\theta_1 \\\\\n",
        "\\theta_2 \\\\\n",
        "\\vdots \\\\\n",
        "\\theta_n\n",
        "\\end{bmatrix}$$"
      ],
      "metadata": {
        "id": "SjQoKHbydQ-W"
      }
    },
    {
      "cell_type": "code",
      "source": [
        "def ComputePartialReg(X, Y, theta, lambd):\n",
        "  theta = np.insert(theta[1:], 0, values=0, axis=0)\n",
        "  m = X.shape[0]\n",
        "  y_hat = Hypothesis(X, theta)\n",
        "  return (X.T @ (y_hat - Y)) / m + lambd / m * theta"
      ],
      "metadata": {
        "id": "rqWB5GHWdQkn"
      },
      "execution_count": 165,
      "outputs": []
    },
    {
      "cell_type": "markdown",
      "source": [
        "## 梯度下降"
      ],
      "metadata": {
        "id": "PdkGhM59i_Th"
      }
    },
    {
      "cell_type": "code",
      "source": [
        "def GradientDescent(X, Y, theta, Iterations, LearningRate, lambd):\n",
        "  cost = np.zeros(Iterations)\n",
        "  for i in range(Iterations):\n",
        "    cost[i] = ComputeCostReg(X, Y, theta, lambd)\n",
        "    theta = theta - LearningRate * ComputePartialReg(X, Y, theta, lambd)\n",
        "  return cost, theta"
      ],
      "metadata": {
        "id": "Vr7SR_36i_hO"
      },
      "execution_count": 166,
      "outputs": []
    },
    {
      "cell_type": "markdown",
      "source": [
        "## 运行梯度下降"
      ],
      "metadata": {
        "id": "0GeFvfL9i_pm"
      }
    },
    {
      "cell_type": "code",
      "source": [
        "# 超参数设置\n",
        "Iterations = 3000\n",
        "LearningRate = 0.01\n",
        "lambd = 10\n",
        "\n",
        "theta = np.matrix(np.ones(X2_augment.shape[1])).T\n",
        "\n",
        "cost, theta = GradientDescent(X2_augment, Y2, theta, Iterations, LearningRate, lambd)\n",
        "# print(cost)\n",
        "# print(theta)"
      ],
      "metadata": {
        "id": "76s89LIPi_tQ"
      },
      "execution_count": 167,
      "outputs": []
    },
    {
      "cell_type": "markdown",
      "source": [
        "## 绘制代价函数曲线"
      ],
      "metadata": {
        "id": "Ikc_O4PRkse9"
      }
    },
    {
      "cell_type": "code",
      "source": [
        "fig, ax = plt.subplots(figsize=(12,8))\n",
        "ax.plot(np.arange(Iterations), cost, 'r')\n",
        "ax.set_xlabel(\"Number of iterations\")\n",
        "ax.set_ylabel(\"Cost J\")\n",
        "plt.show()"
      ],
      "metadata": {
        "colab": {
          "base_uri": "https://localhost:8080/",
          "height": 497
        },
        "id": "LS473WsLksaM",
        "outputId": "d045ce35-c8a0-4184-8813-1b456f271fc7"
      },
      "execution_count": 168,
      "outputs": [
        {
          "output_type": "display_data",
          "data": {
            "text/plain": [
              "<Figure size 864x576 with 1 Axes>"
            ],
            "image/png": "[encoded data removed]"
          },
          "metadata": {
            "needs_background": "light"
          }
        }
      ]
    },
    {
      "cell_type": "markdown",
      "source": [
        "## 计算Precision和Recall"
      ],
      "metadata": {
        "id": "g2oVIE96rmSA"
      }
    },
    {
      "cell_type": "code",
      "source": [
        "def ComputePRandF1(X, Y, theta):\n",
        "  TP = 0\n",
        "  FP = 0\n",
        "  TN = 0\n",
        "  FN = 0\n",
        "\n",
        "  y_hat = Hypothesis(X, theta)\n",
        "  for i in range(X.shape[0]):\n",
        "    y_hat[i] = 1 if y_hat[i] >= 0.5 else 0\n",
        "    \n",
        "    if y_hat[i]:\n",
        "      if y_hat[i] == Y[i]:\n",
        "        TP = TP + 1\n",
        "      else:\n",
        "        FP = FP + 1\n",
        "    else:\n",
        "      if y_hat[i] == Y[i]:\n",
        "        TN = TN + 1\n",
        "      else:\n",
        "        FN = FN + 1\n",
        "  P = TP/(TP+FP)\n",
        "  R = TP/(TP+FN)\n",
        "  F1 = 2*P*R/(P+R)\n",
        "  print(\"TP：%d, FP：%d, TN：%d, FN：%d\" % (TP, FP, TN, FN))\n",
        "  print(\"Precision：\", P)\n",
        "  print(\"Recall：\", R)\n",
        "  print(\"F1：\", F1)"
      ],
      "metadata": {
        "id": "diRrt5-UrmSA"
      },
      "execution_count": 169,
      "outputs": []
    },
    {
      "cell_type": "code",
      "source": [
        "ComputePRandF1(X2_augment, Y2, theta)"
      ],
      "metadata": {
        "colab": {
          "base_uri": "https://localhost:8080/"
        },
        "outputId": "1efd7648-28b3-4ced-9582-e0cdc5728b84",
        "id": "NQYdAW0XrmSB"
      },
      "execution_count": 170,
      "outputs": [
        {
          "output_type": "stream",
          "name": "stdout",
          "text": [
            "TP：58, FP：52, TN：8, FN：0\n",
            "Precision： 0.5272727272727272\n",
            "Recall： 1.0\n",
            "F1： 0.6904761904761904\n"
          ]
        }
      ]
    }
  ]
}