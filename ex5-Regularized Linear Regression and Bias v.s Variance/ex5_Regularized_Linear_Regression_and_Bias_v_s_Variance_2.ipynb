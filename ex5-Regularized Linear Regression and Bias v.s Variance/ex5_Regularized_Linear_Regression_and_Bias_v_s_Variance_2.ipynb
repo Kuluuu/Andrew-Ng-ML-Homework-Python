{
  "nbformat": 4,
  "nbformat_minor": 0,
  "metadata": {
    "colab": {
      "name": "ex5-Regularized Linear Regression and Bias v.s Variance-2.ipynb",
      "provenance": [],
      "collapsed_sections": [],
      "toc_visible": true
    },
    "kernelspec": {
      "name": "python3",
      "display_name": "Python 3"
    },
    "language_info": {
      "name": "python"
    }
  },
  "cells": [
    {
      "cell_type": "markdown",
      "source": [
        "# 导入包"
      ],
      "metadata": {
        "id": "QBtw6Z7JKbsJ"
      }
    },
    {
      "cell_type": "code",
      "source": [
        "import numpy as np\n",
        "import matplotlib.pyplot as plt\n",
        "import scipy.io as io\n",
        "\n",
        "base = \"/content/drive/MyDrive/Colab Notebooks/AndrewNg-Machine-Learning-Homework/ex5-Regularized-Linear-Regression-and-Bias-v.s-Variance\""
      ],
      "metadata": {
        "id": "Ey86-Q1YKc1_"
      },
      "execution_count": 2,
      "outputs": []
    },
    {
      "cell_type": "markdown",
      "source": [
        "# 导入数据"
      ],
      "metadata": {
        "id": "tJ1wsyrRKTv2"
      }
    },
    {
      "cell_type": "code",
      "source": [
        "path = base + \"/ex5data1.mat\"\n",
        "data = io.loadmat(path)\n",
        "data"
      ],
      "metadata": {
        "colab": {
          "base_uri": "https://localhost:8080/"
        },
        "id": "EoSDmp3HKbgz",
        "outputId": "642aa08b-2797-46da-ad9d-723f6c1744fe"
      },
      "execution_count": 3,
      "outputs": [
        {
          "output_type": "execute_result",
          "data": {
            "text/plain": [
              "{'X': array([[-15.93675813],\n",
              "        [-29.15297922],\n",
              "        [ 36.18954863],\n",
              "        [ 37.49218733],\n",
              "        [-48.05882945],\n",
              "        [ -8.94145794],\n",
              "        [ 15.30779289],\n",
              "        [-34.70626581],\n",
              "        [  1.38915437],\n",
              "        [-44.38375985],\n",
              "        [  7.01350208],\n",
              "        [ 22.76274892]]), 'Xtest': array([[-33.31800399],\n",
              "        [-37.91216403],\n",
              "        [-51.20693795],\n",
              "        [ -6.13259585],\n",
              "        [ 21.26118327],\n",
              "        [-40.31952949],\n",
              "        [-14.54153167],\n",
              "        [ 32.55976024],\n",
              "        [ 13.39343255],\n",
              "        [ 44.20988595],\n",
              "        [ -1.14267768],\n",
              "        [-12.76686065],\n",
              "        [ 34.05450539],\n",
              "        [ 39.22350028],\n",
              "        [  1.97449674],\n",
              "        [ 29.6217551 ],\n",
              "        [-23.66962971],\n",
              "        [ -9.01180139],\n",
              "        [-55.94057091],\n",
              "        [-35.70859752],\n",
              "        [  9.51020533]]), 'Xval': array([[-16.74653578],\n",
              "        [-14.57747075],\n",
              "        [ 34.51575866],\n",
              "        [-47.01007574],\n",
              "        [ 36.97511905],\n",
              "        [-40.68611002],\n",
              "        [ -4.47201098],\n",
              "        [ 26.53363489],\n",
              "        [-42.7976831 ],\n",
              "        [ 25.37409938],\n",
              "        [-31.10955398],\n",
              "        [ 27.31176864],\n",
              "        [ -3.26386201],\n",
              "        [ -1.81827649],\n",
              "        [-40.7196624 ],\n",
              "        [-50.01324365],\n",
              "        [-17.41177155],\n",
              "        [  3.5881937 ],\n",
              "        [  7.08548026],\n",
              "        [ 46.28236902],\n",
              "        [ 14.61228909]]), '__globals__': [], '__header__': b'MATLAB 5.0 MAT-file, Platform: GLNXA64, Created on: Fri Nov  4 22:27:26 2011', '__version__': '1.0', 'y': array([[ 2.13431051],\n",
              "        [ 1.17325668],\n",
              "        [34.35910918],\n",
              "        [36.83795516],\n",
              "        [ 2.80896507],\n",
              "        [ 2.12107248],\n",
              "        [14.71026831],\n",
              "        [ 2.61418439],\n",
              "        [ 3.74017167],\n",
              "        [ 3.73169131],\n",
              "        [ 7.62765885],\n",
              "        [22.7524283 ]]), 'ytest': array([[ 3.31688953],\n",
              "        [ 5.39768952],\n",
              "        [ 0.13042984],\n",
              "        [ 6.1925982 ],\n",
              "        [17.08848712],\n",
              "        [ 0.79950805],\n",
              "        [ 2.82479183],\n",
              "        [28.62123334],\n",
              "        [17.04639081],\n",
              "        [55.38437334],\n",
              "        [ 4.07936733],\n",
              "        [ 8.27039793],\n",
              "        [31.32355102],\n",
              "        [39.15906103],\n",
              "        [ 8.08727989],\n",
              "        [24.11134389],\n",
              "        [ 2.4773548 ],\n",
              "        [ 6.56606472],\n",
              "        [ 6.0380888 ],\n",
              "        [ 4.69273956],\n",
              "        [10.83004606]]), 'yval': array([[ 4.17020201e+00],\n",
              "        [ 4.06726280e+00],\n",
              "        [ 3.18730676e+01],\n",
              "        [ 1.06236562e+01],\n",
              "        [ 3.18360213e+01],\n",
              "        [ 4.95936972e+00],\n",
              "        [ 4.45159880e+00],\n",
              "        [ 2.22763185e+01],\n",
              "        [-4.38738274e-05],\n",
              "        [ 2.05038016e+01],\n",
              "        [ 3.85834476e+00],\n",
              "        [ 1.93650529e+01],\n",
              "        [ 4.88376281e+00],\n",
              "        [ 1.10971588e+01],\n",
              "        [ 7.46170827e+00],\n",
              "        [ 1.47693464e+00],\n",
              "        [ 2.71916388e+00],\n",
              "        [ 1.09269007e+01],\n",
              "        [ 8.34871235e+00],\n",
              "        [ 5.27819280e+01],\n",
              "        [ 1.33573396e+01]])}"
            ]
          },
          "metadata": {},
          "execution_count": 3
        }
      ]
    },
    {
      "cell_type": "markdown",
      "source": [
        "# 数据切割\n",
        "This dataset is divided into three parts:\n",
        "+ A training set that your model will learn on: X, y\n",
        "+ A cross validation set for determining the regularization parameter:\n",
        "Xval, yval\n",
        "+ A test set for evaluating performance. These are “unseen” examples\n",
        "which your model did not see during training: Xtest, ytest"
      ],
      "metadata": {
        "id": "eeB34WMZKvxT"
      }
    },
    {
      "cell_type": "code",
      "source": [
        "X = data[\"X\"]\n",
        "y = data[\"y\"]\n",
        "Xtest = data[\"Xtest\"]\n",
        "ytest = data[\"ytest\"]\n",
        "Xval = data[\"Xval\"]\n",
        "yval = data[\"yval\"]\n",
        "\n",
        "print(\"X：\", X)\n",
        "print(\"y：\", y)\n",
        "print(\"Xtest：\", Xtest)\n",
        "print(\"ytest：\", ytest)\n",
        "print(\"Xval：\", Xval)\n",
        "print(\"yval：\", yval)"
      ],
      "metadata": {
        "colab": {
          "base_uri": "https://localhost:8080/"
        },
        "id": "fhzM_4oJKvzw",
        "outputId": "cf0807c8-f5f2-42ff-ed7d-ce0d32467740"
      },
      "execution_count": 4,
      "outputs": [
        {
          "output_type": "stream",
          "name": "stdout",
          "text": [
            "X： [[-15.93675813]\n",
            " [-29.15297922]\n",
            " [ 36.18954863]\n",
            " [ 37.49218733]\n",
            " [-48.05882945]\n",
            " [ -8.94145794]\n",
            " [ 15.30779289]\n",
            " [-34.70626581]\n",
            " [  1.38915437]\n",
            " [-44.38375985]\n",
            " [  7.01350208]\n",
            " [ 22.76274892]]\n",
            "y： [[ 2.13431051]\n",
            " [ 1.17325668]\n",
            " [34.35910918]\n",
            " [36.83795516]\n",
            " [ 2.80896507]\n",
            " [ 2.12107248]\n",
            " [14.71026831]\n",
            " [ 2.61418439]\n",
            " [ 3.74017167]\n",
            " [ 3.73169131]\n",
            " [ 7.62765885]\n",
            " [22.7524283 ]]\n",
            "Xtest： [[-33.31800399]\n",
            " [-37.91216403]\n",
            " [-51.20693795]\n",
            " [ -6.13259585]\n",
            " [ 21.26118327]\n",
            " [-40.31952949]\n",
            " [-14.54153167]\n",
            " [ 32.55976024]\n",
            " [ 13.39343255]\n",
            " [ 44.20988595]\n",
            " [ -1.14267768]\n",
            " [-12.76686065]\n",
            " [ 34.05450539]\n",
            " [ 39.22350028]\n",
            " [  1.97449674]\n",
            " [ 29.6217551 ]\n",
            " [-23.66962971]\n",
            " [ -9.01180139]\n",
            " [-55.94057091]\n",
            " [-35.70859752]\n",
            " [  9.51020533]]\n",
            "ytest： [[ 3.31688953]\n",
            " [ 5.39768952]\n",
            " [ 0.13042984]\n",
            " [ 6.1925982 ]\n",
            " [17.08848712]\n",
            " [ 0.79950805]\n",
            " [ 2.82479183]\n",
            " [28.62123334]\n",
            " [17.04639081]\n",
            " [55.38437334]\n",
            " [ 4.07936733]\n",
            " [ 8.27039793]\n",
            " [31.32355102]\n",
            " [39.15906103]\n",
            " [ 8.08727989]\n",
            " [24.11134389]\n",
            " [ 2.4773548 ]\n",
            " [ 6.56606472]\n",
            " [ 6.0380888 ]\n",
            " [ 4.69273956]\n",
            " [10.83004606]]\n",
            "Xval： [[-16.74653578]\n",
            " [-14.57747075]\n",
            " [ 34.51575866]\n",
            " [-47.01007574]\n",
            " [ 36.97511905]\n",
            " [-40.68611002]\n",
            " [ -4.47201098]\n",
            " [ 26.53363489]\n",
            " [-42.7976831 ]\n",
            " [ 25.37409938]\n",
            " [-31.10955398]\n",
            " [ 27.31176864]\n",
            " [ -3.26386201]\n",
            " [ -1.81827649]\n",
            " [-40.7196624 ]\n",
            " [-50.01324365]\n",
            " [-17.41177155]\n",
            " [  3.5881937 ]\n",
            " [  7.08548026]\n",
            " [ 46.28236902]\n",
            " [ 14.61228909]]\n",
            "yval： [[ 4.17020201e+00]\n",
            " [ 4.06726280e+00]\n",
            " [ 3.18730676e+01]\n",
            " [ 1.06236562e+01]\n",
            " [ 3.18360213e+01]\n",
            " [ 4.95936972e+00]\n",
            " [ 4.45159880e+00]\n",
            " [ 2.22763185e+01]\n",
            " [-4.38738274e-05]\n",
            " [ 2.05038016e+01]\n",
            " [ 3.85834476e+00]\n",
            " [ 1.93650529e+01]\n",
            " [ 4.88376281e+00]\n",
            " [ 1.10971588e+01]\n",
            " [ 7.46170827e+00]\n",
            " [ 1.47693464e+00]\n",
            " [ 2.71916388e+00]\n",
            " [ 1.09269007e+01]\n",
            " [ 8.34871235e+00]\n",
            " [ 5.27819280e+01]\n",
            " [ 1.33573396e+01]]\n"
          ]
        }
      ]
    },
    {
      "cell_type": "markdown",
      "source": [
        "# 多项式回归\n",
        "$\n",
        "\\begin{aligned}\n",
        "h_{\\theta}(x) &=\\theta_{0}+\\theta_{1} *(\\text { waterLevel })+\\theta_{2} *(\\text { waterLevel })^{2}+\\cdots+\\theta_{p} *(\\text { waterLevel })^{p} \\\\\n",
        "&=\\theta_{0}+\\theta_{1} x_{1}+\\theta_{2} x_{2}+\\ldots+\\theta_{p} x_{p}\n",
        "\\end{aligned}\n",
        "$\n",
        "+ 这里设置p=8\n",
        "\n"
      ],
      "metadata": {
        "id": "M5dZt4JGlR5T"
      }
    },
    {
      "cell_type": "markdown",
      "source": [
        "## 创造多项式特征"
      ],
      "metadata": {
        "id": "Yf8IC7PNmYbh"
      }
    },
    {
      "cell_type": "code",
      "source": [
        "def createPolynomial(X, p):  # 不包括偏置项 +1\n",
        "  # X - (m, n)\n",
        "\n",
        "  X_poly = np.ones([X.shape[0], p])\n",
        "\n",
        "  base = X[:, 0]\n",
        "  X_poly[:, 0] = base\n",
        "  for i in range(1, p):\n",
        "    base = base * base\n",
        "    X_poly[:, i] = base\n",
        "  return X_poly"
      ],
      "metadata": {
        "id": "OieuLJOimYeJ"
      },
      "execution_count": 17,
      "outputs": []
    },
    {
      "cell_type": "code",
      "source": [
        "X_poly = createPolynomial(X, 8)\n",
        "print(X_poly)"
      ],
      "metadata": {
        "colab": {
          "base_uri": "https://localhost:8080/"
        },
        "id": "cGDdO5bFm8hw",
        "outputId": "861d9d85-d9cf-4f03-aa47-b2f63b2fa7fd"
      },
      "execution_count": 18,
      "outputs": [
        {
          "output_type": "stream",
          "name": "stdout",
          "text": [
            "[[-1.59367581e+001  2.53980260e+002  6.45059724e+004  4.16102047e+009\n",
            "   1.73140914e+019  2.99777760e+038  8.98667054e+076  8.07602473e+153]\n",
            " [-2.91529792e+001  8.49896197e+002  7.22323546e+005  5.21751305e+011\n",
            "   2.72224425e+023  7.41061373e+046  5.49171959e+093  3.01589840e+187]\n",
            " [ 3.61895486e+001  1.30968343e+003  1.71527069e+006  2.94215353e+012\n",
            "   8.65626738e+024  7.49309649e+049  5.61464950e+099  3.15242891e+199]\n",
            " [ 3.74921873e+001  1.40566411e+003  1.97589159e+006  3.90414759e+012\n",
            "   1.52423684e+025  2.32329794e+050  5.39771331e+100  2.91353089e+201]\n",
            " [-4.80588295e+001  2.30965109e+003  5.33448815e+006  2.84567638e+013\n",
            "   8.09787407e+026  6.55755645e+053  4.30015466e+107  1.84913301e+215]\n",
            " [-8.94145794e+000  7.99496701e+001  6.39194974e+003  4.08570215e+007\n",
            "   1.66929621e+015  2.78654983e+030  7.76485993e+060  6.02930497e+121]\n",
            " [ 1.53077929e+001  2.34328523e+002  5.49098568e+004  3.01509237e+009\n",
            "   9.09078199e+018  8.26423173e+037  6.82975260e+075  4.66455206e+151]\n",
            " [-3.47062658e+001  1.20452489e+003  1.45088020e+006  2.10505336e+012\n",
            "   4.43124966e+024  1.96359735e+049  3.85571456e+098  1.48665347e+197]\n",
            " [ 1.38915437e+000  1.92974986e+000  3.72393452e+000  1.38676883e+001\n",
            "   1.92312779e+002  3.69842051e+004  1.36783143e+009  1.87096282e+018]\n",
            " [-4.43837599e+001  1.96991814e+003  3.88057747e+006  1.50588815e+013\n",
            "   2.26769913e+026  5.14245933e+052  2.64448880e+105  6.99332099e+210]\n",
            " [ 7.01350208e+000  4.91892115e+001  2.41957852e+003  5.85436023e+006\n",
            "   3.42735337e+013  1.17467512e+027  1.37986163e+054  1.90401811e+108]\n",
            " [ 2.27627489e+001  5.18142738e+002  2.68471897e+005  7.20771597e+010\n",
            "   5.19511694e+021  2.69892401e+043  7.28419079e+086  5.30594355e+173]]\n"
          ]
        }
      ]
    },
    {
      "cell_type": "markdown",
      "source": [
        "## 特征归一化\n",
        "公式：\n",
        "$$\n",
        "X_j = \\frac{X_j-\\mu _j}{max(X_j)-min(X_j)}\n",
        "$$"
      ],
      "metadata": {
        "id": "oHYUskRzl3_d"
      }
    },
    {
      "cell_type": "code",
      "source": [
        "def featureNormalization(X): # 不包括偏置项 +1\n",
        "  # X - (m, n)\n",
        "\n",
        "  X_scale = X\n",
        "  for j in range(X.shape[1]):\n",
        "    X_scale[:, j] = (X[:, j] - np.mean(X[:, j])) / (np.max(X[:, j] - np.min(X[:, j])))\n",
        "  return X_scale"
      ],
      "metadata": {
        "id": "BlFzifoulSAe"
      },
      "execution_count": 19,
      "outputs": []
    },
    {
      "cell_type": "code",
      "source": [
        "X_scale = featureNormalization(X_poly)\n",
        "print(X_scale)"
      ],
      "metadata": {
        "colab": {
          "base_uri": "https://localhost:8080/"
        },
        "id": "KoC54eTbnY6R",
        "outputId": "422f8035-7418-4648-b44b-f377ab388cd8"
      },
      "execution_count": 20,
      "outputs": [
        {
          "output_type": "stream",
          "name": "stdout",
          "text": [
            "[[-1.26840477e-01 -2.57797406e-01 -2.29670164e-01 -1.55259277e-01\n",
            "  -1.09613588e-01 -8.99099147e-02 -8.38458244e-02 -8.33364850e-02]\n",
            " [-2.81323984e-01  4.29585471e-04 -1.06355984e-01 -1.37070621e-01\n",
            "  -1.09277442e-01 -8.99098017e-02 -8.38458244e-02 -8.33364850e-02]\n",
            " [ 4.82460367e-01  1.99668213e-01  7.97814309e-02 -5.20151931e-02\n",
            "  -9.89240544e-02 -8.97956481e-02 -8.38458113e-02 -8.33364850e-02]\n",
            " [ 4.97686822e-01  2.41259318e-01  1.28637306e-01 -1.82097307e-02\n",
            "  -9.07909309e-02 -8.95556214e-02 -8.38456988e-02 -8.33364850e-02]\n",
            " [-5.02313178e-01  6.32982081e-01  7.58238274e-01  8.44594501e-01\n",
            "   8.90386390e-01  9.10090085e-01  9.16154176e-01  9.16663515e-01]\n",
            " [-4.50728902e-02 -3.33209712e-01 -2.40564192e-01 -1.55404064e-01\n",
            "  -1.09613610e-01 -8.99099147e-02 -8.38458244e-02 -8.33364850e-02]\n",
            " [ 2.38374949e-01 -2.66313051e-01 -2.31469047e-01 -1.55299546e-01\n",
            "  -1.09613599e-01 -8.99099147e-02 -8.38458244e-02 -8.33364850e-02]\n",
            " [-3.46235972e-01  1.54100084e-01  3.02189122e-02 -8.14317554e-02\n",
            "  -1.04141495e-01 -8.98799706e-02 -8.38458235e-02 -8.33364850e-02]\n",
            " [ 7.56809324e-02 -3.67017919e-01 -2.41761726e-01 -1.55405499e-01\n",
            "  -1.09613610e-01 -8.99099147e-02 -8.38458244e-02 -8.33364850e-02]\n",
            " [-4.59355540e-01  4.85766321e-01  4.85688846e-01  3.73779113e-01\n",
            "   1.70422744e-01 -1.14895554e-02 -7.76960716e-02 -8.32986655e-02]\n",
            " [ 1.41423549e-01 -3.46539077e-01 -2.41308851e-01 -1.55405294e-01\n",
            "  -1.09613610e-01 -8.99099147e-02 -8.38458244e-02 -8.33364850e-02]\n",
            " [ 3.25515421e-01 -1.43328438e-01 -1.91434805e-01 -1.52872634e-01\n",
            "  -1.09607194e-01 -8.99099146e-02 -8.38458244e-02 -8.33364850e-02]]\n"
          ]
        }
      ]
    },
    {
      "cell_type": "markdown",
      "source": [
        "## 线性假设函数\n",
        "公式：\n",
        "$$\n",
        "h_\\theta(X)=X\\theta\n",
        "$$\n",
        "其中：$X$为m×(n+1)维，$\\theta$为(n+1)×1维。"
      ],
      "metadata": {
        "id": "pKYH0Jjs5uyA"
      }
    },
    {
      "cell_type": "code",
      "source": [
        "def Hypothesis(X, theta):\n",
        "  # X - (m, n+1)\n",
        "  # theta - (n+1, 1)\n",
        "  return X @ theta"
      ],
      "metadata": {
        "id": "gzHUHXP2Nsau"
      },
      "execution_count": 21,
      "outputs": []
    },
    {
      "cell_type": "markdown",
      "source": [
        "## 正则化的线性回归代价函数\n",
        "公式：\n",
        "$$\n",
        "J(\\theta)=\\frac{1}{2m}\\sum_{i=1}^m(h_\\theta(x^{(i)})-y^{(i)})^2+\\frac{\\lambda}{2m}\\sum_{i=1}^n\\theta_j^2\n",
        "$$\n",
        "\n",
        "***\n",
        "实现公式：\n",
        "$$\n",
        "J(\\theta)=\\frac{1}{2m}(h_\\theta(X)-y)^T(h_\\theta(X)-y)+\\frac{\\lambda}{2m}\\theta^T\\theta\n",
        "$$"
      ],
      "metadata": {
        "id": "1-3EoQu7MLkP"
      }
    },
    {
      "cell_type": "code",
      "source": [
        "def ComputeLinearRegressionCostReg(X, y, theta, lambd):\n",
        "  # X - (m, n+1)\n",
        "  # y - (m, 1)\n",
        "  # theta - (n+1, 1)\n",
        "\n",
        "  m = X.shape[0]\n",
        "  y_hat = Hypothesis(X, theta)\n",
        "\n",
        "  first = (y_hat - y).T @ (y_hat - y) / (2 * m)\n",
        "  reg = lambd * (theta.T @ theta) / (2 * m)\n",
        "\n",
        "  ret = (float)(first + reg)\n",
        "  return ret"
      ],
      "metadata": {
        "id": "DrhGec7gMLng"
      },
      "execution_count": 22,
      "outputs": []
    },
    {
      "cell_type": "markdown",
      "source": [
        "## 正则化的线性回归梯度\n",
        "公式：\n",
        "$$\n",
        "\\begin{aligned}\n",
        "\\frac{\\partial J(\\theta )}{\\partial \\theta _0} &=\\frac{1}{m}\\sum_{i=1}^m(h_\\theta(x^{(i)})-y^{(i)})x_j^{(i)} \\ \\ \\ \\ \\ \\ \\ \\ \\ \\ \\ \\ \\ \\ \\ \\ \\ \\ \\ for\\ j = 0\\\\\n",
        "\\frac{\\partial J(\\theta )}{\\partial \\theta _0} &=(\\frac{1}{m}\\sum_{i=1}^m(h_\\theta(x^{(i)})-y^{(i)})x_j^{(i)} )+\\frac{\\lambda }{m}\\theta _j\\ \\ \\ for\\ j \\ge 1\n",
        "\\end{aligned}\n",
        "$$\n",
        "\n",
        "***\n",
        "实现公式：\n",
        "$$\n",
        "\\frac{\\partial J(\\theta )}{\\partial \\theta} = \\frac{1}{m}X^T(h_\\theta(X)-y)+\\frac{\\lambda}{m}\\Theta\n",
        "$$\n",
        "\n",
        "其中：$\\Theta = \\begin{bmatrix}\n",
        "0 \\\\\n",
        "\\theta_1 \\\\\n",
        "\\theta_2 \\\\\n",
        "\\vdots \\\\\n",
        "\\theta_n\n",
        "\\end{bmatrix}_{(n+1)\\times 1}$"
      ],
      "metadata": {
        "id": "j9v7s1EeQUWm"
      }
    },
    {
      "cell_type": "code",
      "source": [
        "def ComputeLinearRegressionGradientReg(X, y, theta, lambd):\n",
        "  # X - (m, n+1)\n",
        "  # y - (m, 1)\n",
        "  # theta - (n+1, 1)\n",
        "\n",
        "  m = X.shape[0]\n",
        "  y_hat = Hypothesis(X, theta)\n",
        "\n",
        "  Theta = np.insert(theta, 0, values=0, axis=0)\n",
        "\n",
        "  first = X.T @ (y_hat - y) / m\n",
        "  reg = lambd * theta / m\n",
        "\n",
        "  return (float)(first + reg)"
      ],
      "metadata": {
        "id": "uLRqopJoQUZ1"
      },
      "execution_count": 23,
      "outputs": []
    },
    {
      "cell_type": "markdown",
      "source": [
        "## 梯度下降"
      ],
      "metadata": {
        "id": "k5-ZSwmZp2kY"
      }
    },
    {
      "cell_type": "code",
      "source": [
        "def GradientDescent(X, y, theta, lambd, Iterations, LearningRate):\n",
        "  # X - (m, n+1)\n",
        "  # y - (m, 1)\n",
        "  # theta - (n+1, 1)\n",
        "\n",
        "  cost = np.zeros(Iterations)\n",
        "  for i in range(Iterations):\n",
        "    theta -= LearningRate * ComputeLinearRegressionGradientReg(X, y, theta, lambd)\n",
        "    cost[i] = ComputeLinearRegressionCostReg(X, y, theta, lambd)\n",
        "\n",
        "  return theta"
      ],
      "metadata": {
        "id": "DXhYVZBWUjgY"
      },
      "execution_count": 24,
      "outputs": []
    },
    {
      "cell_type": "code",
      "source": [
        "def runGradientDescent(X, y, lambd, Iterations, LearningRate):\n",
        "  # X - (m, n+1)\n",
        "  # y - (m, 1)\n",
        "\n",
        "  theta = np.zeros([X.shape[1], 1]) # theta - (n+1, 1)\n",
        "\n",
        "  theta = GradientDescent(X, y, theta, lambd, Iterations, LearningRate)\n",
        "  return theta"
      ],
      "metadata": {
        "id": "bIhL7bSMvbaD"
      },
      "execution_count": 25,
      "outputs": []
    },
    {
      "cell_type": "code",
      "source": [
        "def plotLearningCurve(X, y, Xval, yval, lambd, Iterations, LearningRate):\n",
        "  trainCost = np.zeros(X.shape[0] + 1)\n",
        "  valCost = np.zeros(X.shape[0] + 1)\n",
        "\n",
        "  for i in range(1, X.shape[0] + 1):\n",
        "    theta = runGradientDescent(X[:i, ], y[:i, ], lambd, Iterations, LearningRate)\n",
        "\n",
        "    trainCost[i] = ComputeLinearRegressionCostReg(X[:i, ], y[:i, ], theta, lambd)\n",
        "    valCost[i] = ComputeLinearRegressionCostReg(Xval, yval, theta, lambd)\n",
        "\n",
        "  return trainCost, valCost"
      ],
      "metadata": {
        "id": "DW54fvmkvg8z"
      },
      "execution_count": 42,
      "outputs": []
    },
    {
      "cell_type": "code",
      "source": [
        "X_poly = createPolynomial(X, 8)\n",
        "X_scale = featureNormalization(X_poly)\n",
        "X_scale_insert = np.insert(X_scale, 0, values=1, axis=1) # X_scale_insert - (12, 9)\n",
        "Xval_poly = createPolynomial(Xval, 8)\n",
        "Xval_scale = featureNormalization(Xval_poly)\n",
        "Xval_scale_insert = np.insert(Xval_scale, 0, values=1, axis=1) # Xval_scale_insert - (12, 9)\n",
        "\n",
        "trainCost2, valCost2 = plotLearningCurve(X_scale_insert, y, Xval_scale_insert, yval, lambd=10, Iterations=1500, LearningRate=0.1)\n",
        "\n",
        "print(trainCost2, valCost2)"
      ],
      "metadata": {
        "colab": {
          "base_uri": "https://localhost:8080/"
        },
        "id": "_w5xJ_ujp2mt",
        "outputId": "6e3e3059-c6a8-4f34-ae3c-10b1c8c16861"
      },
      "execution_count": 119,
      "outputs": [
        {
          "output_type": "stream",
          "name": "stdout",
          "text": [
            "[  0.           2.03479303   1.22649987 174.30974219 252.91901911\n",
            " 202.35038895 169.0897091  150.75019579 132.19152339 117.62881641\n",
            " 105.90082441  96.48336359  98.91884117] [  0.         161.81974267 160.90345713 128.05387816 108.83516675\n",
            " 108.96284579 109.76620619 106.80245531 107.32002224 107.70096096\n",
            " 107.9199711  107.40386632 103.89628418]\n"
          ]
        }
      ]
    },
    {
      "cell_type": "code",
      "source": [
        "fig, ax = plt.subplots(figsize=(12, 8))\n",
        "ax.plot(np.arange(X_scale_insert.shape[0] + 1), trainCost2, color=\"blue\", label=\"Train\")\n",
        "ax.plot(np.arange(1, X_scale_insert.shape[0] + 1), valCost2[1:,], color=\"green\", label=\"Validation\")\n",
        "ax.legend()\n",
        "ax.set_xlabel(\"Number of the examples\")\n",
        "ax.set_ylabel(\"Error\")\n",
        "plt.xticks(np.arange(0, 13, 1))\n",
        "# plt.yticks(np.arange(0, 101, 10))\n",
        "plt.show()"
      ],
      "metadata": {
        "colab": {
          "base_uri": "https://localhost:8080/",
          "height": 497
        },
        "outputId": "0fc8d932-6d85-478a-dc82-685e9b302093",
        "id": "W1VjUFiotHP6"
      },
      "execution_count": 120,
      "outputs": [
        {
          "output_type": "display_data",
          "data": {
            "text/plain": [
              "<Figure size 864x576 with 1 Axes>"
            ],
            "image/png": "[encoded data removed]"
          },
          "metadata": {
            "needs_background": "light"
          }
        }
      ]
    },
    {
      "cell_type": "markdown",
      "source": [
        "## 找到最佳的λ\n",
        "<font color='red'>似乎有问题？</font>"
      ],
      "metadata": {
        "id": "2mwt99H_Btgu"
      }
    },
    {
      "cell_type": "code",
      "source": [
        "def findBestLambda(X, y, Xval, yval, l_candidate):\n",
        "  train_cost, cv_cost = [], []\n",
        "  Iterations, LearningRate = 1500, 0.1\n",
        "  for lambd in l_candidate:\n",
        "    theta = runGradientDescent(X, y, lambd, Iterations, LearningRate)\n",
        "\n",
        "    tc = ComputeLinearRegressionCostReg(X, y, theta, lambd)\n",
        "    vc = ComputeLinearRegressionCostReg(Xval, yval, theta, lambd)\n",
        "\n",
        "    train_cost.append(tc)\n",
        "    cv_cost.append(vc)\n",
        "  \n",
        "  fig, ax = plt.subplots(figsize=(12, 8))\n",
        "  ax.plot(l_candidate, train_cost, color=\"blue\", label=\"Train\")\n",
        "  ax.plot(l_candidate, cv_cost, color=\"green\", label=\"Validation\")\n",
        "  ax.legend()\n",
        "  ax.set_xlabel(\"lambda\")\n",
        "  ax.set_ylabel(\"Error\")\n",
        "  plt.show()"
      ],
      "metadata": {
        "id": "eItZchC_BtjV"
      },
      "execution_count": 95,
      "outputs": []
    },
    {
      "cell_type": "code",
      "source": [
        "l_candidate = [0, 0.001, 0.003, 0.01, 0.03, 0.1, 0.3, 1, 3, 10]\n",
        "\n",
        "X_poly = createPolynomial(X, 8)\n",
        "X_scale = featureNormalization(X_poly)\n",
        "X_scale_insert = np.insert(X_scale, 0, values=1, axis=1) # X_scale_insert - (12, 9)\n",
        "Xval_poly = createPolynomial(Xval, 8)\n",
        "Xval_scale = featureNormalization(Xval_poly)\n",
        "Xval_scale_insert = np.insert(Xval_scale, 0, values=1, axis=1) # Xval_scale_insert - (12, 9)\n",
        "\n",
        "lambd = findBestLambda(X_scale_insert, y, Xval_scale_insert, yval, l_candidate)"
      ],
      "metadata": {
        "colab": {
          "base_uri": "https://localhost:8080/",
          "height": 497
        },
        "id": "_5iWXcbOB9IU",
        "outputId": "b5aa0429-83ac-4439-fa16-b1af5a6773e5"
      },
      "execution_count": 106,
      "outputs": [
        {
          "output_type": "display_data",
          "data": {
            "text/plain": [
              "<Figure size 864x576 with 1 Axes>"
            ],
            "image/png": "[encoded data removed]"
          },
          "metadata": {
            "needs_background": "light"
          }
        }
      ]
    },
    {
      "cell_type": "markdown",
      "source": [
        "## 计算测试误差\n"
      ],
      "metadata": {
        "id": "GVgQ-8lzbOsE"
      }
    },
    {
      "cell_type": "code",
      "source": [
        "def ComputeTestCost(X, y, Xtest, ytest, lambd, Iterations, LearningRate):\n",
        "  theta = runGradientDescent(X, y, lambd, Iterations, LearningRate)\n",
        "\n",
        "  test_cost = ComputeLinearRegressionCostReg(Xtest, ytest, theta, lambd)\n",
        "\n",
        "  return test_cost"
      ],
      "metadata": {
        "id": "fw1c0QmvbWPC"
      },
      "execution_count": 123,
      "outputs": []
    },
    {
      "cell_type": "code",
      "source": [
        "Xtest_poly = createPolynomial(Xtest, 8)\n",
        "Xtest_scale = featureNormalization(Xtest_poly)\n",
        "Xtest_scale_insert = np.insert(Xtest_scale, 0, values=1, axis=1) # Xval_scale_insert - (12, 9)\n",
        "\n",
        "ComputeTestCost(X_scale_insert, y, Xtest_scale_insert, ytest, lambd=0, Iterations=1500, LearningRate=0.1)"
      ],
      "metadata": {
        "colab": {
          "base_uri": "https://localhost:8080/"
        },
        "id": "OXaYD7xxby7-",
        "outputId": "acfc7a47-646d-423e-9c54-728fabbc3656"
      },
      "execution_count": 124,
      "outputs": [
        {
          "output_type": "execute_result",
          "data": {
            "text/plain": [
              "11.55765716677366"
            ]
          },
          "metadata": {},
          "execution_count": 124
        }
      ]
    }
  ]
}