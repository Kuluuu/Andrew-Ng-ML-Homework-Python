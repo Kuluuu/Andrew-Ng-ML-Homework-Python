{
  "nbformat": 4,
  "nbformat_minor": 0,
  "metadata": {
    "colab": {
      "name": "ex5-Regularized Linear Regression and Bias v.s Variance-1.ipynb",
      "provenance": [],
      "collapsed_sections": [],
      "toc_visible": true
    },
    "kernelspec": {
      "name": "python3",
      "display_name": "Python 3"
    },
    "language_info": {
      "name": "python"
    }
  },
  "cells": [
    {
      "cell_type": "markdown",
      "source": [
        "# 导入包"
      ],
      "metadata": {
        "id": "QBtw6Z7JKbsJ"
      }
    },
    {
      "cell_type": "code",
      "source": [
        "import numpy as np\n",
        "import matplotlib.pyplot as plt\n",
        "import scipy.io as io\n",
        "\n",
        "base = \"/content/drive/MyDrive/Colab Notebooks/AndrewNg-Machine-Learning-Homework/ex5-Regularized-Linear-Regression-and-Bias-v.s-Variance\""
      ],
      "metadata": {
        "id": "Ey86-Q1YKc1_"
      },
      "execution_count": 4,
      "outputs": []
    },
    {
      "cell_type": "markdown",
      "source": [
        "# 导入数据"
      ],
      "metadata": {
        "id": "tJ1wsyrRKTv2"
      }
    },
    {
      "cell_type": "code",
      "source": [
        "path = base + \"/ex5data1.mat\"\n",
        "data = io.loadmat(path)\n",
        "data"
      ],
      "metadata": {
        "colab": {
          "base_uri": "https://localhost:8080/"
        },
        "id": "EoSDmp3HKbgz",
        "outputId": "11c68bc1-a03b-48c9-b7a1-fe0b6ffa02f2"
      },
      "execution_count": 5,
      "outputs": [
        {
          "output_type": "execute_result",
          "data": {
            "text/plain": [
              "{'X': array([[-15.93675813],\n",
              "        [-29.15297922],\n",
              "        [ 36.18954863],\n",
              "        [ 37.49218733],\n",
              "        [-48.05882945],\n",
              "        [ -8.94145794],\n",
              "        [ 15.30779289],\n",
              "        [-34.70626581],\n",
              "        [  1.38915437],\n",
              "        [-44.38375985],\n",
              "        [  7.01350208],\n",
              "        [ 22.76274892]]), 'Xtest': array([[-33.31800399],\n",
              "        [-37.91216403],\n",
              "        [-51.20693795],\n",
              "        [ -6.13259585],\n",
              "        [ 21.26118327],\n",
              "        [-40.31952949],\n",
              "        [-14.54153167],\n",
              "        [ 32.55976024],\n",
              "        [ 13.39343255],\n",
              "        [ 44.20988595],\n",
              "        [ -1.14267768],\n",
              "        [-12.76686065],\n",
              "        [ 34.05450539],\n",
              "        [ 39.22350028],\n",
              "        [  1.97449674],\n",
              "        [ 29.6217551 ],\n",
              "        [-23.66962971],\n",
              "        [ -9.01180139],\n",
              "        [-55.94057091],\n",
              "        [-35.70859752],\n",
              "        [  9.51020533]]), 'Xval': array([[-16.74653578],\n",
              "        [-14.57747075],\n",
              "        [ 34.51575866],\n",
              "        [-47.01007574],\n",
              "        [ 36.97511905],\n",
              "        [-40.68611002],\n",
              "        [ -4.47201098],\n",
              "        [ 26.53363489],\n",
              "        [-42.7976831 ],\n",
              "        [ 25.37409938],\n",
              "        [-31.10955398],\n",
              "        [ 27.31176864],\n",
              "        [ -3.26386201],\n",
              "        [ -1.81827649],\n",
              "        [-40.7196624 ],\n",
              "        [-50.01324365],\n",
              "        [-17.41177155],\n",
              "        [  3.5881937 ],\n",
              "        [  7.08548026],\n",
              "        [ 46.28236902],\n",
              "        [ 14.61228909]]), '__globals__': [], '__header__': b'MATLAB 5.0 MAT-file, Platform: GLNXA64, Created on: Fri Nov  4 22:27:26 2011', '__version__': '1.0', 'y': array([[ 2.13431051],\n",
              "        [ 1.17325668],\n",
              "        [34.35910918],\n",
              "        [36.83795516],\n",
              "        [ 2.80896507],\n",
              "        [ 2.12107248],\n",
              "        [14.71026831],\n",
              "        [ 2.61418439],\n",
              "        [ 3.74017167],\n",
              "        [ 3.73169131],\n",
              "        [ 7.62765885],\n",
              "        [22.7524283 ]]), 'ytest': array([[ 3.31688953],\n",
              "        [ 5.39768952],\n",
              "        [ 0.13042984],\n",
              "        [ 6.1925982 ],\n",
              "        [17.08848712],\n",
              "        [ 0.79950805],\n",
              "        [ 2.82479183],\n",
              "        [28.62123334],\n",
              "        [17.04639081],\n",
              "        [55.38437334],\n",
              "        [ 4.07936733],\n",
              "        [ 8.27039793],\n",
              "        [31.32355102],\n",
              "        [39.15906103],\n",
              "        [ 8.08727989],\n",
              "        [24.11134389],\n",
              "        [ 2.4773548 ],\n",
              "        [ 6.56606472],\n",
              "        [ 6.0380888 ],\n",
              "        [ 4.69273956],\n",
              "        [10.83004606]]), 'yval': array([[ 4.17020201e+00],\n",
              "        [ 4.06726280e+00],\n",
              "        [ 3.18730676e+01],\n",
              "        [ 1.06236562e+01],\n",
              "        [ 3.18360213e+01],\n",
              "        [ 4.95936972e+00],\n",
              "        [ 4.45159880e+00],\n",
              "        [ 2.22763185e+01],\n",
              "        [-4.38738274e-05],\n",
              "        [ 2.05038016e+01],\n",
              "        [ 3.85834476e+00],\n",
              "        [ 1.93650529e+01],\n",
              "        [ 4.88376281e+00],\n",
              "        [ 1.10971588e+01],\n",
              "        [ 7.46170827e+00],\n",
              "        [ 1.47693464e+00],\n",
              "        [ 2.71916388e+00],\n",
              "        [ 1.09269007e+01],\n",
              "        [ 8.34871235e+00],\n",
              "        [ 5.27819280e+01],\n",
              "        [ 1.33573396e+01]])}"
            ]
          },
          "metadata": {},
          "execution_count": 5
        }
      ]
    },
    {
      "cell_type": "markdown",
      "source": [
        "# 数据切割\n",
        "This dataset is divided into three parts:\n",
        "+ A training set that your model will learn on: X, y\n",
        "+ A cross validation set for determining the regularization parameter:\n",
        "Xval, yval\n",
        "+ A test set for evaluating performance. These are “unseen” examples\n",
        "which your model did not see during training: Xtest, ytest"
      ],
      "metadata": {
        "id": "eeB34WMZKvxT"
      }
    },
    {
      "cell_type": "code",
      "source": [
        "X = data[\"X\"]\n",
        "y = data[\"y\"]\n",
        "Xtest = data[\"Xtest\"]\n",
        "ytest = data[\"ytest\"]\n",
        "Xval = data[\"Xval\"]\n",
        "yval = data[\"yval\"]\n",
        "\n",
        "print(\"X：\", X)\n",
        "print(\"y：\", y)\n",
        "print(\"Xtest：\", Xtest)\n",
        "print(\"ytest：\", ytest)\n",
        "print(\"Xval：\", Xval)\n",
        "print(\"yval：\", yval)"
      ],
      "metadata": {
        "colab": {
          "base_uri": "https://localhost:8080/"
        },
        "id": "fhzM_4oJKvzw",
        "outputId": "20a9f9e9-1daa-4034-dee3-7e563c906a26"
      },
      "execution_count": 199,
      "outputs": [
        {
          "output_type": "stream",
          "name": "stdout",
          "text": [
            "X： [[-15.93675813]\n",
            " [-29.15297922]\n",
            " [ 36.18954863]\n",
            " [ 37.49218733]\n",
            " [-48.05882945]\n",
            " [ -8.94145794]\n",
            " [ 15.30779289]\n",
            " [-34.70626581]\n",
            " [  1.38915437]\n",
            " [-44.38375985]\n",
            " [  7.01350208]\n",
            " [ 22.76274892]]\n",
            "y： [[ 2.13431051]\n",
            " [ 1.17325668]\n",
            " [34.35910918]\n",
            " [36.83795516]\n",
            " [ 2.80896507]\n",
            " [ 2.12107248]\n",
            " [14.71026831]\n",
            " [ 2.61418439]\n",
            " [ 3.74017167]\n",
            " [ 3.73169131]\n",
            " [ 7.62765885]\n",
            " [22.7524283 ]]\n",
            "Xtest： [[-33.31800399]\n",
            " [-37.91216403]\n",
            " [-51.20693795]\n",
            " [ -6.13259585]\n",
            " [ 21.26118327]\n",
            " [-40.31952949]\n",
            " [-14.54153167]\n",
            " [ 32.55976024]\n",
            " [ 13.39343255]\n",
            " [ 44.20988595]\n",
            " [ -1.14267768]\n",
            " [-12.76686065]\n",
            " [ 34.05450539]\n",
            " [ 39.22350028]\n",
            " [  1.97449674]\n",
            " [ 29.6217551 ]\n",
            " [-23.66962971]\n",
            " [ -9.01180139]\n",
            " [-55.94057091]\n",
            " [-35.70859752]\n",
            " [  9.51020533]]\n",
            "ytest： [[ 3.31688953]\n",
            " [ 5.39768952]\n",
            " [ 0.13042984]\n",
            " [ 6.1925982 ]\n",
            " [17.08848712]\n",
            " [ 0.79950805]\n",
            " [ 2.82479183]\n",
            " [28.62123334]\n",
            " [17.04639081]\n",
            " [55.38437334]\n",
            " [ 4.07936733]\n",
            " [ 8.27039793]\n",
            " [31.32355102]\n",
            " [39.15906103]\n",
            " [ 8.08727989]\n",
            " [24.11134389]\n",
            " [ 2.4773548 ]\n",
            " [ 6.56606472]\n",
            " [ 6.0380888 ]\n",
            " [ 4.69273956]\n",
            " [10.83004606]]\n",
            "Xval： [[-16.74653578]\n",
            " [-14.57747075]\n",
            " [ 34.51575866]\n",
            " [-47.01007574]\n",
            " [ 36.97511905]\n",
            " [-40.68611002]\n",
            " [ -4.47201098]\n",
            " [ 26.53363489]\n",
            " [-42.7976831 ]\n",
            " [ 25.37409938]\n",
            " [-31.10955398]\n",
            " [ 27.31176864]\n",
            " [ -3.26386201]\n",
            " [ -1.81827649]\n",
            " [-40.7196624 ]\n",
            " [-50.01324365]\n",
            " [-17.41177155]\n",
            " [  3.5881937 ]\n",
            " [  7.08548026]\n",
            " [ 46.28236902]\n",
            " [ 14.61228909]]\n",
            "yval： [[ 4.17020201e+00]\n",
            " [ 4.06726280e+00]\n",
            " [ 3.18730676e+01]\n",
            " [ 1.06236562e+01]\n",
            " [ 3.18360213e+01]\n",
            " [ 4.95936972e+00]\n",
            " [ 4.45159880e+00]\n",
            " [ 2.22763185e+01]\n",
            " [-4.38738274e-05]\n",
            " [ 2.05038016e+01]\n",
            " [ 3.85834476e+00]\n",
            " [ 1.93650529e+01]\n",
            " [ 4.88376281e+00]\n",
            " [ 1.10971588e+01]\n",
            " [ 7.46170827e+00]\n",
            " [ 1.47693464e+00]\n",
            " [ 2.71916388e+00]\n",
            " [ 1.09269007e+01]\n",
            " [ 8.34871235e+00]\n",
            " [ 5.27819280e+01]\n",
            " [ 1.33573396e+01]]\n"
          ]
        }
      ]
    },
    {
      "cell_type": "markdown",
      "source": [
        "# 正则化的线性回归"
      ],
      "metadata": {
        "id": "7goC1bNqLSbL"
      }
    },
    {
      "cell_type": "markdown",
      "source": [
        "## 数据可视化"
      ],
      "metadata": {
        "id": "fovAeAjDLWdT"
      }
    },
    {
      "cell_type": "code",
      "source": [
        "fig, ax = plt.subplots(figsize=(12, 8))\n",
        "ax.scatter(X, y, color=\"r\", s=100, marker=\"x\")\n",
        "ax.set_xlabel(\"Change in water level(x)\")\n",
        "ax.set_ylabel(\"Water flowing out of the dam(y)\")\n",
        "plt.xticks(np.arange(-50, 41, 10))\n",
        "plt.yticks(np.arange(0, 41, 5))\n",
        "plt.show()"
      ],
      "metadata": {
        "colab": {
          "base_uri": "https://localhost:8080/",
          "height": 501
        },
        "id": "aqdmk5CsLSeg",
        "outputId": "26c80444-47a4-48f5-f460-8438741674c5"
      },
      "execution_count": 72,
      "outputs": [
        {
          "output_type": "display_data",
          "data": {
            "text/plain": [
              "<Figure size 864x576 with 1 Axes>"
            ],
            "image/png": "[encoded data removed]"
          },
          "metadata": {
            "needs_background": "light"
          }
        }
      ]
    },
    {
      "cell_type": "markdown",
      "source": [
        "## 线性回归假设函数\n",
        "实现公式：\n",
        "$$\n",
        "h_\\theta(x)=X \\theta \n",
        "$$"
      ],
      "metadata": {
        "id": "laO9ljUqNsWm"
      }
    },
    {
      "cell_type": "code",
      "source": [
        "def Hypothesis(X, theta):\n",
        "  # X - (m, n+1)\n",
        "  # theta - (n+1, 1)\n",
        "  return X @ theta"
      ],
      "metadata": {
        "id": "gzHUHXP2Nsau"
      },
      "execution_count": 17,
      "outputs": []
    },
    {
      "cell_type": "markdown",
      "source": [
        "## 正则化的线性回归代价函数\n",
        "公式：\n",
        "$$\n",
        "J(\\theta)=\\frac{1}{2m}\\sum_{i=1}^m(h_\\theta(x^{(i)})-y^{(i)})^2+\\frac{\\lambda}{2m}\\sum_{i=1}^n\\theta_j^2\n",
        "$$\n",
        "\n",
        "***\n",
        "实现公式：\n",
        "$$\n",
        "J(\\theta)=\\frac{1}{2m}(h_\\theta(X)-y)^T(h_\\theta(X)-y)+\\frac{\\lambda}{2m}\\theta^T\\theta\n",
        "$$"
      ],
      "metadata": {
        "id": "1-3EoQu7MLkP"
      }
    },
    {
      "cell_type": "code",
      "source": [
        "def ComputeLinearRegressionCostReg(X, y, theta, lambd):\n",
        "  m = X.shape[0]\n",
        "  y_hat = Hypothesis(X, theta)\n",
        "  \n",
        "  first = (y_hat - y).T @ (y_hat - y) / (2*m)\n",
        "  reg = lambd * (theta.T @ theta) / (2*m)\n",
        "\n",
        "  ret = (float)(first + reg)\n",
        "  return ret"
      ],
      "metadata": {
        "id": "DrhGec7gMLng"
      },
      "execution_count": 31,
      "outputs": []
    },
    {
      "cell_type": "code",
      "source": [
        "X_insert = np.insert(X, 0, values=1, axis=1)\n",
        "theta = np.ones([X_insert.shape[1], 1])\n",
        "lambd = 1\n",
        "\n",
        "ComputeLinearRegressionCostReg(X_insert, y, theta, lambd)"
      ],
      "metadata": {
        "colab": {
          "base_uri": "https://localhost:8080/"
        },
        "id": "JNFRB15xUY5Q",
        "outputId": "34d88791-4390-49cc-d6c7-5fb75a48f65c"
      },
      "execution_count": 35,
      "outputs": [
        {
          "output_type": "execute_result",
          "data": {
            "text/plain": [
              "304.0348588869309"
            ]
          },
          "metadata": {},
          "execution_count": 35
        }
      ]
    },
    {
      "cell_type": "markdown",
      "source": [
        "## 正则化的线性回归梯度\n",
        "公式：\n",
        "$$\n",
        "\\begin{aligned}\n",
        "\\frac{\\partial J(\\theta )}{\\partial \\theta _0} &=\\frac{1}{m}\\sum_{i=1}^m(h_\\theta(x^{(i)})-y^{(i)})x_j^{(i)} \\ \\ \\ \\ \\ \\ \\ \\ \\ \\ \\ \\ \\ \\ \\ \\ \\ \\ \\ for\\ j = 0\\\\\n",
        "\\frac{\\partial J(\\theta )}{\\partial \\theta _0} &=(\\frac{1}{m}\\sum_{i=1}^m(h_\\theta(x^{(i)})-y^{(i)})x_j^{(i)} )+\\frac{\\lambda }{m}\\theta _j\\ \\ \\ for\\ j \\ge 1\n",
        "\\end{aligned}\n",
        "$$\n",
        "\n",
        "***\n",
        "实现公式：\n",
        "$$\n",
        "\\frac{\\partial J(\\theta )}{\\partial \\theta} = \\frac{1}{m}X^T(h_\\theta(X)-y)+\\frac{\\lambda}{m}\\Theta\n",
        "$$\n",
        "\n",
        "其中：$\\Theta = \\begin{bmatrix}\n",
        "0 \\\\\n",
        "\\theta_1 \\\\\n",
        "\\theta_2 \\\\\n",
        "\\vdots \\\\\n",
        "\\theta_n\n",
        "\\end{bmatrix}_{(n+1)\\times 1}$"
      ],
      "metadata": {
        "id": "j9v7s1EeQUWm"
      }
    },
    {
      "cell_type": "code",
      "source": [
        "def ComputeLinearRegressionGradientReg(X, y, theta, lambd):\n",
        "  m = X.shape[0]\n",
        "  y_hat = Hypothesis(X, theta)\n",
        "  \n",
        "  Theta = np.insert(theta, 0, values=0, axis=0)\n",
        "\n",
        "  first = X.T @ (y_hat - y) / m\n",
        "  reg = lambd * theta / m\n",
        "\n",
        "  return first + reg"
      ],
      "metadata": {
        "id": "uLRqopJoQUZ1"
      },
      "execution_count": 33,
      "outputs": []
    },
    {
      "cell_type": "code",
      "source": [
        "X_insert = np.insert(X, 0, values=1, axis=1)\n",
        "theta = np.ones([X_insert.shape[1], 1])\n",
        "lambd = 1\n",
        "\n",
        "ComputeLinearRegressionGradientReg(X_insert, y, theta, lambd)"
      ],
      "metadata": {
        "colab": {
          "base_uri": "https://localhost:8080/"
        },
        "id": "ivjLJASqPWvu",
        "outputId": "7f520aa2-840c-4b1e-9fd9-2b5bb4077a52"
      },
      "execution_count": 34,
      "outputs": [
        {
          "output_type": "execute_result",
          "data": {
            "text/plain": [
              "array([[-15.21968234],\n",
              "       [598.25074417]])"
            ]
          },
          "metadata": {},
          "execution_count": 34
        }
      ]
    },
    {
      "cell_type": "markdown",
      "source": [
        "## 梯度下降"
      ],
      "metadata": {
        "id": "bOJGtP5_Ujdd"
      }
    },
    {
      "cell_type": "code",
      "source": [
        "def trainLinearReg(X, y, theta, lambd, Iterations, LearningRate):\n",
        "  cost = np.zeros(Iterations)\n",
        "  for i in range(Iterations):\n",
        "    theta -= LearningRate * ComputeLinearRegressionGradientReg(X, y, theta, lambd)\n",
        "    cost[i] = ComputeLinearRegressionCostReg(X, y, theta, lambd)\n",
        "\n",
        "  return theta, cost"
      ],
      "metadata": {
        "id": "DXhYVZBWUjgY"
      },
      "execution_count": 56,
      "outputs": []
    },
    {
      "cell_type": "code",
      "source": [
        "X_insert = np.insert(X, 0, values=1, axis=1)\n",
        "theta = np.zeros([X_insert.shape[1], 1])\n",
        "lambd = 0\n",
        "Iterations = 1500\n",
        "LearningRate = 0.002\n",
        "\n",
        "theta, cost = trainLinearReg(X_insert, y, theta, lambd, Iterations, LearningRate)\n",
        "print(cost)"
      ],
      "metadata": {
        "colab": {
          "base_uri": "https://localhost:8080/"
        },
        "id": "n9Re84xBU5WC",
        "outputId": "f78c5765-6637-4245-9a72-9681577e1cc1"
      },
      "execution_count": 69,
      "outputs": [
        {
          "output_type": "stream",
          "name": "stdout",
          "text": [
            "[122.41100343 113.21624483 108.57499107 ...  22.62165771  22.62069786\n",
            "  22.61974173]\n"
          ]
        }
      ]
    },
    {
      "cell_type": "markdown",
      "source": [
        "## 可视化拟合曲线"
      ],
      "metadata": {
        "id": "ZcFJwwrRVQW5"
      }
    },
    {
      "cell_type": "code",
      "source": [
        "x = np.arange(-50, 40, 1)\n",
        "f = theta[0] + theta[1] * x\n",
        "\n",
        "fig, ax = plt.subplots(figsize=(12, 8))\n",
        "ax.scatter(X, y, color=\"r\", s=100, marker=\"x\")\n",
        "ax.plot(x, f, color=\"Blue\")\n",
        "ax.set_xlabel(\"Change in water level(x)\")\n",
        "ax.set_ylabel(\"Water flowing out of the dam(y)\")\n",
        "plt.xticks(np.arange(-50, 41, 10))\n",
        "plt.yticks(np.arange(-5, 41, 5))\n",
        "plt.show()"
      ],
      "metadata": {
        "colab": {
          "base_uri": "https://localhost:8080/",
          "height": 501
        },
        "id": "BU7keI4nVQZ7",
        "outputId": "8ad8dbff-8db4-4d5b-e2dd-9a2763eca4d8"
      },
      "execution_count": 77,
      "outputs": [
        {
          "output_type": "display_data",
          "data": {
            "text/plain": [
              "<Figure size 864x576 with 1 Axes>"
            ],
            "image/png": "[encoded data removed]"
          },
          "metadata": {
            "needs_background": "light"
          }
        }
      ]
    },
    {
      "cell_type": "markdown",
      "source": [
        "# 偏差和方差"
      ],
      "metadata": {
        "id": "2_cT2VUhYXO6"
      }
    },
    {
      "cell_type": "markdown",
      "source": [
        "## 学习曲线\n",
        "改变训练集的大小传入梯度下降中进行训练，得到theta参数，在整个验证集上计算验证误差。\n"
      ],
      "metadata": {
        "id": "qKKtaEZ4ZVrB"
      }
    },
    {
      "cell_type": "markdown",
      "source": [
        "### 代价函数\n",
        "$$\n",
        "J_{\\text {train }}(\\theta)=\\frac{1}{2 m}\\left[\\sum_{i=1}^{m}\\left(h_{\\theta}\\left(x^{(i)}\\right)-y^{(i)}\\right)^{2}\\right]\n",
        "$$"
      ],
      "metadata": {
        "id": "VuiKA-68eKZ8"
      }
    },
    {
      "cell_type": "code",
      "source": [
        "def ComputeLinearRegressionCost(X, y, theta):\n",
        "  m = X.shape[0]\n",
        "  y_hat = Hypothesis(X, theta)\n",
        "  \n",
        "  return (y_hat - y).T @ (y_hat - y) / (2*m)"
      ],
      "metadata": {
        "id": "Z_rZHWaEYXSU"
      },
      "execution_count": 80,
      "outputs": []
    },
    {
      "cell_type": "markdown",
      "source": [
        "### 梯度下降"
      ],
      "metadata": {
        "id": "5_xQrmLmePOF"
      }
    },
    {
      "cell_type": "code",
      "source": [
        "def runGradientDescent(X_insert, y, lambd):\n",
        "  theta = np.zeros([X_insert.shape[1], 1])\n",
        "  Iterations = 1500\n",
        "  LearningRate = 0.001\n",
        "\n",
        "  theta, cost = trainLinearReg(X_insert, y, theta, lambd, Iterations, LearningRate)\n",
        "  return theta"
      ],
      "metadata": {
        "id": "n5whjJpRc1EL"
      },
      "execution_count": 194,
      "outputs": []
    },
    {
      "cell_type": "markdown",
      "source": [
        "### 绘制学习曲线"
      ],
      "metadata": {
        "id": "nqkvie9jeQa_"
      }
    },
    {
      "cell_type": "code",
      "source": [
        "def plotLearningCurve(X, y, Xval, yval, lambd):\n",
        "  trainCost = np.zeros(X.shape[0] + 1)\n",
        "  valCost = np.zeros(X.shape[0] + 1)\n",
        "\n",
        "  for i in range(1, X.shape[0] + 1):\n",
        "    theta = runGradientDescent(X[:i,], y[:i,], lambd)\n",
        "    \n",
        "    trainCost[i] = ComputeLinearRegressionCost(X[:i,], y[:i,], theta)\n",
        "    valCost[i] = ComputeLinearRegressionCost(Xval, yval, theta)\n",
        "\n",
        "  return trainCost, valCost"
      ],
      "metadata": {
        "id": "wfTyu2XIZwxh"
      },
      "execution_count": 192,
      "outputs": []
    },
    {
      "cell_type": "code",
      "source": [
        "X_insert = np.insert(X, 0, values=1, axis=1)\n",
        "Xval_insert = np.insert(Xval, 0, values=1, axis=1)\n",
        "\n",
        "trainCost, valCost = plotLearningCurve(X_insert, y, Xval_insert, yval, lambd=0)\n",
        "trainCost, valCost"
      ],
      "metadata": {
        "colab": {
          "base_uri": "https://localhost:8080/"
        },
        "id": "ygc4Uga_bxxV",
        "outputId": "15ce8361-c4de-4e30-a8b3-9736a66b304d"
      },
      "execution_count": 195,
      "outputs": [
        {
          "output_type": "execute_result",
          "data": {
            "text/plain": [
              "(array([0.00000000e+00, 9.86076132e-32, 3.37981436e-01, 8.37840382e+00,\n",
              "        8.74821265e+00, 2.07047329e+01, 2.56044855e+01, 2.51971047e+01,\n",
              "        2.38993693e+01, 2.72878443e+01, 2.89066385e+01, 2.90573070e+01,\n",
              "        2.68990261e+01]),\n",
              " array([  0.        , 205.12109575, 172.06364052,  51.28955084,\n",
              "         62.56973025,  32.93770341,  36.43159646,  38.02190964,\n",
              "         35.47596499,  38.86409355,  36.37545074,  38.79119973,\n",
              "         37.74535003]))"
            ]
          },
          "metadata": {},
          "execution_count": 195
        }
      ]
    },
    {
      "cell_type": "code",
      "source": [
        "fig, ax = plt.subplots(figsize=(12, 8))\n",
        "ax.plot(np.arange(X.shape[0] + 1), trainCost, color=\"blue\", label=\"Train\")\n",
        "ax.plot(np.arange(1, X.shape[0] + 1), valCost[1:,], color=\"green\", label=\"Validation\")\n",
        "ax.legend()\n",
        "ax.set_xlabel(\"Number of the examples\")\n",
        "ax.set_ylabel(\"Error\")\n",
        "plt.xticks(np.arange(0, 13, 1))\n",
        "plt.yticks(np.arange(0, 201, 50))\n",
        "plt.show()"
      ],
      "metadata": {
        "colab": {
          "base_uri": "https://localhost:8080/",
          "height": 497
        },
        "id": "f7onf0e7a1df",
        "outputId": "54afe631-4b31-4cc6-992e-34e3c6c1e54d"
      },
      "execution_count": 196,
      "outputs": [
        {
          "output_type": "display_data",
          "data": {
            "text/plain": [
              "<Figure size 864x576 with 1 Axes>"
            ],
            "image/png": "[encoded data removed]"
          },
          "metadata": {
            "needs_background": "light"
          }
        }
      ]
    }
  ]
}